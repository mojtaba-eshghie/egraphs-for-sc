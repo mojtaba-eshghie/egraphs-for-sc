{
  "nbformat": 4,
  "nbformat_minor": 0,
  "metadata": {
    "colab": {
      "provenance": [],
      "include_colab_link": true
    },
    "kernelspec": {
      "name": "python3",
      "display_name": "Python 3"
    }
  },
  "cells": [
    {
      "cell_type": "markdown",
      "metadata": {
        "id": "view-in-github",
        "colab_type": "text"
      },
      "source": [
        "<a href=\"https://colab.research.google.com/github/mojtaba-eshghie/egraphs-for-sc/blob/main/egraphs_example.ipynb\" target=\"_parent\"><img src=\"https://colab.research.google.com/assets/colab-badge.svg\" alt=\"Open In Colab\"/></a>"
      ]
    },
    {
      "cell_type": "markdown",
      "metadata": {
        "id": "HFNsw8Rm-sZg"
      },
      "source": [
        "Intro to EGraphs\n",
        "----------------\n",
        "\n",
        "Normally when you have an IR, each node has exactly one definition for a value:\n",
        "\n",
        "```\n",
        "t = a * 2\n",
        "r = t / 2\n",
        "```\n",
        "What if we allow the IR to define _multiple_ ways to compute a value?\n",
        "\n",
        "```\n",
        "t = {a * 2, a << 1} # two equivalent ways to compute t\n",
        "r = {t / 2}\n",
        "```\n",
        "\n",
        "E-graphs (e for equivalence) are a way of doing this while efficiently detecting places in the IR where identitcal expressions can be merged into equivlance class.\n",
        "\n",
        "\n",
        "Why would you want to do this? In normal IR, any time you have a rewrite rule (e.g. replace a dvision by 2 with a shift), you have to decide at the moment whether the rewrite is profitable, but that decision is not always local. For instance, in the example above you might also have a set of rewrites that will detect that `r == a`, but this set of rules will fail to apply if you first \n",
        "rewrite `t = a << 1`.\n",
        "\n",
        "By keeping track of _every_ way to compute something, you guarentee that if there is a path to a simpler expressions, you can find it regardless of the order the rules are applied. Rewrites are idempotent: they simply add new information to your IR, rather than removing nodes and adding other nodes. For a lot of rewrites, you can reach a fixed point where you know that no further rewrites will apply. Furthermore, you can use all the equivalence classes to propagate analysis results from one definition to all members of the class. \n",
        "\n",
        "\n",
        "This form of IR is pretty appealing for ML: there are a lot of times where you have multiple ways to express something, each with its own advantages:\n",
        "\n",
        "* For batchnorm, you have the fused batchnorm op, and the set of decomposed operations. The fused op is faster in isolation, but the decomposed ops may be able to be folded into compute happening before or after the node.\n",
        "* You might have `Linear` node in the graph that can be represented as a multiply plus a bias, with some rewrite passes wanted to act on the entire Linear pattern to fit libraries like MKL.\n",
        "* Depending on device, you might define an operator and its gradient slightly differently. For example, some backwards might use the pre-relu activation, others the post-relu activation.\n",
        "\n",
        "This is an executable prototype of the code discussed in the egraphs good paper (https://egraphs-good.github.io). It is not a fast implementation but it does show you enough detail so that you can understand and implement these ideas in your use cases."
      ]
    },
    {
      "cell_type": "code",
      "metadata": {
        "id": "O38vA_Pd8bIl"
      },
      "source": [
        "from graphviz import Digraph\n",
        "from typing import NamedTuple, Dict,List, Optional"
      ],
      "execution_count": null,
      "outputs": []
    },
    {
      "cell_type": "markdown",
      "metadata": {
        "id": "iGJwwAGxa4LJ"
      },
      "source": [
        "Expressions\n",
        "===========\n",
        "\n",
        "Let's start by defining a small expression language. It will just have one node type, with a key and an optional list of arguments."
      ]
    },
    {
      "cell_type": "code",
      "metadata": {
        "id": "Auo-SeQ7bGRW"
      },
      "source": [
        "class Node(NamedTuple):\n",
        "  key: 'Either[str, int]' # use int to represent int literals,\n",
        "  args: 'Tuple[Node,...]'\n",
        "\n",
        "  # overload some operators to allow us to easily construct these\n",
        "  def _mk_op(key):\n",
        "    return lambda *args: Node(key, tuple(arg if isinstance(arg, Node) else Node(arg, ()) for arg in args))\n",
        "  __add__ = _mk_op('+')\n",
        "  __mul__ = _mk_op('*')\n",
        "  __lshift__ = _mk_op('<<')\n",
        "  __truediv__ = _mk_op('/')\n",
        "  # print it out like an s-expr\n",
        "  def __repr__(self):\n",
        "    if self.args:\n",
        "      return f'({self.key} {\" \".join(str(arg) for arg in self.args)})'\n",
        "    else:\n",
        "      return str(self.key)"
      ],
      "execution_count": null,
      "outputs": []
    },
    {
      "cell_type": "markdown",
      "metadata": {
        "id": "R_wnQRf9eRE1"
      },
      "source": [
        "And we can create a helper function `exp` that binds some leaf `Node`s to the arguments of a function so that we can quickly create expressions:"
      ]
    },
    {
      "cell_type": "code",
      "metadata": {
        "colab": {
          "base_uri": "https://localhost:8080/"
        },
        "id": "whVYjDaIePGt",
        "outputId": "15396ab2-6b0b-4489-c1e0-8073ed97cc9a"
      },
      "source": [
        "\n",
        "def exp(fn):\n",
        "  c = fn.__code__\n",
        "  args = [Node(c.co_varnames[i], ()) for i in range(c.co_argcount)]\n",
        "  return fn(*args)\n",
        "\n",
        "exp(lambda a: (a * 2) / 2)"
      ],
      "execution_count": null,
      "outputs": [
        {
          "output_type": "execute_result",
          "data": {
            "text/plain": [
              "(/ (* a 2) 2)"
            ]
          },
          "metadata": {
            "tags": []
          },
          "execution_count": 330
        }
      ]
    },
    {
      "cell_type": "markdown",
      "metadata": {
        "id": "wb5tWIsbe05g"
      },
      "source": [
        "Now we have a pretty standard functional representation of an expression where each arg in a `Node` has exactly one way to compute it. \n",
        "\n",
        "ENode and EGraphID\n",
        "==================\n",
        "\n",
        "EGraphs expand this definition so that each arg can have a _set_ of nodes that define it. To represent this we will need more than one data type.  An \"eclass\" is a set of nodes that are different ways to compute the same value. We will use the class `EClassID` to represent references to these sets of nodes that all compute the same value. The sets of nodes themselves are not explicitly represented but will be implicit in the data structures we use to track the whole egraph.\n",
        "\n",
        "An `ENode` is like our `Node` class before but now the arguments are defined as references to eclasses rather than another node directly:"
      ]
    },
    {
      "cell_type": "code",
      "metadata": {
        "id": "qrfpMLx6apTg"
      },
      "source": [
        "class ENode(NamedTuple):\n",
        "    key: str\n",
        "    args: 'Tuple[EClassID, ...]'"
      ],
      "execution_count": null,
      "outputs": []
    },
    {
      "cell_type": "markdown",
      "metadata": {
        "id": "U5p49ekRiTdX"
      },
      "source": [
        "When we discover through rewrite rules that two eclasses are the same, we need to merge them togther in our representation. This is an instance of the union-find algorithm. One common implementation of union-find is to have the object track a `parent` object. When two sets objects are unioned, you simply set one of the object's `parent` reference to the other. An object without a parent is 'canonical' and represents the entire set of unioned objects. Our `EClassID` objects uses this tecnique to represent eclasses."
      ]
    },
    {
      "cell_type": "code",
      "metadata": {
        "id": "iQUSK4PmhTnD"
      },
      "source": [
        "class EClassID:\n",
        "    def __init__(self, eg, id):\n",
        "        self.id = id #  just for debugging\n",
        "        self.parent : 'Optional[EClassID]' = None\n",
        "\n",
        "        # A list of enodes that use this eclass and the eclassid of that use.\n",
        "        # This is only set on a canonical eclass (parent == None) and \n",
        "        # will be used to repair the graph on merges.\n",
        "        self.uses : Optional[List[Tuple['ENode', 'EClassID']]] = [] \n",
        "\n",
        "    def __repr__(self):\n",
        "        return f'e{self.id}'\n",
        "     \n",
        "    # union-find's 'find' operation, that finds the canonical object for this set\n",
        "    def find(self):\n",
        "        if self.parent is None:\n",
        "            return self\n",
        "        r = self.parent.find()\n",
        "        # path compression, makes find cheaper on subsequent calls.\n",
        "        self.parent = r\n",
        "        return r"
      ],
      "execution_count": null,
      "outputs": []
    },
    {
      "cell_type": "markdown",
      "metadata": {
        "id": "PKZaGKA4lBt1"
      },
      "source": [
        "To make it easy to de-duplicate equivalent ENodes, we will also use the concept of a 'canonical' ENode. That is, one whose arguments are all canonoical EClassID nodes."
      ]
    },
    {
      "cell_type": "code",
      "metadata": {
        "id": "zPGFDQEriKQ-"
      },
      "source": [
        "ENode.canonicalize = lambda self: ENode(self.key, tuple(arg.find() for arg in self.args))"
      ],
      "execution_count": null,
      "outputs": []
    },
    {
      "cell_type": "markdown",
      "metadata": {
        "id": "Zk-_bc7nhSjK"
      },
      "source": [
        "\n",
        "An `ENode` is similar to our `Node` but rather than direct refer to other `ENode`s, it refers to an `EClassID` which is an updatable reference to an eclass. Later we are going to have the ability to merge together two `EClassID`s into the same eclass."
      ]
    },
    {
      "cell_type": "markdown",
      "metadata": {
        "id": "ZAw3E-WTgXcP"
      },
      "source": [
        "EGraphs\n",
        "=======\n",
        "\n",
        "We can now define the 'EGraph' which manages a collection of eclasses and their enodes. These graphs have two fundamental operations, _adding_ a new expression to the graph, and _merging_ two eclasses into a single one."
      ]
    },
    {
      "cell_type": "code",
      "metadata": {
        "id": "4YJ14dN1awEA"
      },
      "source": [
        "class EGraph:\n",
        "    def __init__(self):\n",
        "        self.i = 0 # id counter for debugging EClassIDs\n",
        "        self.version = 0 # increments every time we mutate the EGraph, so that we \n",
        "                         # can quickly see when we haven't changed one\n",
        "\n",
        "        # this map, from ENodes (canonical) to EClassID (not canonical), is maintained\n",
        "        # so that we check if we have already defined a particular ENode\n",
        "        self.hashcons : Dict['ENode', 'EClassID'] = {}\n",
        "\n",
        "        # a list of EClasses that have mutated by a merge operation, and whose users must\n",
        "        # be updated to a new canonical version, we will later define a `rebuild` function\n",
        "        # that processes this worklist.\n",
        "        self.worklist : List['EClassID'] = []\n",
        "\n",
        "\n",
        "    def add_enode(self, enode: 'ENode'):\n",
        "        enode = enode.canonicalize()\n",
        "        eclass_id = self.hashcons.get(enode, None)\n",
        "        if eclass_id is None:\n",
        "            # we don't already have this node, so create one\n",
        "            self.version += 1\n",
        "            eclass_id = self._new_singleton_eclass()\n",
        "            for arg in enode.args:\n",
        "                # we need to update the uses lists of each arg,\n",
        "                # since we are adding this enode as a new use.\n",
        "                arg.uses.append((enode, eclass_id))\n",
        "            self.hashcons[enode] = eclass_id\n",
        "        # hashcons's rhs is not canonicalized, so canonicalize it here:\n",
        "        return eclass_id.find()\n",
        "\n",
        "    def _new_singleton_eclass(self):\n",
        "        r = EClassID(self, self.i)\n",
        "        self.i += 1\n",
        "        return r\n",
        "\n",
        "    # helper for translating our normal Nodes into the egraph\n",
        "    def add_node(self, node: 'Node'):\n",
        "       return self.add_enode(ENode(node.key, tuple(self.add_node(n) for n in node.args)))\n",
        "\n",
        "    # extract the actual eclasses\n",
        "    def eclasses(self) -> Dict['EClassID', List['ENode']]:\n",
        "        r = {}\n",
        "        for node, eid in self.hashcons.items():\n",
        "            eid = eid.find()\n",
        "            if eid not in r:\n",
        "                r[eid] = [node]\n",
        "            else:\n",
        "                r[eid].append(node)\n",
        "        return r"
      ],
      "execution_count": null,
      "outputs": []
    },
    {
      "cell_type": "markdown",
      "metadata": {
        "id": "BKuKuCVcp34e"
      },
      "source": [
        "We can now add our expression to our egraph:"
      ]
    },
    {
      "cell_type": "code",
      "metadata": {
        "id": "m1SvPMsbp9kP"
      },
      "source": [
        "eg = EGraph()\n",
        "a_two_on_two = eg.add_node(exp(lambda a: (a * 2) / 2))"
      ],
      "execution_count": null,
      "outputs": []
    },
    {
      "cell_type": "markdown",
      "metadata": {
        "id": "xthS0SUQpw8P"
      },
      "source": [
        "Let's also define a way to plot the graph using graphviz, so we can visualize it:"
      ]
    },
    {
      "cell_type": "code",
      "metadata": {
        "colab": {
          "base_uri": "https://localhost:8080/",
          "height": 537
        },
        "id": "uo09zIZqqNJ1",
        "outputId": "3183a22d-e58b-4b66-c0cb-065135ad4f5b"
      },
      "source": [
        "def _repr_svg_(self):\n",
        "    def format_record(x):\n",
        "      if isinstance(x, list):\n",
        "        return '{' + '|'.join(format_record(e) for e in x) + '}'\n",
        "      else:\n",
        "        return x\n",
        "    def escape(x):\n",
        "      return str(x).replace('<', '\\<').replace('>', '\\>')\n",
        "    g = Digraph(node_attr={'shape': 'record', 'height': '.1'})\n",
        "    for eclass, enodes in self.eclasses().items():\n",
        "        g.node(f'{eclass.id}', label=f'e{eclass.id}', shape='circle')\n",
        "\n",
        "        for enode in enodes:\n",
        "          enode_id = str(id(enode))\n",
        "          g.edge(f'{eclass.id}', enode_id)\n",
        "\n",
        "          record = [escape(enode.key)]\n",
        "          for i, arg in enumerate(enode.args):\n",
        "            g.edge(f'{enode_id}:p{i}', f'{arg.id}')\n",
        "            record.append(f'<p{i}>')\n",
        "          g.node(enode_id, label='|'.join(record))\n",
        "\n",
        "    return g._repr_svg_()\n",
        "EGraph._repr_svg_ = _repr_svg_\n",
        "\n",
        "eg"
      ],
      "execution_count": null,
      "outputs": [
        {
          "output_type": "execute_result",
          "data": {
            "text/plain": [
              "<__main__.EGraph at 0x7fc33cbf7828>"
            ],
            "image/svg+xml": "<?xml version=\"1.0\" encoding=\"UTF-8\" standalone=\"no\"?>\n<!DOCTYPE svg PUBLIC \"-//W3C//DTD SVG 1.1//EN\"\n \"http://www.w3.org/Graphics/SVG/1.1/DTD/svg11.dtd\">\n<!-- Generated by graphviz version 2.40.1 (20161225.0304)\n -->\n<!-- Title: %3 Pages: 1 -->\n<svg width=\"134pt\" height=\"387pt\"\n viewBox=\"0.00 0.00 134.00 387.28\" xmlns=\"http://www.w3.org/2000/svg\" xmlns:xlink=\"http://www.w3.org/1999/xlink\">\n<g id=\"graph0\" class=\"graph\" transform=\"scale(1 1) rotate(0) translate(4 383.2792)\">\n<title>%3</title>\n<polygon fill=\"#ffffff\" stroke=\"transparent\" points=\"-4,4 -4,-383.2792 130,-383.2792 130,4 -4,4\"/>\n<!-- 0 -->\n<g id=\"node1\" class=\"node\">\n<title>0</title>\n<ellipse fill=\"none\" stroke=\"#000000\" cx=\"30\" cy=\"-81.2132\" rx=\"21.4286\" ry=\"21.4286\"/>\n<text text-anchor=\"middle\" x=\"30\" y=\"-77.5132\" font-family=\"Times,serif\" font-size=\"14.00\" fill=\"#000000\">e0</text>\n</g>\n<!-- 140476514658848 -->\n<g id=\"node2\" class=\"node\">\n<title>140476514658848</title>\n<polygon fill=\"none\" stroke=\"#000000\" points=\"0,-.5 0,-23.5 54,-23.5 54,-.5 0,-.5\"/>\n<text text-anchor=\"middle\" x=\"27\" y=\"-8.3\" font-family=\"Times,serif\" font-size=\"14.00\" fill=\"#000000\">a</text>\n</g>\n<!-- 0&#45;&gt;140476514658848 -->\n<g id=\"edge1\" class=\"edge\">\n<title>0&#45;&gt;140476514658848</title>\n<path fill=\"none\" stroke=\"#000000\" d=\"M29.0672,-59.6931C28.7084,-51.4155 28.2989,-41.9664 27.9395,-33.6743\"/>\n<polygon fill=\"#000000\" stroke=\"#000000\" points=\"31.4342,-33.475 27.5044,-23.636 24.4408,-33.7782 31.4342,-33.475\"/>\n</g>\n<!-- 1 -->\n<g id=\"node3\" class=\"node\">\n<title>1</title>\n<ellipse fill=\"none\" stroke=\"#000000\" cx=\"96\" cy=\"-81.2132\" rx=\"21.4286\" ry=\"21.4286\"/>\n<text text-anchor=\"middle\" x=\"96\" y=\"-77.5132\" font-family=\"Times,serif\" font-size=\"14.00\" fill=\"#000000\">e1</text>\n</g>\n<!-- 140476514658560 -->\n<g id=\"node4\" class=\"node\">\n<title>140476514658560</title>\n<polygon fill=\"none\" stroke=\"#000000\" points=\"72,-.5 72,-23.5 126,-23.5 126,-.5 72,-.5\"/>\n<text text-anchor=\"middle\" x=\"99\" y=\"-8.3\" font-family=\"Times,serif\" font-size=\"14.00\" fill=\"#000000\">2</text>\n</g>\n<!-- 1&#45;&gt;140476514658560 -->\n<g id=\"edge2\" class=\"edge\">\n<title>1&#45;&gt;140476514658560</title>\n<path fill=\"none\" stroke=\"#000000\" d=\"M96.9328,-59.6931C97.2916,-51.4155 97.7011,-41.9664 98.0605,-33.6743\"/>\n<polygon fill=\"#000000\" stroke=\"#000000\" points=\"101.5592,-33.7782 98.4956,-23.636 94.5658,-33.475 101.5592,-33.7782\"/>\n</g>\n<!-- 2 -->\n<g id=\"node5\" class=\"node\">\n<title>2</title>\n<ellipse fill=\"none\" stroke=\"#000000\" cx=\"42\" cy=\"-219.6396\" rx=\"21.4286\" ry=\"21.4286\"/>\n<text text-anchor=\"middle\" x=\"42\" y=\"-215.9396\" font-family=\"Times,serif\" font-size=\"14.00\" fill=\"#000000\">e2</text>\n</g>\n<!-- 140476514659568 -->\n<g id=\"node6\" class=\"node\">\n<title>140476514659568</title>\n<polygon fill=\"none\" stroke=\"#000000\" points=\"4,-138.9264 4,-161.9264 68,-161.9264 68,-138.9264 4,-138.9264\"/>\n<text text-anchor=\"middle\" x=\"16\" y=\"-146.7264\" font-family=\"Times,serif\" font-size=\"14.00\" fill=\"#000000\">*</text>\n<polyline fill=\"none\" stroke=\"#000000\" points=\"28,-138.9264 28,-161.9264 \"/>\n<text text-anchor=\"middle\" x=\"38\" y=\"-146.7264\" font-family=\"Times,serif\" font-size=\"14.00\" fill=\"#000000\"> </text>\n<polyline fill=\"none\" stroke=\"#000000\" points=\"48,-138.9264 48,-161.9264 \"/>\n<text text-anchor=\"middle\" x=\"58\" y=\"-146.7264\" font-family=\"Times,serif\" font-size=\"14.00\" fill=\"#000000\"> </text>\n</g>\n<!-- 2&#45;&gt;140476514659568 -->\n<g id=\"edge3\" class=\"edge\">\n<title>2&#45;&gt;140476514659568</title>\n<path fill=\"none\" stroke=\"#000000\" d=\"M40.1672,-198.4973C39.4483,-190.2047 38.6235,-180.6902 37.8984,-172.3258\"/>\n<polygon fill=\"#000000\" stroke=\"#000000\" points=\"41.3706,-171.8523 37.0199,-162.192 34.3968,-172.4569 41.3706,-171.8523\"/>\n</g>\n<!-- 140476514659568&#45;&gt;0 -->\n<g id=\"edge4\" class=\"edge\">\n<title>140476514659568:p0&#45;&gt;0</title>\n<path fill=\"none\" stroke=\"#000000\" d=\"M38,-138.4264C38,-129.7987 37.0967,-120.5091 35.8971,-111.9765\"/>\n<polygon fill=\"#000000\" stroke=\"#000000\" points=\"39.345,-111.3712 34.3278,-102.0396 32.4307,-112.4632 39.345,-111.3712\"/>\n</g>\n<!-- 140476514659568&#45;&gt;1 -->\n<g id=\"edge5\" class=\"edge\">\n<title>140476514659568:p1&#45;&gt;1</title>\n<path fill=\"none\" stroke=\"#000000\" d=\"M58,-138.4264C58,-125.3844 64.9365,-113.043 72.8823,-103.1843\"/>\n<polygon fill=\"#000000\" stroke=\"#000000\" points=\"75.6547,-105.3329 79.664,-95.526 70.4141,-100.6921 75.6547,-105.3329\"/>\n</g>\n<!-- 3 -->\n<g id=\"node7\" class=\"node\">\n<title>3</title>\n<ellipse fill=\"none\" stroke=\"#000000\" cx=\"56\" cy=\"-358.066\" rx=\"21.4286\" ry=\"21.4286\"/>\n<text text-anchor=\"middle\" x=\"56\" y=\"-354.366\" font-family=\"Times,serif\" font-size=\"14.00\" fill=\"#000000\">e3</text>\n</g>\n<!-- 140476514659496 -->\n<g id=\"node8\" class=\"node\">\n<title>140476514659496</title>\n<polygon fill=\"none\" stroke=\"#000000\" points=\"26,-277.3528 26,-300.3528 86,-300.3528 86,-277.3528 26,-277.3528\"/>\n<text text-anchor=\"middle\" x=\"36\" y=\"-285.1528\" font-family=\"Times,serif\" font-size=\"14.00\" fill=\"#000000\">/</text>\n<polyline fill=\"none\" stroke=\"#000000\" points=\"46,-277.3528 46,-300.3528 \"/>\n<text text-anchor=\"middle\" x=\"56\" y=\"-285.1528\" font-family=\"Times,serif\" font-size=\"14.00\" fill=\"#000000\"> </text>\n<polyline fill=\"none\" stroke=\"#000000\" points=\"66,-277.3528 66,-300.3528 \"/>\n<text text-anchor=\"middle\" x=\"76\" y=\"-285.1528\" font-family=\"Times,serif\" font-size=\"14.00\" fill=\"#000000\"> </text>\n</g>\n<!-- 3&#45;&gt;140476514659496 -->\n<g id=\"edge6\" class=\"edge\">\n<title>3&#45;&gt;140476514659496</title>\n<path fill=\"none\" stroke=\"#000000\" d=\"M56,-336.5459C56,-328.2683 56,-318.8192 56,-310.5271\"/>\n<polygon fill=\"#000000\" stroke=\"#000000\" points=\"59.5001,-310.4887 56,-300.4888 52.5001,-310.4888 59.5001,-310.4887\"/>\n</g>\n<!-- 140476514659496&#45;&gt;1 -->\n<g id=\"edge8\" class=\"edge\">\n<title>140476514659496:p1&#45;&gt;1</title>\n<path fill=\"none\" stroke=\"#000000\" d=\"M76,-276.8528C76,-218.4936 84.9163,-150.8474 90.8422,-112.3335\"/>\n<polygon fill=\"#000000\" stroke=\"#000000\" points=\"94.3279,-112.6974 92.4244,-102.275 87.4129,-111.6096 94.3279,-112.6974\"/>\n</g>\n<!-- 140476514659496&#45;&gt;2 -->\n<g id=\"edge7\" class=\"edge\">\n<title>140476514659496:p0&#45;&gt;2</title>\n<path fill=\"none\" stroke=\"#000000\" d=\"M56,-276.8528C56,-267.8125 54.3304,-258.193 52.1443,-249.4724\"/>\n<polygon fill=\"#000000\" stroke=\"#000000\" points=\"55.4836,-248.4178 49.4099,-239.7368 48.7444,-250.3107 55.4836,-248.4178\"/>\n</g>\n</g>\n</svg>\n"
          },
          "metadata": {
            "tags": []
          },
          "execution_count": 336
        }
      ]
    },
    {
      "cell_type": "markdown",
      "metadata": {
        "id": "ZnHW_S4JrEPw"
      },
      "source": [
        "We can add other expressions as well, like `a << 1`, which is equivalent to `a * 2`:"
      ]
    },
    {
      "cell_type": "code",
      "metadata": {
        "colab": {
          "base_uri": "https://localhost:8080/",
          "height": 537
        },
        "id": "yg2nwldlrVhm",
        "outputId": "7e2f6017-71a2-4255-c849-af5dea013391"
      },
      "source": [
        "eg.add_node(exp(lambda a: a << 1))\n",
        "eg"
      ],
      "execution_count": null,
      "outputs": [
        {
          "output_type": "execute_result",
          "data": {
            "text/plain": [
              "<__main__.EGraph at 0x7fc33cbf7828>"
            ],
            "image/svg+xml": "<?xml version=\"1.0\" encoding=\"UTF-8\" standalone=\"no\"?>\n<!DOCTYPE svg PUBLIC \"-//W3C//DTD SVG 1.1//EN\"\n \"http://www.w3.org/Graphics/SVG/1.1/DTD/svg11.dtd\">\n<!-- Generated by graphviz version 2.40.1 (20161225.0304)\n -->\n<!-- Title: %3 Pages: 1 -->\n<svg width=\"231pt\" height=\"387pt\"\n viewBox=\"0.00 0.00 231.00 387.28\" xmlns=\"http://www.w3.org/2000/svg\" xmlns:xlink=\"http://www.w3.org/1999/xlink\">\n<g id=\"graph0\" class=\"graph\" transform=\"scale(1 1) rotate(0) translate(4 383.2792)\">\n<title>%3</title>\n<polygon fill=\"#ffffff\" stroke=\"transparent\" points=\"-4,4 -4,-383.2792 227,-383.2792 227,4 -4,4\"/>\n<!-- 0 -->\n<g id=\"node1\" class=\"node\">\n<title>0</title>\n<ellipse fill=\"none\" stroke=\"#000000\" cx=\"124\" cy=\"-81.2132\" rx=\"21.4286\" ry=\"21.4286\"/>\n<text text-anchor=\"middle\" x=\"124\" y=\"-77.5132\" font-family=\"Times,serif\" font-size=\"14.00\" fill=\"#000000\">e0</text>\n</g>\n<!-- 140476514658848 -->\n<g id=\"node2\" class=\"node\">\n<title>140476514658848</title>\n<polygon fill=\"none\" stroke=\"#000000\" points=\"97,-.5 97,-23.5 151,-23.5 151,-.5 97,-.5\"/>\n<text text-anchor=\"middle\" x=\"124\" y=\"-8.3\" font-family=\"Times,serif\" font-size=\"14.00\" fill=\"#000000\">a</text>\n</g>\n<!-- 0&#45;&gt;140476514658848 -->\n<g id=\"edge1\" class=\"edge\">\n<title>0&#45;&gt;140476514658848</title>\n<path fill=\"none\" stroke=\"#000000\" d=\"M124,-59.6931C124,-51.4155 124,-41.9664 124,-33.6743\"/>\n<polygon fill=\"#000000\" stroke=\"#000000\" points=\"127.5001,-33.6359 124,-23.636 120.5001,-33.636 127.5001,-33.6359\"/>\n</g>\n<!-- 1 -->\n<g id=\"node3\" class=\"node\">\n<title>1</title>\n<ellipse fill=\"none\" stroke=\"#000000\" cx=\"54\" cy=\"-81.2132\" rx=\"21.4286\" ry=\"21.4286\"/>\n<text text-anchor=\"middle\" x=\"54\" y=\"-77.5132\" font-family=\"Times,serif\" font-size=\"14.00\" fill=\"#000000\">e1</text>\n</g>\n<!-- 140476514658560 -->\n<g id=\"node4\" class=\"node\">\n<title>140476514658560</title>\n<polygon fill=\"none\" stroke=\"#000000\" points=\"25,-.5 25,-23.5 79,-23.5 79,-.5 25,-.5\"/>\n<text text-anchor=\"middle\" x=\"52\" y=\"-8.3\" font-family=\"Times,serif\" font-size=\"14.00\" fill=\"#000000\">2</text>\n</g>\n<!-- 1&#45;&gt;140476514658560 -->\n<g id=\"edge2\" class=\"edge\">\n<title>1&#45;&gt;140476514658560</title>\n<path fill=\"none\" stroke=\"#000000\" d=\"M53.3782,-59.6931C53.139,-51.4155 52.8659,-41.9664 52.6263,-33.6743\"/>\n<polygon fill=\"#000000\" stroke=\"#000000\" points=\"56.1237,-33.5306 52.3362,-23.636 49.1266,-33.7329 56.1237,-33.5306\"/>\n</g>\n<!-- 2 -->\n<g id=\"node5\" class=\"node\">\n<title>2</title>\n<ellipse fill=\"none\" stroke=\"#000000\" cx=\"38\" cy=\"-219.6396\" rx=\"21.4286\" ry=\"21.4286\"/>\n<text text-anchor=\"middle\" x=\"38\" y=\"-215.9396\" font-family=\"Times,serif\" font-size=\"14.00\" fill=\"#000000\">e2</text>\n</g>\n<!-- 140476514659568 -->\n<g id=\"node6\" class=\"node\">\n<title>140476514659568</title>\n<polygon fill=\"none\" stroke=\"#000000\" points=\"0,-138.9264 0,-161.9264 64,-161.9264 64,-138.9264 0,-138.9264\"/>\n<text text-anchor=\"middle\" x=\"12\" y=\"-146.7264\" font-family=\"Times,serif\" font-size=\"14.00\" fill=\"#000000\">*</text>\n<polyline fill=\"none\" stroke=\"#000000\" points=\"24,-138.9264 24,-161.9264 \"/>\n<text text-anchor=\"middle\" x=\"34\" y=\"-146.7264\" font-family=\"Times,serif\" font-size=\"14.00\" fill=\"#000000\"> </text>\n<polyline fill=\"none\" stroke=\"#000000\" points=\"44,-138.9264 44,-161.9264 \"/>\n<text text-anchor=\"middle\" x=\"54\" y=\"-146.7264\" font-family=\"Times,serif\" font-size=\"14.00\" fill=\"#000000\"> </text>\n</g>\n<!-- 2&#45;&gt;140476514659568 -->\n<g id=\"edge3\" class=\"edge\">\n<title>2&#45;&gt;140476514659568</title>\n<path fill=\"none\" stroke=\"#000000\" d=\"M36.1672,-198.4973C35.4483,-190.2047 34.6235,-180.6902 33.8984,-172.3258\"/>\n<polygon fill=\"#000000\" stroke=\"#000000\" points=\"37.3706,-171.8523 33.0199,-162.192 30.3968,-172.4569 37.3706,-171.8523\"/>\n</g>\n<!-- 140476514659568&#45;&gt;0 -->\n<g id=\"edge4\" class=\"edge\">\n<title>140476514659568:p0&#45;&gt;0</title>\n<path fill=\"none\" stroke=\"#000000\" d=\"M34,-138.4264C34,-130.9734 69.604,-110.2623 96.0245,-95.9193\"/>\n<polygon fill=\"#000000\" stroke=\"#000000\" points=\"97.7606,-98.9597 104.9133,-91.1437 94.4477,-92.7933 97.7606,-98.9597\"/>\n</g>\n<!-- 140476514659568&#45;&gt;1 -->\n<g id=\"edge5\" class=\"edge\">\n<title>140476514659568:p1&#45;&gt;1</title>\n<path fill=\"none\" stroke=\"#000000\" d=\"M54,-138.4264C54,-130.1154 54,-121.1253 54,-112.7879\"/>\n<polygon fill=\"#000000\" stroke=\"#000000\" points=\"57.5001,-112.6764 54,-102.6764 50.5001,-112.6764 57.5001,-112.6764\"/>\n</g>\n<!-- 3 -->\n<g id=\"node7\" class=\"node\">\n<title>3</title>\n<ellipse fill=\"none\" stroke=\"#000000\" cx=\"52\" cy=\"-358.066\" rx=\"21.4286\" ry=\"21.4286\"/>\n<text text-anchor=\"middle\" x=\"52\" y=\"-354.366\" font-family=\"Times,serif\" font-size=\"14.00\" fill=\"#000000\">e3</text>\n</g>\n<!-- 140476514659496 -->\n<g id=\"node8\" class=\"node\">\n<title>140476514659496</title>\n<polygon fill=\"none\" stroke=\"#000000\" points=\"22,-277.3528 22,-300.3528 82,-300.3528 82,-277.3528 22,-277.3528\"/>\n<text text-anchor=\"middle\" x=\"32\" y=\"-285.1528\" font-family=\"Times,serif\" font-size=\"14.00\" fill=\"#000000\">/</text>\n<polyline fill=\"none\" stroke=\"#000000\" points=\"42,-277.3528 42,-300.3528 \"/>\n<text text-anchor=\"middle\" x=\"52\" y=\"-285.1528\" font-family=\"Times,serif\" font-size=\"14.00\" fill=\"#000000\"> </text>\n<polyline fill=\"none\" stroke=\"#000000\" points=\"62,-277.3528 62,-300.3528 \"/>\n<text text-anchor=\"middle\" x=\"72\" y=\"-285.1528\" font-family=\"Times,serif\" font-size=\"14.00\" fill=\"#000000\"> </text>\n</g>\n<!-- 3&#45;&gt;140476514659496 -->\n<g id=\"edge6\" class=\"edge\">\n<title>3&#45;&gt;140476514659496</title>\n<path fill=\"none\" stroke=\"#000000\" d=\"M52,-336.5459C52,-328.2683 52,-318.8192 52,-310.5271\"/>\n<polygon fill=\"#000000\" stroke=\"#000000\" points=\"55.5001,-310.4887 52,-300.4888 48.5001,-310.4888 55.5001,-310.4887\"/>\n</g>\n<!-- 140476514659496&#45;&gt;1 -->\n<g id=\"edge8\" class=\"edge\">\n<title>140476514659496:p1&#45;&gt;1</title>\n<path fill=\"none\" stroke=\"#000000\" d=\"M72,-276.8528C72,-215.3284 82.8212,-199.1619 73,-138.4264 71.4948,-129.1179 68.6958,-119.2752 65.7001,-110.4271\"/>\n<polygon fill=\"#000000\" stroke=\"#000000\" points=\"68.9674,-109.1696 62.2928,-100.9416 62.3795,-111.5361 68.9674,-109.1696\"/>\n</g>\n<!-- 140476514659496&#45;&gt;2 -->\n<g id=\"edge7\" class=\"edge\">\n<title>140476514659496:p0&#45;&gt;2</title>\n<path fill=\"none\" stroke=\"#000000\" d=\"M52,-276.8528C52,-267.8125 50.3304,-258.193 48.1443,-249.4724\"/>\n<polygon fill=\"#000000\" stroke=\"#000000\" points=\"51.4836,-248.4178 45.4099,-239.7368 44.7444,-250.3107 51.4836,-248.4178\"/>\n</g>\n<!-- 4 -->\n<g id=\"node9\" class=\"node\">\n<title>4</title>\n<ellipse fill=\"none\" stroke=\"#000000\" cx=\"189\" cy=\"-81.2132\" rx=\"21.4286\" ry=\"21.4286\"/>\n<text text-anchor=\"middle\" x=\"189\" y=\"-77.5132\" font-family=\"Times,serif\" font-size=\"14.00\" fill=\"#000000\">e4</text>\n</g>\n<!-- 140476514619896 -->\n<g id=\"node10\" class=\"node\">\n<title>140476514619896</title>\n<polygon fill=\"none\" stroke=\"#000000\" points=\"169,-.5 169,-23.5 223,-23.5 223,-.5 169,-.5\"/>\n<text text-anchor=\"middle\" x=\"196\" y=\"-8.3\" font-family=\"Times,serif\" font-size=\"14.00\" fill=\"#000000\">1</text>\n</g>\n<!-- 4&#45;&gt;140476514619896 -->\n<g id=\"edge9\" class=\"edge\">\n<title>4&#45;&gt;140476514619896</title>\n<path fill=\"none\" stroke=\"#000000\" d=\"M191.1383,-60.0709C191.9769,-51.7783 192.9392,-42.2638 193.7852,-33.8994\"/>\n<polygon fill=\"#000000\" stroke=\"#000000\" points=\"197.286,-34.067 194.8101,-23.7656 190.3215,-33.3626 197.286,-34.067\"/>\n</g>\n<!-- 5 -->\n<g id=\"node11\" class=\"node\">\n<title>5</title>\n<ellipse fill=\"none\" stroke=\"#000000\" cx=\"160\" cy=\"-219.6396\" rx=\"21.4286\" ry=\"21.4286\"/>\n<text text-anchor=\"middle\" x=\"160\" y=\"-215.9396\" font-family=\"Times,serif\" font-size=\"14.00\" fill=\"#000000\">e5</text>\n</g>\n<!-- 140476514620616 -->\n<g id=\"node12\" class=\"node\">\n<title>140476514620616</title>\n<polygon fill=\"none\" stroke=\"#000000\" points=\"123.5,-138.9264 123.5,-161.9264 196.5,-161.9264 196.5,-138.9264 123.5,-138.9264\"/>\n<text text-anchor=\"middle\" x=\"140\" y=\"-146.7264\" font-family=\"Times,serif\" font-size=\"14.00\" fill=\"#000000\">&lt;&lt;</text>\n<polyline fill=\"none\" stroke=\"#000000\" points=\"156.5,-138.9264 156.5,-161.9264 \"/>\n<text text-anchor=\"middle\" x=\"166.5\" y=\"-146.7264\" font-family=\"Times,serif\" font-size=\"14.00\" fill=\"#000000\"> </text>\n<polyline fill=\"none\" stroke=\"#000000\" points=\"176.5,-138.9264 176.5,-161.9264 \"/>\n<text text-anchor=\"middle\" x=\"186.5\" y=\"-146.7264\" font-family=\"Times,serif\" font-size=\"14.00\" fill=\"#000000\"> </text>\n</g>\n<!-- 5&#45;&gt;140476514620616 -->\n<g id=\"edge10\" class=\"edge\">\n<title>5&#45;&gt;140476514620616</title>\n<path fill=\"none\" stroke=\"#000000\" d=\"M160,-198.1195C160,-189.8419 160,-180.3928 160,-172.1007\"/>\n<polygon fill=\"#000000\" stroke=\"#000000\" points=\"163.5001,-172.0623 160,-162.0624 156.5001,-172.0624 163.5001,-172.0623\"/>\n</g>\n<!-- 140476514620616&#45;&gt;0 -->\n<g id=\"edge11\" class=\"edge\">\n<title>140476514620616:p0&#45;&gt;0</title>\n<path fill=\"none\" stroke=\"#000000\" d=\"M167,-138.4264C167,-124.1682 158.3604,-111.1969 148.8265,-101.2236\"/>\n<polygon fill=\"#000000\" stroke=\"#000000\" points=\"151.1367,-98.5901 141.4897,-94.2097 146.2995,-103.6499 151.1367,-98.5901\"/>\n</g>\n<!-- 140476514620616&#45;&gt;4 -->\n<g id=\"edge12\" class=\"edge\">\n<title>140476514620616:p1&#45;&gt;4</title>\n<path fill=\"none\" stroke=\"#000000\" d=\"M187,-138.4264C187,-130.0404 187.2173,-120.9673 187.5086,-112.5709\"/>\n<polygon fill=\"#000000\" stroke=\"#000000\" points=\"191.0128,-112.5293 187.9064,-102.4001 184.0181,-112.2556 191.0128,-112.5293\"/>\n</g>\n</g>\n</svg>\n"
          },
          "metadata": {
            "tags": []
          },
          "execution_count": 337
        }
      ]
    },
    {
      "cell_type": "markdown",
      "metadata": {
        "id": "RHnzlT9issZS"
      },
      "source": [
        "Merging EClasses\n",
        "================\n",
        "\n",
        "Notice that `e2` and `e5` can be merged, since they define the same value. To do this we need to define a the `merge` operation. The details are described in the paper, but you can follow the rest of this document without understanding all the details."
      ]
    },
    {
      "cell_type": "code",
      "metadata": {
        "id": "sxl6oGjApv_V"
      },
      "source": [
        "# tell the graph that 'a' and 'b' calculate the same value.\n",
        "def merge(self, a: 'EClassID', b: 'EClassID'):\n",
        "    a = a.find()\n",
        "    b = b.find()\n",
        "    if a is b:\n",
        "        return a\n",
        "    self.version += 1\n",
        "    a.parent = b\n",
        "    # maintain the invariant that uses are only\n",
        "    # recorded on the top level EClassID\n",
        "    b.uses += a.uses\n",
        "    a.uses = None\n",
        "    # we have updated eclass b, so nodes in the hashcons\n",
        "    # might no longer be canonical and we might discover that two \n",
        "    # enodes are actually the same value. We will repair this later, by\n",
        "    # remember what eclasses changed:\n",
        "    self.worklist.append(b)\n",
        "\n",
        "EGraph.merge = merge\n",
        "\n",
        "# ensure we have a de-duplicated version of the EGraph\n",
        "def rebuild(self):\n",
        "    while self.worklist:\n",
        "        # deduplicate repeated calls to repair the same eclass\n",
        "        todo = { eid.find(): None for eid in self.worklist}\n",
        "        self.worklist = []\n",
        "        for eclass_id in todo:\n",
        "            self.repair(eclass_id)\n",
        "EGraph.rebuild = rebuild\n",
        "\n",
        "\n",
        "def repair(self, eclass_id: 'ENodeID'):\n",
        "    assert eclass_id.parent is None\n",
        "    # reset the uses of this eclass, we will fill them in again at the end\n",
        "    uses, eclass_id.uses = eclass_id.uses, []\n",
        "    # any of the uses in the hashcons might no longer be canonical, so re-canonicalize it\n",
        "    for p_node, p_eclass in uses:\n",
        "        if p_node in self.hashcons:\n",
        "            del self.hashcons[p_node]\n",
        "        p_node = p_node.canonicalize()\n",
        "        self.hashcons[p_node] = p_eclass.find()\n",
        "    # because we merged classes, some of the enodes that are uses might now be the same expression,\n",
        "    # meaning we can merge further eclasses\n",
        "    new_uses = {}\n",
        "    for p_node, p_eclass in uses:\n",
        "        p_node = p_node.canonicalize()\n",
        "        if p_node in new_uses:\n",
        "            self.merge(p_eclass, new_uses[p_node])\n",
        "        new_uses[p_node] = p_eclass.find()\n",
        "    # note the find, it is possible that eclass_id got merged\n",
        "    # and uses should only be attributed to the eclass representative\n",
        "    eclass_id.find().uses += new_uses.items()\n",
        "EGraph.repair = repair"
      ],
      "execution_count": null,
      "outputs": []
    },
    {
      "cell_type": "markdown",
      "metadata": {
        "id": "Yx69BBO2vf4F"
      },
      "source": [
        "We can try it out by merging our nodes and observering that `e5` now has two definitions."
      ]
    },
    {
      "cell_type": "code",
      "metadata": {
        "colab": {
          "base_uri": "https://localhost:8080/",
          "height": 537
        },
        "id": "YzqtjK98vjLn",
        "outputId": "9c7ae375-f777-4c1d-ee32-265408c48f1a"
      },
      "source": [
        "# lookup the eclasses for these nodes\n",
        "x_times_2 = eg.add_node(exp(lambda a: a * 2))\n",
        "x_shift_1 = eg.add_node(exp(lambda a: a << 1))\n",
        "# and merge them\n",
        "eg.merge(x_times_2, x_shift_1)\n",
        "eg.rebuild()\n",
        "eg"
      ],
      "execution_count": null,
      "outputs": [
        {
          "output_type": "execute_result",
          "data": {
            "text/plain": [
              "<__main__.EGraph at 0x7fc33cbf7828>"
            ],
            "image/svg+xml": "<?xml version=\"1.0\" encoding=\"UTF-8\" standalone=\"no\"?>\n<!DOCTYPE svg PUBLIC \"-//W3C//DTD SVG 1.1//EN\"\n \"http://www.w3.org/Graphics/SVG/1.1/DTD/svg11.dtd\">\n<!-- Generated by graphviz version 2.40.1 (20161225.0304)\n -->\n<!-- Title: %3 Pages: 1 -->\n<svg width=\"225pt\" height=\"387pt\"\n viewBox=\"0.00 0.00 224.50 387.28\" xmlns=\"http://www.w3.org/2000/svg\" xmlns:xlink=\"http://www.w3.org/1999/xlink\">\n<g id=\"graph0\" class=\"graph\" transform=\"scale(1 1) rotate(0) translate(4 383.2792)\">\n<title>%3</title>\n<polygon fill=\"#ffffff\" stroke=\"transparent\" points=\"-4,4 -4,-383.2792 220.5,-383.2792 220.5,4 -4,4\"/>\n<!-- 0 -->\n<g id=\"node1\" class=\"node\">\n<title>0</title>\n<ellipse fill=\"none\" stroke=\"#000000\" cx=\"117.5\" cy=\"-81.2132\" rx=\"21.4286\" ry=\"21.4286\"/>\n<text text-anchor=\"middle\" x=\"117.5\" y=\"-77.5132\" font-family=\"Times,serif\" font-size=\"14.00\" fill=\"#000000\">e0</text>\n</g>\n<!-- 140476514658848 -->\n<g id=\"node2\" class=\"node\">\n<title>140476514658848</title>\n<polygon fill=\"none\" stroke=\"#000000\" points=\"90.5,-.5 90.5,-23.5 144.5,-23.5 144.5,-.5 90.5,-.5\"/>\n<text text-anchor=\"middle\" x=\"117.5\" y=\"-8.3\" font-family=\"Times,serif\" font-size=\"14.00\" fill=\"#000000\">a</text>\n</g>\n<!-- 0&#45;&gt;140476514658848 -->\n<g id=\"edge1\" class=\"edge\">\n<title>0&#45;&gt;140476514658848</title>\n<path fill=\"none\" stroke=\"#000000\" d=\"M117.5,-59.6931C117.5,-51.4155 117.5,-41.9664 117.5,-33.6743\"/>\n<polygon fill=\"#000000\" stroke=\"#000000\" points=\"121.0001,-33.6359 117.5,-23.636 114.0001,-33.636 121.0001,-33.6359\"/>\n</g>\n<!-- 1 -->\n<g id=\"node3\" class=\"node\">\n<title>1</title>\n<ellipse fill=\"none\" stroke=\"#000000\" cx=\"183.5\" cy=\"-81.2132\" rx=\"21.4286\" ry=\"21.4286\"/>\n<text text-anchor=\"middle\" x=\"183.5\" y=\"-77.5132\" font-family=\"Times,serif\" font-size=\"14.00\" fill=\"#000000\">e1</text>\n</g>\n<!-- 140476514658560 -->\n<g id=\"node4\" class=\"node\">\n<title>140476514658560</title>\n<polygon fill=\"none\" stroke=\"#000000\" points=\"162.5,-.5 162.5,-23.5 216.5,-23.5 216.5,-.5 162.5,-.5\"/>\n<text text-anchor=\"middle\" x=\"189.5\" y=\"-8.3\" font-family=\"Times,serif\" font-size=\"14.00\" fill=\"#000000\">2</text>\n</g>\n<!-- 1&#45;&gt;140476514658560 -->\n<g id=\"edge2\" class=\"edge\">\n<title>1&#45;&gt;140476514658560</title>\n<path fill=\"none\" stroke=\"#000000\" d=\"M185.3328,-60.0709C186.0517,-51.7783 186.8765,-42.2638 187.6016,-33.8994\"/>\n<polygon fill=\"#000000\" stroke=\"#000000\" points=\"191.1032,-34.0305 188.4801,-23.7656 184.1294,-33.4259 191.1032,-34.0305\"/>\n</g>\n<!-- 5 -->\n<g id=\"node5\" class=\"node\">\n<title>5</title>\n<ellipse fill=\"none\" stroke=\"#000000\" cx=\"123.5\" cy=\"-219.6396\" rx=\"21.4286\" ry=\"21.4286\"/>\n<text text-anchor=\"middle\" x=\"123.5\" y=\"-215.9396\" font-family=\"Times,serif\" font-size=\"14.00\" fill=\"#000000\">e5</text>\n</g>\n<!-- 140476514659568 -->\n<g id=\"node6\" class=\"node\">\n<title>140476514659568</title>\n<polygon fill=\"none\" stroke=\"#000000\" points=\"91.5,-138.9264 91.5,-161.9264 155.5,-161.9264 155.5,-138.9264 91.5,-138.9264\"/>\n<text text-anchor=\"middle\" x=\"103.5\" y=\"-146.7264\" font-family=\"Times,serif\" font-size=\"14.00\" fill=\"#000000\">*</text>\n<polyline fill=\"none\" stroke=\"#000000\" points=\"115.5,-138.9264 115.5,-161.9264 \"/>\n<text text-anchor=\"middle\" x=\"125.5\" y=\"-146.7264\" font-family=\"Times,serif\" font-size=\"14.00\" fill=\"#000000\"> </text>\n<polyline fill=\"none\" stroke=\"#000000\" points=\"135.5,-138.9264 135.5,-161.9264 \"/>\n<text text-anchor=\"middle\" x=\"145.5\" y=\"-146.7264\" font-family=\"Times,serif\" font-size=\"14.00\" fill=\"#000000\"> </text>\n</g>\n<!-- 5&#45;&gt;140476514659568 -->\n<g id=\"edge3\" class=\"edge\">\n<title>5&#45;&gt;140476514659568</title>\n<path fill=\"none\" stroke=\"#000000\" d=\"M123.5,-198.1195C123.5,-189.8419 123.5,-180.3928 123.5,-172.1007\"/>\n<polygon fill=\"#000000\" stroke=\"#000000\" points=\"127.0001,-172.0623 123.5,-162.0624 120.0001,-172.0624 127.0001,-172.0623\"/>\n</g>\n<!-- 140476514620616 -->\n<g id=\"node7\" class=\"node\">\n<title>140476514620616</title>\n<polygon fill=\"none\" stroke=\"#000000\" points=\"0,-138.9264 0,-161.9264 73,-161.9264 73,-138.9264 0,-138.9264\"/>\n<text text-anchor=\"middle\" x=\"16.5\" y=\"-146.7264\" font-family=\"Times,serif\" font-size=\"14.00\" fill=\"#000000\">&lt;&lt;</text>\n<polyline fill=\"none\" stroke=\"#000000\" points=\"33,-138.9264 33,-161.9264 \"/>\n<text text-anchor=\"middle\" x=\"43\" y=\"-146.7264\" font-family=\"Times,serif\" font-size=\"14.00\" fill=\"#000000\"> </text>\n<polyline fill=\"none\" stroke=\"#000000\" points=\"53,-138.9264 53,-161.9264 \"/>\n<text text-anchor=\"middle\" x=\"63\" y=\"-146.7264\" font-family=\"Times,serif\" font-size=\"14.00\" fill=\"#000000\"> </text>\n</g>\n<!-- 5&#45;&gt;140476514620616 -->\n<g id=\"edge6\" class=\"edge\">\n<title>5&#45;&gt;140476514620616</title>\n<path fill=\"none\" stroke=\"#000000\" d=\"M106.7255,-206.2946C93.2694,-195.5896 74.2428,-180.4529 59.3877,-168.6348\"/>\n<polygon fill=\"#000000\" stroke=\"#000000\" points=\"61.2015,-165.6053 51.1968,-162.1185 56.8435,-171.0833 61.2015,-165.6053\"/>\n</g>\n<!-- 140476514659568&#45;&gt;0 -->\n<g id=\"edge4\" class=\"edge\">\n<title>140476514659568:p0&#45;&gt;0</title>\n<path fill=\"none\" stroke=\"#000000\" d=\"M125.5,-138.4264C125.5,-129.7987 124.5967,-120.5091 123.3971,-111.9765\"/>\n<polygon fill=\"#000000\" stroke=\"#000000\" points=\"126.845,-111.3712 121.8278,-102.0396 119.9307,-112.4632 126.845,-111.3712\"/>\n</g>\n<!-- 140476514659568&#45;&gt;1 -->\n<g id=\"edge5\" class=\"edge\">\n<title>140476514659568:p1&#45;&gt;1</title>\n<path fill=\"none\" stroke=\"#000000\" d=\"M145.5,-138.4264C145.5,-125.3844 152.4365,-113.043 160.3823,-103.1843\"/>\n<polygon fill=\"#000000\" stroke=\"#000000\" points=\"163.1547,-105.3329 167.164,-95.526 157.9141,-100.6921 163.1547,-105.3329\"/>\n</g>\n<!-- 140476514620616&#45;&gt;0 -->\n<g id=\"edge7\" class=\"edge\">\n<title>140476514620616:p0&#45;&gt;0</title>\n<path fill=\"none\" stroke=\"#000000\" d=\"M43.5,-138.4264C43.5,-132.2178 69.908,-113.0096 91.1727,-98.5489\"/>\n<polygon fill=\"#000000\" stroke=\"#000000\" points=\"93.2431,-101.3744 99.5867,-92.8886 89.3358,-95.5664 93.2431,-101.3744\"/>\n</g>\n<!-- 4 -->\n<g id=\"node8\" class=\"node\">\n<title>4</title>\n<ellipse fill=\"none\" stroke=\"#000000\" cx=\"51.5\" cy=\"-81.2132\" rx=\"21.4286\" ry=\"21.4286\"/>\n<text text-anchor=\"middle\" x=\"51.5\" y=\"-77.5132\" font-family=\"Times,serif\" font-size=\"14.00\" fill=\"#000000\">e4</text>\n</g>\n<!-- 140476514620616&#45;&gt;4 -->\n<g id=\"edge8\" class=\"edge\">\n<title>140476514620616:p1&#45;&gt;4</title>\n<path fill=\"none\" stroke=\"#000000\" d=\"M63.5,-138.4264C63.5,-129.6238 62.1225,-120.2184 60.301,-111.6292\"/>\n<polygon fill=\"#000000\" stroke=\"#000000\" points=\"63.646,-110.5676 57.9216,-101.6524 56.837,-112.1916 63.646,-110.5676\"/>\n</g>\n<!-- 140476514619896 -->\n<g id=\"node9\" class=\"node\">\n<title>140476514619896</title>\n<polygon fill=\"none\" stroke=\"#000000\" points=\"18.5,-.5 18.5,-23.5 72.5,-23.5 72.5,-.5 18.5,-.5\"/>\n<text text-anchor=\"middle\" x=\"45.5\" y=\"-8.3\" font-family=\"Times,serif\" font-size=\"14.00\" fill=\"#000000\">1</text>\n</g>\n<!-- 4&#45;&gt;140476514619896 -->\n<g id=\"edge9\" class=\"edge\">\n<title>4&#45;&gt;140476514619896</title>\n<path fill=\"none\" stroke=\"#000000\" d=\"M49.6672,-60.0709C48.9483,-51.7783 48.1235,-42.2638 47.3984,-33.8994\"/>\n<polygon fill=\"#000000\" stroke=\"#000000\" points=\"50.8706,-33.4259 46.5199,-23.7656 43.8968,-34.0305 50.8706,-33.4259\"/>\n</g>\n<!-- 3 -->\n<g id=\"node10\" class=\"node\">\n<title>3</title>\n<ellipse fill=\"none\" stroke=\"#000000\" cx=\"143.5\" cy=\"-358.066\" rx=\"21.4286\" ry=\"21.4286\"/>\n<text text-anchor=\"middle\" x=\"143.5\" y=\"-354.366\" font-family=\"Times,serif\" font-size=\"14.00\" fill=\"#000000\">e3</text>\n</g>\n<!-- 140476514583032 -->\n<g id=\"node11\" class=\"node\">\n<title>140476514583032</title>\n<polygon fill=\"none\" stroke=\"#000000\" points=\"113.5,-277.3528 113.5,-300.3528 173.5,-300.3528 173.5,-277.3528 113.5,-277.3528\"/>\n<text text-anchor=\"middle\" x=\"123.5\" y=\"-285.1528\" font-family=\"Times,serif\" font-size=\"14.00\" fill=\"#000000\">/</text>\n<polyline fill=\"none\" stroke=\"#000000\" points=\"133.5,-277.3528 133.5,-300.3528 \"/>\n<text text-anchor=\"middle\" x=\"143.5\" y=\"-285.1528\" font-family=\"Times,serif\" font-size=\"14.00\" fill=\"#000000\"> </text>\n<polyline fill=\"none\" stroke=\"#000000\" points=\"153.5,-277.3528 153.5,-300.3528 \"/>\n<text text-anchor=\"middle\" x=\"163.5\" y=\"-285.1528\" font-family=\"Times,serif\" font-size=\"14.00\" fill=\"#000000\"> </text>\n</g>\n<!-- 3&#45;&gt;140476514583032 -->\n<g id=\"edge10\" class=\"edge\">\n<title>3&#45;&gt;140476514583032</title>\n<path fill=\"none\" stroke=\"#000000\" d=\"M143.5,-336.5459C143.5,-328.2683 143.5,-318.8192 143.5,-310.5271\"/>\n<polygon fill=\"#000000\" stroke=\"#000000\" points=\"147.0001,-310.4887 143.5,-300.4888 140.0001,-310.4888 147.0001,-310.4887\"/>\n</g>\n<!-- 140476514583032&#45;&gt;1 -->\n<g id=\"edge12\" class=\"edge\">\n<title>140476514583032:p1&#45;&gt;1</title>\n<path fill=\"none\" stroke=\"#000000\" d=\"M163.5,-276.8528C163.5,-218.4936 172.4163,-150.8474 178.3422,-112.3335\"/>\n<polygon fill=\"#000000\" stroke=\"#000000\" points=\"181.8279,-112.6974 179.9244,-102.275 174.9129,-111.6096 181.8279,-112.6974\"/>\n</g>\n<!-- 140476514583032&#45;&gt;5 -->\n<g id=\"edge11\" class=\"edge\">\n<title>140476514583032:p0&#45;&gt;5</title>\n<path fill=\"none\" stroke=\"#000000\" d=\"M143.5,-276.8528C143.5,-267.0392 140.8454,-256.7823 137.4705,-247.7077\"/>\n<polygon fill=\"#000000\" stroke=\"#000000\" points=\"140.6767,-246.302 133.6172,-238.4018 134.2092,-248.9801 140.6767,-246.302\"/>\n</g>\n</g>\n</svg>\n"
          },
          "metadata": {
            "tags": []
          },
          "execution_count": 339
        }
      ]
    },
    {
      "cell_type": "markdown",
      "metadata": {
        "id": "fqA1lV0DwjjV"
      },
      "source": [
        "Building a Substitution Engine\n",
        "==============================\n",
        "\n",
        "In this case, we manually identified that two specific eclasses that could be merged, but we would like to apply some generic rewrite rules. Let's use our `Node` class to define some patterns we'd apply automatically:"
      ]
    },
    {
      "cell_type": "code",
      "metadata": {
        "colab": {
          "base_uri": "https://localhost:8080/"
        },
        "id": "MvcianSIxOT0",
        "outputId": "b4da5f84-a0fd-4847-8636-d9d3dd797172"
      },
      "source": [
        "class Rule:\n",
        "    def __init__(self, fn):\n",
        "      self.lhs, self.rhs = exp(fn)\n",
        "    def __repr__(self):\n",
        "        return f\"{self.lhs} -> {self.rhs}\"\n",
        "rules = [\n",
        "    Rule(lambda x: (x * 2, x << 1)), # times is a shift\n",
        "    Rule(lambda x, y, z: ((x * y) / z, x * (y / z))), # reassociate\n",
        "    Rule(lambda x: (x / x, Node(1,()))), # simplify\n",
        "    Rule(lambda x: (x * 1, x)), # simplify\n",
        "]\n",
        "rules"
      ],
      "execution_count": null,
      "outputs": [
        {
          "output_type": "execute_result",
          "data": {
            "text/plain": [
              "[(* x 2) -> (<< x 1),\n",
              " (/ (* x y) z) -> (* x (/ y z)),\n",
              " (/ x x) -> 1,\n",
              " (* x 1) -> x]"
            ]
          },
          "metadata": {
            "tags": []
          },
          "execution_count": 340
        }
      ]
    },
    {
      "cell_type": "markdown",
      "metadata": {
        "id": "8jMA2-5v1pOF"
      },
      "source": [
        "Now we define a pattern matching function that takes a pattern, matches it to nodes in the graph, and returns the eclasses that match, along with dictionary mapping the free variables in the pattern to the eclasses they matched to."
      ]
    },
    {
      "cell_type": "code",
      "metadata": {
        "id": "W0SJXFVrvdCp"
      },
      "source": [
        "Env = Dict[str, EClassID]\n",
        "def ematch(eclasses: 'Dict[EClassID, List[ENode]]', pattern: Node) -> 'List[Tuple[EClassID, Env]]':\n",
        "    def match_in(p: 'Node', eid: 'EClassID', env: Env) -> 'Tuple[Bool, Env]':\n",
        "        def enode_matches(p: Node, enode: ENode, env: Env) -> 'Tuple[Bool, Env]':\n",
        "            if enode.key != p.key:\n",
        "                return False, env\n",
        "            new_env = env\n",
        "            for arg_pattern, arg_eid in zip(p.args, enode.args):\n",
        "                matched, new_env = match_in(arg_pattern, arg_eid, new_env)\n",
        "                if not matched:\n",
        "                    return False, env\n",
        "            return True, new_env\n",
        "        if not p.args and not isinstance(p.key, int):\n",
        "            # this is a leaf variable like x, match it with the environment\n",
        "            id = p.key\n",
        "            if id not in env:\n",
        "                env = {**env} # this is expensive but can be optimized\n",
        "                env[id] = eid\n",
        "                return True, env\n",
        "            else:\n",
        "                # check this value matches to the same thing\n",
        "                return env[id] is eid, env\n",
        "        else:\n",
        "            # does one of the ways to define this class match the pattern?\n",
        "            for enode in eclasses[eid]:\n",
        "                matches, new_env = enode_matches(p, enode, env)\n",
        "                if matches:\n",
        "                    return True, new_env\n",
        "            return False, env\n",
        "\n",
        "    matches = []\n",
        "    for eid in eclasses.keys():\n",
        "        match, env = match_in(pattern, eid, {})\n",
        "        if match:\n",
        "            matches.append((eid, env))\n",
        "    return matches"
      ],
      "execution_count": null,
      "outputs": []
    },
    {
      "cell_type": "markdown",
      "metadata": {
        "id": "zikCWjHH14YH"
      },
      "source": [
        "Lets match `(x * y) / z` against the graph:"
      ]
    },
    {
      "cell_type": "code",
      "metadata": {
        "colab": {
          "base_uri": "https://localhost:8080/"
        },
        "id": "_ggL8kdk2D57",
        "outputId": "f5ecbadf-d346-4813-e3f5-bbd9aa4df4c2"
      },
      "source": [
        "matches = ematch(eg.eclasses(), rules[1].lhs)\n",
        "matches[0]"
      ],
      "execution_count": null,
      "outputs": [
        {
          "output_type": "execute_result",
          "data": {
            "text/plain": [
              "(e3, {'x': e0, 'y': e1, 'z': e1})"
            ]
          },
          "metadata": {
            "tags": []
          },
          "execution_count": 342
        }
      ]
    },
    {
      "cell_type": "markdown",
      "metadata": {
        "id": "WaeJCCda2YI5"
      },
      "source": [
        "Another useful building block is the ability to create new nodes in the egraph based on a pattern, and an environment to bind the free variables in the pattern to eclasses: "
      ]
    },
    {
      "cell_type": "code",
      "metadata": {
        "colab": {
          "base_uri": "https://localhost:8080/",
          "height": 537
        },
        "id": "tGwlArag1SZi",
        "outputId": "272d18ae-bf1a-4ba1-8e1b-f796a176f5c2"
      },
      "source": [
        "def subst(self, pattern: Node, env: Env) -> EClassID:\n",
        "    if not pattern.args and not isinstance(pattern.key, int):\n",
        "        return env[pattern.key]\n",
        "    else:\n",
        "        enode = ENode(pattern.key, tuple(self.subst(arg, env) for arg in pattern.args))\n",
        "        return self.add_enode(enode)\n",
        "EGraph.subst = subst\n",
        "\n",
        "\n",
        "lhs, env = matches[0]\n",
        "rhs = eg.subst(rules[1].rhs, env)\n",
        "eg"
      ],
      "execution_count": null,
      "outputs": [
        {
          "output_type": "execute_result",
          "data": {
            "text/plain": [
              "<__main__.EGraph at 0x7fc33cbf7828>"
            ],
            "image/svg+xml": "<?xml version=\"1.0\" encoding=\"UTF-8\" standalone=\"no\"?>\n<!DOCTYPE svg PUBLIC \"-//W3C//DTD SVG 1.1//EN\"\n \"http://www.w3.org/Graphics/SVG/1.1/DTD/svg11.dtd\">\n<!-- Generated by graphviz version 2.40.1 (20161225.0304)\n -->\n<!-- Title: %3 Pages: 1 -->\n<svg width=\"266pt\" height=\"387pt\"\n viewBox=\"0.00 0.00 266.09 387.28\" xmlns=\"http://www.w3.org/2000/svg\" xmlns:xlink=\"http://www.w3.org/1999/xlink\">\n<g id=\"graph0\" class=\"graph\" transform=\"scale(1 1) rotate(0) translate(4 383.2792)\">\n<title>%3</title>\n<polygon fill=\"#ffffff\" stroke=\"transparent\" points=\"-4,4 -4,-383.2792 262.0886,-383.2792 262.0886,4 -4,4\"/>\n<!-- 0 -->\n<g id=\"node1\" class=\"node\">\n<title>0</title>\n<ellipse fill=\"none\" stroke=\"#000000\" cx=\"33.0106\" cy=\"-81.2132\" rx=\"21.4286\" ry=\"21.4286\"/>\n<text text-anchor=\"middle\" x=\"33.0106\" y=\"-77.5132\" font-family=\"Times,serif\" font-size=\"14.00\" fill=\"#000000\">e0</text>\n</g>\n<!-- 140476514658848 -->\n<g id=\"node2\" class=\"node\">\n<title>140476514658848</title>\n<polygon fill=\"none\" stroke=\"#000000\" points=\".0106,-.5 .0106,-23.5 54.0106,-23.5 54.0106,-.5 .0106,-.5\"/>\n<text text-anchor=\"middle\" x=\"27.0106\" y=\"-8.3\" font-family=\"Times,serif\" font-size=\"14.00\" fill=\"#000000\">a</text>\n</g>\n<!-- 0&#45;&gt;140476514658848 -->\n<g id=\"edge1\" class=\"edge\">\n<title>0&#45;&gt;140476514658848</title>\n<path fill=\"none\" stroke=\"#000000\" d=\"M31.1778,-60.0709C30.459,-51.7783 29.6342,-42.2638 28.9091,-33.8994\"/>\n<polygon fill=\"#000000\" stroke=\"#000000\" points=\"32.3812,-33.4259 28.0306,-23.7656 25.4074,-34.0305 32.3812,-33.4259\"/>\n</g>\n<!-- 1 -->\n<g id=\"node3\" class=\"node\">\n<title>1</title>\n<ellipse fill=\"none\" stroke=\"#000000\" cx=\"225.0106\" cy=\"-81.2132\" rx=\"21.4286\" ry=\"21.4286\"/>\n<text text-anchor=\"middle\" x=\"225.0106\" y=\"-77.5132\" font-family=\"Times,serif\" font-size=\"14.00\" fill=\"#000000\">e1</text>\n</g>\n<!-- 140476514658560 -->\n<g id=\"node4\" class=\"node\">\n<title>140476514658560</title>\n<polygon fill=\"none\" stroke=\"#000000\" points=\"198.0106,-.5 198.0106,-23.5 252.0106,-23.5 252.0106,-.5 198.0106,-.5\"/>\n<text text-anchor=\"middle\" x=\"225.0106\" y=\"-8.3\" font-family=\"Times,serif\" font-size=\"14.00\" fill=\"#000000\">2</text>\n</g>\n<!-- 1&#45;&gt;140476514658560 -->\n<g id=\"edge2\" class=\"edge\">\n<title>1&#45;&gt;140476514658560</title>\n<path fill=\"none\" stroke=\"#000000\" d=\"M225.0106,-59.6931C225.0106,-51.4155 225.0106,-41.9664 225.0106,-33.6743\"/>\n<polygon fill=\"#000000\" stroke=\"#000000\" points=\"228.5107,-33.6359 225.0106,-23.636 221.5107,-33.636 228.5107,-33.6359\"/>\n</g>\n<!-- 5 -->\n<g id=\"node5\" class=\"node\">\n<title>5</title>\n<ellipse fill=\"none\" stroke=\"#000000\" cx=\"135.0106\" cy=\"-219.6396\" rx=\"21.4286\" ry=\"21.4286\"/>\n<text text-anchor=\"middle\" x=\"135.0106\" y=\"-215.9396\" font-family=\"Times,serif\" font-size=\"14.00\" fill=\"#000000\">e5</text>\n</g>\n<!-- 140476514659568 -->\n<g id=\"node6\" class=\"node\">\n<title>140476514659568</title>\n<polygon fill=\"none\" stroke=\"#000000\" points=\"103.0106,-138.9264 103.0106,-161.9264 167.0106,-161.9264 167.0106,-138.9264 103.0106,-138.9264\"/>\n<text text-anchor=\"middle\" x=\"115.0106\" y=\"-146.7264\" font-family=\"Times,serif\" font-size=\"14.00\" fill=\"#000000\">*</text>\n<polyline fill=\"none\" stroke=\"#000000\" points=\"127.0106,-138.9264 127.0106,-161.9264 \"/>\n<text text-anchor=\"middle\" x=\"137.0106\" y=\"-146.7264\" font-family=\"Times,serif\" font-size=\"14.00\" fill=\"#000000\"> </text>\n<polyline fill=\"none\" stroke=\"#000000\" points=\"147.0106,-138.9264 147.0106,-161.9264 \"/>\n<text text-anchor=\"middle\" x=\"157.0106\" y=\"-146.7264\" font-family=\"Times,serif\" font-size=\"14.00\" fill=\"#000000\"> </text>\n</g>\n<!-- 5&#45;&gt;140476514659568 -->\n<g id=\"edge3\" class=\"edge\">\n<title>5&#45;&gt;140476514659568</title>\n<path fill=\"none\" stroke=\"#000000\" d=\"M135.0106,-198.1195C135.0106,-189.8419 135.0106,-180.3928 135.0106,-172.1007\"/>\n<polygon fill=\"#000000\" stroke=\"#000000\" points=\"138.5107,-172.0623 135.0106,-162.0624 131.5107,-172.0624 138.5107,-172.0623\"/>\n</g>\n<!-- 140476514620616 -->\n<g id=\"node7\" class=\"node\">\n<title>140476514620616</title>\n<polygon fill=\"none\" stroke=\"#000000\" points=\"11.5106,-138.9264 11.5106,-161.9264 84.5106,-161.9264 84.5106,-138.9264 11.5106,-138.9264\"/>\n<text text-anchor=\"middle\" x=\"28.0106\" y=\"-146.7264\" font-family=\"Times,serif\" font-size=\"14.00\" fill=\"#000000\">&lt;&lt;</text>\n<polyline fill=\"none\" stroke=\"#000000\" points=\"44.5106,-138.9264 44.5106,-161.9264 \"/>\n<text text-anchor=\"middle\" x=\"54.5106\" y=\"-146.7264\" font-family=\"Times,serif\" font-size=\"14.00\" fill=\"#000000\"> </text>\n<polyline fill=\"none\" stroke=\"#000000\" points=\"64.5106,-138.9264 64.5106,-161.9264 \"/>\n<text text-anchor=\"middle\" x=\"74.5106\" y=\"-146.7264\" font-family=\"Times,serif\" font-size=\"14.00\" fill=\"#000000\"> </text>\n</g>\n<!-- 5&#45;&gt;140476514620616 -->\n<g id=\"edge6\" class=\"edge\">\n<title>5&#45;&gt;140476514620616</title>\n<path fill=\"none\" stroke=\"#000000\" d=\"M118.2362,-206.2946C104.7801,-195.5896 85.7535,-180.4529 70.8983,-168.6348\"/>\n<polygon fill=\"#000000\" stroke=\"#000000\" points=\"72.7122,-165.6053 62.7075,-162.1185 68.3541,-171.0833 72.7122,-165.6053\"/>\n</g>\n<!-- 140476514659568&#45;&gt;0 -->\n<g id=\"edge4\" class=\"edge\">\n<title>140476514659568:p0&#45;&gt;0</title>\n<path fill=\"none\" stroke=\"#000000\" d=\"M137.0106,-138.4264C137.0106,-103.0463 96.7091,-120.015 66.0106,-102.4264 63.994,-101.271 61.9286,-100.0467 59.8633,-98.7923\"/>\n<polygon fill=\"#000000\" stroke=\"#000000\" points=\"61.2946,-95.5592 50.9608,-93.2218 57.5815,-101.4933 61.2946,-95.5592\"/>\n</g>\n<!-- 140476514659568&#45;&gt;1 -->\n<g id=\"edge5\" class=\"edge\">\n<title>140476514659568:p1&#45;&gt;1</title>\n<path fill=\"none\" stroke=\"#000000\" d=\"M157.0106,-138.4264C157.0106,-116.8798 177.2478,-101.815 195.6421,-92.5723\"/>\n<polygon fill=\"#000000\" stroke=\"#000000\" points=\"197.3621,-95.6334 204.9762,-88.2662 194.4297,-89.2771 197.3621,-95.6334\"/>\n</g>\n<!-- 140476514620616&#45;&gt;0 -->\n<g id=\"edge7\" class=\"edge\">\n<title>140476514620616:p0&#45;&gt;0</title>\n<path fill=\"none\" stroke=\"#000000\" d=\"M55.0106,-138.4264C55.0106,-128.423 52.0445,-118.052 48.2904,-108.9321\"/>\n<polygon fill=\"#000000\" stroke=\"#000000\" points=\"51.3618,-107.2332 44.0106,-99.6036 44.9994,-110.1522 51.3618,-107.2332\"/>\n</g>\n<!-- 4 -->\n<g id=\"node8\" class=\"node\">\n<title>4</title>\n<ellipse fill=\"none\" stroke=\"#000000\" cx=\"96.0106\" cy=\"-81.2132\" rx=\"21.4286\" ry=\"21.4286\"/>\n<text text-anchor=\"middle\" x=\"96.0106\" y=\"-77.5132\" font-family=\"Times,serif\" font-size=\"14.00\" fill=\"#000000\">e4</text>\n</g>\n<!-- 140476514620616&#45;&gt;4 -->\n<g id=\"edge8\" class=\"edge\">\n<title>140476514620616:p1&#45;&gt;4</title>\n<path fill=\"none\" stroke=\"#000000\" d=\"M75.0106,-138.4264C75.0106,-128.4804 77.842,-118.1247 81.4254,-109.001\"/>\n<polygon fill=\"#000000\" stroke=\"#000000\" points=\"84.7095,-110.2267 85.5106,-99.6622 78.2962,-107.4213 84.7095,-110.2267\"/>\n</g>\n<!-- 140476514619896 -->\n<g id=\"node9\" class=\"node\">\n<title>140476514619896</title>\n<polygon fill=\"none\" stroke=\"#000000\" points=\"72.0106,-.5 72.0106,-23.5 126.0106,-23.5 126.0106,-.5 72.0106,-.5\"/>\n<text text-anchor=\"middle\" x=\"99.0106\" y=\"-8.3\" font-family=\"Times,serif\" font-size=\"14.00\" fill=\"#000000\">1</text>\n</g>\n<!-- 4&#45;&gt;140476514619896 -->\n<g id=\"edge9\" class=\"edge\">\n<title>4&#45;&gt;140476514619896</title>\n<path fill=\"none\" stroke=\"#000000\" d=\"M96.9434,-59.6931C97.3022,-51.4155 97.7118,-41.9664 98.0712,-33.6743\"/>\n<polygon fill=\"#000000\" stroke=\"#000000\" points=\"101.5699,-33.7782 98.5063,-23.636 94.5764,-33.475 101.5699,-33.7782\"/>\n</g>\n<!-- 3 -->\n<g id=\"node10\" class=\"node\">\n<title>3</title>\n<ellipse fill=\"none\" stroke=\"#000000\" cx=\"194.0106\" cy=\"-358.066\" rx=\"21.4286\" ry=\"21.4286\"/>\n<text text-anchor=\"middle\" x=\"194.0106\" y=\"-354.366\" font-family=\"Times,serif\" font-size=\"14.00\" fill=\"#000000\">e3</text>\n</g>\n<!-- 140476514583032 -->\n<g id=\"node11\" class=\"node\">\n<title>140476514583032</title>\n<polygon fill=\"none\" stroke=\"#000000\" points=\"164.0106,-277.3528 164.0106,-300.3528 224.0106,-300.3528 224.0106,-277.3528 164.0106,-277.3528\"/>\n<text text-anchor=\"middle\" x=\"174.0106\" y=\"-285.1528\" font-family=\"Times,serif\" font-size=\"14.00\" fill=\"#000000\">/</text>\n<polyline fill=\"none\" stroke=\"#000000\" points=\"184.0106,-277.3528 184.0106,-300.3528 \"/>\n<text text-anchor=\"middle\" x=\"194.0106\" y=\"-285.1528\" font-family=\"Times,serif\" font-size=\"14.00\" fill=\"#000000\"> </text>\n<polyline fill=\"none\" stroke=\"#000000\" points=\"204.0106,-277.3528 204.0106,-300.3528 \"/>\n<text text-anchor=\"middle\" x=\"214.0106\" y=\"-285.1528\" font-family=\"Times,serif\" font-size=\"14.00\" fill=\"#000000\"> </text>\n</g>\n<!-- 3&#45;&gt;140476514583032 -->\n<g id=\"edge10\" class=\"edge\">\n<title>3&#45;&gt;140476514583032</title>\n<path fill=\"none\" stroke=\"#000000\" d=\"M194.0106,-336.5459C194.0106,-328.2683 194.0106,-318.8192 194.0106,-310.5271\"/>\n<polygon fill=\"#000000\" stroke=\"#000000\" points=\"197.5107,-310.4887 194.0106,-300.4888 190.5107,-310.4888 197.5107,-310.4887\"/>\n</g>\n<!-- 140476514583032&#45;&gt;1 -->\n<g id=\"edge12\" class=\"edge\">\n<title>140476514583032:p1&#45;&gt;1</title>\n<path fill=\"none\" stroke=\"#000000\" d=\"M214.0106,-276.8528C214.0106,-258.3296 228.0905,-258.0348 235.0106,-240.8528 252.3078,-197.9058 264.7716,-183.4579 254.0106,-138.4264 251.4871,-127.8662 246.6792,-117.0509 241.6931,-107.7066\"/>\n<polygon fill=\"#000000\" stroke=\"#000000\" points=\"244.6927,-105.9005 236.7255,-98.9166 238.5985,-109.3446 244.6927,-105.9005\"/>\n</g>\n<!-- 140476514583032&#45;&gt;5 -->\n<g id=\"edge11\" class=\"edge\">\n<title>140476514583032:p0&#45;&gt;5</title>\n<path fill=\"none\" stroke=\"#000000\" d=\"M194.0106,-276.8528C194.0106,-258.0076 178.3058,-243.3788 163.1013,-233.6319\"/>\n<polygon fill=\"#000000\" stroke=\"#000000\" points=\"164.7217,-230.5243 154.3294,-228.4623 161.1675,-236.555 164.7217,-230.5243\"/>\n</g>\n<!-- 6 -->\n<g id=\"node12\" class=\"node\">\n<title>6</title>\n<ellipse fill=\"none\" stroke=\"#000000\" cx=\"205.0106\" cy=\"-219.6396\" rx=\"21.4286\" ry=\"21.4286\"/>\n<text text-anchor=\"middle\" x=\"205.0106\" y=\"-215.9396\" font-family=\"Times,serif\" font-size=\"14.00\" fill=\"#000000\">e6</text>\n</g>\n<!-- 140476514649144 -->\n<g id=\"node13\" class=\"node\">\n<title>140476514649144</title>\n<polygon fill=\"none\" stroke=\"#000000\" points=\"185.0106,-138.9264 185.0106,-161.9264 245.0106,-161.9264 245.0106,-138.9264 185.0106,-138.9264\"/>\n<text text-anchor=\"middle\" x=\"195.0106\" y=\"-146.7264\" font-family=\"Times,serif\" font-size=\"14.00\" fill=\"#000000\">/</text>\n<polyline fill=\"none\" stroke=\"#000000\" points=\"205.0106,-138.9264 205.0106,-161.9264 \"/>\n<text text-anchor=\"middle\" x=\"215.0106\" y=\"-146.7264\" font-family=\"Times,serif\" font-size=\"14.00\" fill=\"#000000\"> </text>\n<polyline fill=\"none\" stroke=\"#000000\" points=\"225.0106,-138.9264 225.0106,-161.9264 \"/>\n<text text-anchor=\"middle\" x=\"235.0106\" y=\"-146.7264\" font-family=\"Times,serif\" font-size=\"14.00\" fill=\"#000000\"> </text>\n</g>\n<!-- 6&#45;&gt;140476514649144 -->\n<g id=\"edge13\" class=\"edge\">\n<title>6&#45;&gt;140476514649144</title>\n<path fill=\"none\" stroke=\"#000000\" d=\"M208.0653,-198.4973C209.2634,-190.2047 210.6381,-180.6902 211.8466,-172.3258\"/>\n<polygon fill=\"#000000\" stroke=\"#000000\" points=\"215.3447,-172.5897 213.3107,-162.192 208.4167,-171.5887 215.3447,-172.5897\"/>\n</g>\n<!-- 140476514649144&#45;&gt;1 -->\n<g id=\"edge14\" class=\"edge\">\n<title>140476514649144:p0&#45;&gt;1</title>\n<path fill=\"none\" stroke=\"#000000\" d=\"M215.0106,-138.4264C215.0106,-129.7523 216.1398,-120.4474 217.6392,-111.9152\"/>\n<polygon fill=\"#000000\" stroke=\"#000000\" points=\"221.0964,-112.4739 219.6009,-101.9852 214.2291,-111.1172 221.0964,-112.4739\"/>\n</g>\n<!-- 140476514649144&#45;&gt;1 -->\n<g id=\"edge15\" class=\"edge\">\n<title>140476514649144:p1&#45;&gt;1</title>\n<path fill=\"none\" stroke=\"#000000\" d=\"M235.0106,-138.4264C235.0106,-129.7523 233.8815,-120.4474 232.382,-111.9152\"/>\n<polygon fill=\"#000000\" stroke=\"#000000\" points=\"235.7921,-111.1172 230.4204,-101.9852 228.9248,-112.4739 235.7921,-111.1172\"/>\n</g>\n<!-- 7 -->\n<g id=\"node14\" class=\"node\">\n<title>7</title>\n<ellipse fill=\"none\" stroke=\"#000000\" cx=\"77.0106\" cy=\"-358.066\" rx=\"21.4286\" ry=\"21.4286\"/>\n<text text-anchor=\"middle\" x=\"77.0106\" y=\"-354.366\" font-family=\"Times,serif\" font-size=\"14.00\" fill=\"#000000\">e7</text>\n</g>\n<!-- 140476514649936 -->\n<g id=\"node15\" class=\"node\">\n<title>140476514649936</title>\n<polygon fill=\"none\" stroke=\"#000000\" points=\"45.0106,-277.3528 45.0106,-300.3528 109.0106,-300.3528 109.0106,-277.3528 45.0106,-277.3528\"/>\n<text text-anchor=\"middle\" x=\"57.0106\" y=\"-285.1528\" font-family=\"Times,serif\" font-size=\"14.00\" fill=\"#000000\">*</text>\n<polyline fill=\"none\" stroke=\"#000000\" points=\"69.0106,-277.3528 69.0106,-300.3528 \"/>\n<text text-anchor=\"middle\" x=\"79.0106\" y=\"-285.1528\" font-family=\"Times,serif\" font-size=\"14.00\" fill=\"#000000\"> </text>\n<polyline fill=\"none\" stroke=\"#000000\" points=\"89.0106,-277.3528 89.0106,-300.3528 \"/>\n<text text-anchor=\"middle\" x=\"99.0106\" y=\"-285.1528\" font-family=\"Times,serif\" font-size=\"14.00\" fill=\"#000000\"> </text>\n</g>\n<!-- 7&#45;&gt;140476514649936 -->\n<g id=\"edge16\" class=\"edge\">\n<title>7&#45;&gt;140476514649936</title>\n<path fill=\"none\" stroke=\"#000000\" d=\"M77.0106,-336.5459C77.0106,-328.2683 77.0106,-318.8192 77.0106,-310.5271\"/>\n<polygon fill=\"#000000\" stroke=\"#000000\" points=\"80.5107,-310.4887 77.0106,-300.4888 73.5107,-310.4888 80.5107,-310.4887\"/>\n</g>\n<!-- 140476514649936&#45;&gt;0 -->\n<g id=\"edge17\" class=\"edge\">\n<title>140476514649936:p0&#45;&gt;0</title>\n<path fill=\"none\" stroke=\"#000000\" d=\"M79.0106,-276.8528C79.0106,-215.5543 19.9006,-221.0563 2.0106,-162.4264 -3.77,-143.4819 4.524,-122.6169 13.9808,-106.7796\"/>\n<polygon fill=\"#000000\" stroke=\"#000000\" points=\"17.1074,-108.3893 19.5856,-98.0884 11.2246,-104.5956 17.1074,-108.3893\"/>\n</g>\n<!-- 140476514649936&#45;&gt;6 -->\n<g id=\"edge18\" class=\"edge\">\n<title>140476514649936:p1&#45;&gt;6</title>\n<path fill=\"none\" stroke=\"#000000\" d=\"M109.0106,-288.8528C140.0715,-288.8528 167.9245,-264.7176 185.5271,-244.9516\"/>\n<polygon fill=\"#000000\" stroke=\"#000000\" points=\"188.388,-246.9901 192.2006,-237.105 183.0557,-242.455 188.388,-246.9901\"/>\n</g>\n</g>\n</svg>\n"
          },
          "metadata": {
            "tags": []
          },
          "execution_count": 343
        }
      ]
    },
    {
      "cell_type": "markdown",
      "metadata": {
        "id": "zv0PKN0v4POQ"
      },
      "source": [
        "We can tell the egraph that this substitution was equivalent to the original pattern match:"
      ]
    },
    {
      "cell_type": "code",
      "metadata": {
        "colab": {
          "base_uri": "https://localhost:8080/",
          "height": 537
        },
        "id": "jOcvTxAa4vT0",
        "outputId": "573f8ce6-bc77-49d6-e2af-2a261aabf0a6"
      },
      "source": [
        "eg.merge(lhs, rhs)\n",
        "eg.rebuild()\n",
        "eg"
      ],
      "execution_count": null,
      "outputs": [
        {
          "output_type": "execute_result",
          "data": {
            "text/plain": [
              "<__main__.EGraph at 0x7fc33cbf7828>"
            ],
            "image/svg+xml": "<?xml version=\"1.0\" encoding=\"UTF-8\" standalone=\"no\"?>\n<!DOCTYPE svg PUBLIC \"-//W3C//DTD SVG 1.1//EN\"\n \"http://www.w3.org/Graphics/SVG/1.1/DTD/svg11.dtd\">\n<!-- Generated by graphviz version 2.40.1 (20161225.0304)\n -->\n<!-- Title: %3 Pages: 1 -->\n<svg width=\"267pt\" height=\"387pt\"\n viewBox=\"0.00 0.00 267.09 387.28\" xmlns=\"http://www.w3.org/2000/svg\" xmlns:xlink=\"http://www.w3.org/1999/xlink\">\n<g id=\"graph0\" class=\"graph\" transform=\"scale(1 1) rotate(0) translate(4 383.2792)\">\n<title>%3</title>\n<polygon fill=\"#ffffff\" stroke=\"transparent\" points=\"-4,4 -4,-383.2792 263.0861,-383.2792 263.0861,4 -4,4\"/>\n<!-- 0 -->\n<g id=\"node1\" class=\"node\">\n<title>0</title>\n<ellipse fill=\"none\" stroke=\"#000000\" cx=\"34.0082\" cy=\"-81.2132\" rx=\"21.4286\" ry=\"21.4286\"/>\n<text text-anchor=\"middle\" x=\"34.0082\" y=\"-77.5132\" font-family=\"Times,serif\" font-size=\"14.00\" fill=\"#000000\">e0</text>\n</g>\n<!-- 140476514658848 -->\n<g id=\"node2\" class=\"node\">\n<title>140476514658848</title>\n<polygon fill=\"none\" stroke=\"#000000\" points=\"1.0082,-.5 1.0082,-23.5 55.0082,-23.5 55.0082,-.5 1.0082,-.5\"/>\n<text text-anchor=\"middle\" x=\"28.0082\" y=\"-8.3\" font-family=\"Times,serif\" font-size=\"14.00\" fill=\"#000000\">a</text>\n</g>\n<!-- 0&#45;&gt;140476514658848 -->\n<g id=\"edge1\" class=\"edge\">\n<title>0&#45;&gt;140476514658848</title>\n<path fill=\"none\" stroke=\"#000000\" d=\"M32.1754,-60.0709C31.4565,-51.7783 30.6317,-42.2638 29.9066,-33.8994\"/>\n<polygon fill=\"#000000\" stroke=\"#000000\" points=\"33.3788,-33.4259 29.0281,-23.7656 26.4049,-34.0305 33.3788,-33.4259\"/>\n</g>\n<!-- 1 -->\n<g id=\"node3\" class=\"node\">\n<title>1</title>\n<ellipse fill=\"none\" stroke=\"#000000\" cx=\"226.0082\" cy=\"-81.2132\" rx=\"21.4286\" ry=\"21.4286\"/>\n<text text-anchor=\"middle\" x=\"226.0082\" y=\"-77.5132\" font-family=\"Times,serif\" font-size=\"14.00\" fill=\"#000000\">e1</text>\n</g>\n<!-- 140476514658560 -->\n<g id=\"node4\" class=\"node\">\n<title>140476514658560</title>\n<polygon fill=\"none\" stroke=\"#000000\" points=\"199.0082,-.5 199.0082,-23.5 253.0082,-23.5 253.0082,-.5 199.0082,-.5\"/>\n<text text-anchor=\"middle\" x=\"226.0082\" y=\"-8.3\" font-family=\"Times,serif\" font-size=\"14.00\" fill=\"#000000\">2</text>\n</g>\n<!-- 1&#45;&gt;140476514658560 -->\n<g id=\"edge2\" class=\"edge\">\n<title>1&#45;&gt;140476514658560</title>\n<path fill=\"none\" stroke=\"#000000\" d=\"M226.0082,-59.6931C226.0082,-51.4155 226.0082,-41.9664 226.0082,-33.6743\"/>\n<polygon fill=\"#000000\" stroke=\"#000000\" points=\"229.5083,-33.6359 226.0082,-23.636 222.5083,-33.636 229.5083,-33.6359\"/>\n</g>\n<!-- 5 -->\n<g id=\"node5\" class=\"node\">\n<title>5</title>\n<ellipse fill=\"none\" stroke=\"#000000\" cx=\"136.0082\" cy=\"-219.6396\" rx=\"21.4286\" ry=\"21.4286\"/>\n<text text-anchor=\"middle\" x=\"136.0082\" y=\"-215.9396\" font-family=\"Times,serif\" font-size=\"14.00\" fill=\"#000000\">e5</text>\n</g>\n<!-- 140476514659568 -->\n<g id=\"node6\" class=\"node\">\n<title>140476514659568</title>\n<polygon fill=\"none\" stroke=\"#000000\" points=\"104.0082,-138.9264 104.0082,-161.9264 168.0082,-161.9264 168.0082,-138.9264 104.0082,-138.9264\"/>\n<text text-anchor=\"middle\" x=\"116.0082\" y=\"-146.7264\" font-family=\"Times,serif\" font-size=\"14.00\" fill=\"#000000\">*</text>\n<polyline fill=\"none\" stroke=\"#000000\" points=\"128.0082,-138.9264 128.0082,-161.9264 \"/>\n<text text-anchor=\"middle\" x=\"138.0082\" y=\"-146.7264\" font-family=\"Times,serif\" font-size=\"14.00\" fill=\"#000000\"> </text>\n<polyline fill=\"none\" stroke=\"#000000\" points=\"148.0082,-138.9264 148.0082,-161.9264 \"/>\n<text text-anchor=\"middle\" x=\"158.0082\" y=\"-146.7264\" font-family=\"Times,serif\" font-size=\"14.00\" fill=\"#000000\"> </text>\n</g>\n<!-- 5&#45;&gt;140476514659568 -->\n<g id=\"edge3\" class=\"edge\">\n<title>5&#45;&gt;140476514659568</title>\n<path fill=\"none\" stroke=\"#000000\" d=\"M136.0082,-198.1195C136.0082,-189.8419 136.0082,-180.3928 136.0082,-172.1007\"/>\n<polygon fill=\"#000000\" stroke=\"#000000\" points=\"139.5083,-172.0623 136.0082,-162.0624 132.5083,-172.0624 139.5083,-172.0623\"/>\n</g>\n<!-- 140476514620616 -->\n<g id=\"node7\" class=\"node\">\n<title>140476514620616</title>\n<polygon fill=\"none\" stroke=\"#000000\" points=\"12.5082,-138.9264 12.5082,-161.9264 85.5082,-161.9264 85.5082,-138.9264 12.5082,-138.9264\"/>\n<text text-anchor=\"middle\" x=\"29.0082\" y=\"-146.7264\" font-family=\"Times,serif\" font-size=\"14.00\" fill=\"#000000\">&lt;&lt;</text>\n<polyline fill=\"none\" stroke=\"#000000\" points=\"45.5082,-138.9264 45.5082,-161.9264 \"/>\n<text text-anchor=\"middle\" x=\"55.5082\" y=\"-146.7264\" font-family=\"Times,serif\" font-size=\"14.00\" fill=\"#000000\"> </text>\n<polyline fill=\"none\" stroke=\"#000000\" points=\"65.5082,-138.9264 65.5082,-161.9264 \"/>\n<text text-anchor=\"middle\" x=\"75.5082\" y=\"-146.7264\" font-family=\"Times,serif\" font-size=\"14.00\" fill=\"#000000\"> </text>\n</g>\n<!-- 5&#45;&gt;140476514620616 -->\n<g id=\"edge6\" class=\"edge\">\n<title>5&#45;&gt;140476514620616</title>\n<path fill=\"none\" stroke=\"#000000\" d=\"M119.2337,-206.2946C105.7776,-195.5896 86.751,-180.4529 71.8958,-168.6348\"/>\n<polygon fill=\"#000000\" stroke=\"#000000\" points=\"73.7097,-165.6053 63.705,-162.1185 69.3517,-171.0833 73.7097,-165.6053\"/>\n</g>\n<!-- 140476514659568&#45;&gt;0 -->\n<g id=\"edge4\" class=\"edge\">\n<title>140476514659568:p0&#45;&gt;0</title>\n<path fill=\"none\" stroke=\"#000000\" d=\"M138.0082,-138.4264C138.0082,-103.0463 97.7066,-120.015 67.0082,-102.4264 64.9915,-101.271 62.9262,-100.0467 60.8609,-98.7923\"/>\n<polygon fill=\"#000000\" stroke=\"#000000\" points=\"62.2922,-95.5592 51.9584,-93.2218 58.579,-101.4933 62.2922,-95.5592\"/>\n</g>\n<!-- 140476514659568&#45;&gt;1 -->\n<g id=\"edge5\" class=\"edge\">\n<title>140476514659568:p1&#45;&gt;1</title>\n<path fill=\"none\" stroke=\"#000000\" d=\"M158.0082,-138.4264C158.0082,-116.8798 178.2453,-101.815 196.6396,-92.5723\"/>\n<polygon fill=\"#000000\" stroke=\"#000000\" points=\"198.3596,-95.6334 205.9737,-88.2662 195.4272,-89.2771 198.3596,-95.6334\"/>\n</g>\n<!-- 140476514620616&#45;&gt;0 -->\n<g id=\"edge7\" class=\"edge\">\n<title>140476514620616:p0&#45;&gt;0</title>\n<path fill=\"none\" stroke=\"#000000\" d=\"M56.0082,-138.4264C56.0082,-128.423 53.042,-118.052 49.2879,-108.9321\"/>\n<polygon fill=\"#000000\" stroke=\"#000000\" points=\"52.3593,-107.2332 45.0082,-99.6036 45.997,-110.1522 52.3593,-107.2332\"/>\n</g>\n<!-- 4 -->\n<g id=\"node8\" class=\"node\">\n<title>4</title>\n<ellipse fill=\"none\" stroke=\"#000000\" cx=\"97.0082\" cy=\"-81.2132\" rx=\"21.4286\" ry=\"21.4286\"/>\n<text text-anchor=\"middle\" x=\"97.0082\" y=\"-77.5132\" font-family=\"Times,serif\" font-size=\"14.00\" fill=\"#000000\">e4</text>\n</g>\n<!-- 140476514620616&#45;&gt;4 -->\n<g id=\"edge8\" class=\"edge\">\n<title>140476514620616:p1&#45;&gt;4</title>\n<path fill=\"none\" stroke=\"#000000\" d=\"M76.0082,-138.4264C76.0082,-128.4804 78.8395,-118.1247 82.423,-109.001\"/>\n<polygon fill=\"#000000\" stroke=\"#000000\" points=\"85.707,-110.2267 86.5082,-99.6622 79.2937,-107.4213 85.707,-110.2267\"/>\n</g>\n<!-- 140476514619896 -->\n<g id=\"node9\" class=\"node\">\n<title>140476514619896</title>\n<polygon fill=\"none\" stroke=\"#000000\" points=\"73.0082,-.5 73.0082,-23.5 127.0082,-23.5 127.0082,-.5 73.0082,-.5\"/>\n<text text-anchor=\"middle\" x=\"100.0082\" y=\"-8.3\" font-family=\"Times,serif\" font-size=\"14.00\" fill=\"#000000\">1</text>\n</g>\n<!-- 4&#45;&gt;140476514619896 -->\n<g id=\"edge9\" class=\"edge\">\n<title>4&#45;&gt;140476514619896</title>\n<path fill=\"none\" stroke=\"#000000\" d=\"M97.9409,-59.6931C98.2997,-51.4155 98.7093,-41.9664 99.0687,-33.6743\"/>\n<polygon fill=\"#000000\" stroke=\"#000000\" points=\"102.5674,-33.7782 99.5038,-23.636 95.574,-33.475 102.5674,-33.7782\"/>\n</g>\n<!-- 7 -->\n<g id=\"node10\" class=\"node\">\n<title>7</title>\n<ellipse fill=\"none\" stroke=\"#000000\" cx=\"155.0082\" cy=\"-358.066\" rx=\"21.4286\" ry=\"21.4286\"/>\n<text text-anchor=\"middle\" x=\"155.0082\" y=\"-354.366\" font-family=\"Times,serif\" font-size=\"14.00\" fill=\"#000000\">e7</text>\n</g>\n<!-- 140476514583032 -->\n<g id=\"node11\" class=\"node\">\n<title>140476514583032</title>\n<polygon fill=\"none\" stroke=\"#000000\" points=\"165.0082,-277.3528 165.0082,-300.3528 225.0082,-300.3528 225.0082,-277.3528 165.0082,-277.3528\"/>\n<text text-anchor=\"middle\" x=\"175.0082\" y=\"-285.1528\" font-family=\"Times,serif\" font-size=\"14.00\" fill=\"#000000\">/</text>\n<polyline fill=\"none\" stroke=\"#000000\" points=\"185.0082,-277.3528 185.0082,-300.3528 \"/>\n<text text-anchor=\"middle\" x=\"195.0082\" y=\"-285.1528\" font-family=\"Times,serif\" font-size=\"14.00\" fill=\"#000000\"> </text>\n<polyline fill=\"none\" stroke=\"#000000\" points=\"205.0082,-277.3528 205.0082,-300.3528 \"/>\n<text text-anchor=\"middle\" x=\"215.0082\" y=\"-285.1528\" font-family=\"Times,serif\" font-size=\"14.00\" fill=\"#000000\"> </text>\n</g>\n<!-- 7&#45;&gt;140476514583032 -->\n<g id=\"edge10\" class=\"edge\">\n<title>7&#45;&gt;140476514583032</title>\n<path fill=\"none\" stroke=\"#000000\" d=\"M165.7274,-339.5181C171.0731,-330.2683 177.5555,-319.0518 183.0606,-309.526\"/>\n<polygon fill=\"#000000\" stroke=\"#000000\" points=\"186.1883,-311.1088 188.1618,-300.6994 180.1277,-307.6061 186.1883,-311.1088\"/>\n</g>\n<!-- 140476514649936 -->\n<g id=\"node12\" class=\"node\">\n<title>140476514649936</title>\n<polygon fill=\"none\" stroke=\"#000000\" points=\"83.0082,-277.3528 83.0082,-300.3528 147.0082,-300.3528 147.0082,-277.3528 83.0082,-277.3528\"/>\n<text text-anchor=\"middle\" x=\"95.0082\" y=\"-285.1528\" font-family=\"Times,serif\" font-size=\"14.00\" fill=\"#000000\">*</text>\n<polyline fill=\"none\" stroke=\"#000000\" points=\"107.0082,-277.3528 107.0082,-300.3528 \"/>\n<text text-anchor=\"middle\" x=\"117.0082\" y=\"-285.1528\" font-family=\"Times,serif\" font-size=\"14.00\" fill=\"#000000\"> </text>\n<polyline fill=\"none\" stroke=\"#000000\" points=\"127.0082,-277.3528 127.0082,-300.3528 \"/>\n<text text-anchor=\"middle\" x=\"137.0082\" y=\"-285.1528\" font-family=\"Times,serif\" font-size=\"14.00\" fill=\"#000000\"> </text>\n</g>\n<!-- 7&#45;&gt;140476514649936 -->\n<g id=\"edge13\" class=\"edge\">\n<title>7&#45;&gt;140476514649936</title>\n<path fill=\"none\" stroke=\"#000000\" d=\"M144.2889,-339.5181C138.9432,-330.2683 132.4609,-319.0518 126.9557,-309.526\"/>\n<polygon fill=\"#000000\" stroke=\"#000000\" points=\"129.8887,-307.6061 121.8546,-300.6994 123.828,-311.1088 129.8887,-307.6061\"/>\n</g>\n<!-- 140476514583032&#45;&gt;1 -->\n<g id=\"edge12\" class=\"edge\">\n<title>140476514583032:p1&#45;&gt;1</title>\n<path fill=\"none\" stroke=\"#000000\" d=\"M215.0082,-276.8528C215.0082,-258.3296 229.088,-258.0348 236.0082,-240.8528 253.3054,-197.9058 265.7692,-183.4579 255.0082,-138.4264 252.4846,-127.8662 247.6768,-117.0509 242.6906,-107.7066\"/>\n<polygon fill=\"#000000\" stroke=\"#000000\" points=\"245.6902,-105.9005 237.7231,-98.9166 239.5961,-109.3446 245.6902,-105.9005\"/>\n</g>\n<!-- 140476514583032&#45;&gt;5 -->\n<g id=\"edge11\" class=\"edge\">\n<title>140476514583032:p0&#45;&gt;5</title>\n<path fill=\"none\" stroke=\"#000000\" d=\"M195.0082,-276.8528C195.0082,-258.0076 179.3033,-243.3788 164.0988,-233.6319\"/>\n<polygon fill=\"#000000\" stroke=\"#000000\" points=\"165.7192,-230.5243 155.327,-228.4623 162.1651,-236.555 165.7192,-230.5243\"/>\n</g>\n<!-- 140476514649936&#45;&gt;0 -->\n<g id=\"edge14\" class=\"edge\">\n<title>140476514649936:p0&#45;&gt;0</title>\n<path fill=\"none\" stroke=\"#000000\" d=\"M117.0082,-276.8528C117.0082,-205.0652 30.4182,-228.7751 3.0082,-162.4264 -4.771,-143.5961 4.2753,-122.0412 14.5647,-105.8718\"/>\n<polygon fill=\"#000000\" stroke=\"#000000\" points=\"17.5406,-107.7209 20.31,-97.4944 11.7677,-103.7618 17.5406,-107.7209\"/>\n</g>\n<!-- 6 -->\n<g id=\"node13\" class=\"node\">\n<title>6</title>\n<ellipse fill=\"none\" stroke=\"#000000\" cx=\"206.0082\" cy=\"-219.6396\" rx=\"21.4286\" ry=\"21.4286\"/>\n<text text-anchor=\"middle\" x=\"206.0082\" y=\"-215.9396\" font-family=\"Times,serif\" font-size=\"14.00\" fill=\"#000000\">e6</text>\n</g>\n<!-- 140476514649936&#45;&gt;6 -->\n<g id=\"edge15\" class=\"edge\">\n<title>140476514649936:p1&#45;&gt;6</title>\n<path fill=\"none\" stroke=\"#000000\" d=\"M137.0082,-276.8528C137.0082,-265.4497 159.6217,-248.3521 178.9572,-235.8171\"/>\n<polygon fill=\"#000000\" stroke=\"#000000\" points=\"180.928,-238.7121 187.5174,-230.4156 177.1925,-232.7921 180.928,-238.7121\"/>\n</g>\n<!-- 140476514649144 -->\n<g id=\"node14\" class=\"node\">\n<title>140476514649144</title>\n<polygon fill=\"none\" stroke=\"#000000\" points=\"186.0082,-138.9264 186.0082,-161.9264 246.0082,-161.9264 246.0082,-138.9264 186.0082,-138.9264\"/>\n<text text-anchor=\"middle\" x=\"196.0082\" y=\"-146.7264\" font-family=\"Times,serif\" font-size=\"14.00\" fill=\"#000000\">/</text>\n<polyline fill=\"none\" stroke=\"#000000\" points=\"206.0082,-138.9264 206.0082,-161.9264 \"/>\n<text text-anchor=\"middle\" x=\"216.0082\" y=\"-146.7264\" font-family=\"Times,serif\" font-size=\"14.00\" fill=\"#000000\"> </text>\n<polyline fill=\"none\" stroke=\"#000000\" points=\"226.0082,-138.9264 226.0082,-161.9264 \"/>\n<text text-anchor=\"middle\" x=\"236.0082\" y=\"-146.7264\" font-family=\"Times,serif\" font-size=\"14.00\" fill=\"#000000\"> </text>\n</g>\n<!-- 6&#45;&gt;140476514649144 -->\n<g id=\"edge16\" class=\"edge\">\n<title>6&#45;&gt;140476514649144</title>\n<path fill=\"none\" stroke=\"#000000\" d=\"M209.0628,-198.4973C210.261,-190.2047 211.6356,-180.6902 212.8441,-172.3258\"/>\n<polygon fill=\"#000000\" stroke=\"#000000\" points=\"216.3423,-172.5897 214.3083,-162.192 209.4142,-171.5887 216.3423,-172.5897\"/>\n</g>\n<!-- 140476514649144&#45;&gt;1 -->\n<g id=\"edge17\" class=\"edge\">\n<title>140476514649144:p0&#45;&gt;1</title>\n<path fill=\"none\" stroke=\"#000000\" d=\"M216.0082,-138.4264C216.0082,-129.7523 217.1373,-120.4474 218.6368,-111.9152\"/>\n<polygon fill=\"#000000\" stroke=\"#000000\" points=\"222.094,-112.4739 220.5984,-101.9852 215.2267,-111.1172 222.094,-112.4739\"/>\n</g>\n<!-- 140476514649144&#45;&gt;1 -->\n<g id=\"edge18\" class=\"edge\">\n<title>140476514649144:p1&#45;&gt;1</title>\n<path fill=\"none\" stroke=\"#000000\" d=\"M236.0082,-138.4264C236.0082,-129.7523 234.879,-120.4474 233.3796,-111.9152\"/>\n<polygon fill=\"#000000\" stroke=\"#000000\" points=\"236.7897,-111.1172 231.4179,-101.9852 229.9224,-112.4739 236.7897,-111.1172\"/>\n</g>\n</g>\n</svg>\n"
          },
          "metadata": {
            "tags": []
          },
          "execution_count": 344
        }
      ]
    },
    {
      "cell_type": "markdown",
      "metadata": {
        "id": "Foq-xNyF46Go"
      },
      "source": [
        "Substitution Engine Loop\n",
        "========================\n",
        "\n",
        "We can put these together into a loop that applies the rewrite rules:"
      ]
    },
    {
      "cell_type": "code",
      "metadata": {
        "colab": {
          "base_uri": "https://localhost:8080/",
          "height": 537
        },
        "id": "-kb5aagA3nQ_",
        "outputId": "29b5f544-9872-4bee-8aeb-6a1310e7d9da"
      },
      "source": [
        "def apply_rules(eg: 'EGraph', rules: 'List[Rule]'):\n",
        "    eclasses = eg.eclasses()\n",
        "    matches = []\n",
        "    for rule in rules:\n",
        "        for eid, env in ematch(eclasses, rule.lhs):\n",
        "            matches.append((rule, eid, env))\n",
        "    print(f\"VERSION {eg.version}\")\n",
        "    for rule, eid, env in matches:\n",
        "        new_eid = eg.subst(rule.rhs, env)\n",
        "        if eid is not new_eid:\n",
        "          print(f'{eid} MATCHED {rule} with {env}')\n",
        "        eg.merge(eid, new_eid)\n",
        "    eg.rebuild()\n",
        "    return eg\n",
        "\n",
        "eg = EGraph()\n",
        "eg.add_node(exp(lambda a: (a * 2) / 2))\n",
        "eg"
      ],
      "execution_count": null,
      "outputs": [
        {
          "output_type": "execute_result",
          "data": {
            "text/plain": [
              "<__main__.EGraph at 0x7fc33cbe70b8>"
            ],
            "image/svg+xml": "<?xml version=\"1.0\" encoding=\"UTF-8\" standalone=\"no\"?>\n<!DOCTYPE svg PUBLIC \"-//W3C//DTD SVG 1.1//EN\"\n \"http://www.w3.org/Graphics/SVG/1.1/DTD/svg11.dtd\">\n<!-- Generated by graphviz version 2.40.1 (20161225.0304)\n -->\n<!-- Title: %3 Pages: 1 -->\n<svg width=\"134pt\" height=\"387pt\"\n viewBox=\"0.00 0.00 134.00 387.28\" xmlns=\"http://www.w3.org/2000/svg\" xmlns:xlink=\"http://www.w3.org/1999/xlink\">\n<g id=\"graph0\" class=\"graph\" transform=\"scale(1 1) rotate(0) translate(4 383.2792)\">\n<title>%3</title>\n<polygon fill=\"#ffffff\" stroke=\"transparent\" points=\"-4,4 -4,-383.2792 130,-383.2792 130,4 -4,4\"/>\n<!-- 0 -->\n<g id=\"node1\" class=\"node\">\n<title>0</title>\n<ellipse fill=\"none\" stroke=\"#000000\" cx=\"30\" cy=\"-81.2132\" rx=\"21.4286\" ry=\"21.4286\"/>\n<text text-anchor=\"middle\" x=\"30\" y=\"-77.5132\" font-family=\"Times,serif\" font-size=\"14.00\" fill=\"#000000\">e0</text>\n</g>\n<!-- 140476514593240 -->\n<g id=\"node2\" class=\"node\">\n<title>140476514593240</title>\n<polygon fill=\"none\" stroke=\"#000000\" points=\"0,-.5 0,-23.5 54,-23.5 54,-.5 0,-.5\"/>\n<text text-anchor=\"middle\" x=\"27\" y=\"-8.3\" font-family=\"Times,serif\" font-size=\"14.00\" fill=\"#000000\">a</text>\n</g>\n<!-- 0&#45;&gt;140476514593240 -->\n<g id=\"edge1\" class=\"edge\">\n<title>0&#45;&gt;140476514593240</title>\n<path fill=\"none\" stroke=\"#000000\" d=\"M29.0672,-59.6931C28.7084,-51.4155 28.2989,-41.9664 27.9395,-33.6743\"/>\n<polygon fill=\"#000000\" stroke=\"#000000\" points=\"31.4342,-33.475 27.5044,-23.636 24.4408,-33.7782 31.4342,-33.475\"/>\n</g>\n<!-- 1 -->\n<g id=\"node3\" class=\"node\">\n<title>1</title>\n<ellipse fill=\"none\" stroke=\"#000000\" cx=\"96\" cy=\"-81.2132\" rx=\"21.4286\" ry=\"21.4286\"/>\n<text text-anchor=\"middle\" x=\"96\" y=\"-77.5132\" font-family=\"Times,serif\" font-size=\"14.00\" fill=\"#000000\">e1</text>\n</g>\n<!-- 140476514593312 -->\n<g id=\"node4\" class=\"node\">\n<title>140476514593312</title>\n<polygon fill=\"none\" stroke=\"#000000\" points=\"72,-.5 72,-23.5 126,-23.5 126,-.5 72,-.5\"/>\n<text text-anchor=\"middle\" x=\"99\" y=\"-8.3\" font-family=\"Times,serif\" font-size=\"14.00\" fill=\"#000000\">2</text>\n</g>\n<!-- 1&#45;&gt;140476514593312 -->\n<g id=\"edge2\" class=\"edge\">\n<title>1&#45;&gt;140476514593312</title>\n<path fill=\"none\" stroke=\"#000000\" d=\"M96.9328,-59.6931C97.2916,-51.4155 97.7011,-41.9664 98.0605,-33.6743\"/>\n<polygon fill=\"#000000\" stroke=\"#000000\" points=\"101.5592,-33.7782 98.4956,-23.636 94.5658,-33.475 101.5592,-33.7782\"/>\n</g>\n<!-- 2 -->\n<g id=\"node5\" class=\"node\">\n<title>2</title>\n<ellipse fill=\"none\" stroke=\"#000000\" cx=\"42\" cy=\"-219.6396\" rx=\"21.4286\" ry=\"21.4286\"/>\n<text text-anchor=\"middle\" x=\"42\" y=\"-215.9396\" font-family=\"Times,serif\" font-size=\"14.00\" fill=\"#000000\">e2</text>\n</g>\n<!-- 140476514593384 -->\n<g id=\"node6\" class=\"node\">\n<title>140476514593384</title>\n<polygon fill=\"none\" stroke=\"#000000\" points=\"4,-138.9264 4,-161.9264 68,-161.9264 68,-138.9264 4,-138.9264\"/>\n<text text-anchor=\"middle\" x=\"16\" y=\"-146.7264\" font-family=\"Times,serif\" font-size=\"14.00\" fill=\"#000000\">*</text>\n<polyline fill=\"none\" stroke=\"#000000\" points=\"28,-138.9264 28,-161.9264 \"/>\n<text text-anchor=\"middle\" x=\"38\" y=\"-146.7264\" font-family=\"Times,serif\" font-size=\"14.00\" fill=\"#000000\"> </text>\n<polyline fill=\"none\" stroke=\"#000000\" points=\"48,-138.9264 48,-161.9264 \"/>\n<text text-anchor=\"middle\" x=\"58\" y=\"-146.7264\" font-family=\"Times,serif\" font-size=\"14.00\" fill=\"#000000\"> </text>\n</g>\n<!-- 2&#45;&gt;140476514593384 -->\n<g id=\"edge3\" class=\"edge\">\n<title>2&#45;&gt;140476514593384</title>\n<path fill=\"none\" stroke=\"#000000\" d=\"M40.1672,-198.4973C39.4483,-190.2047 38.6235,-180.6902 37.8984,-172.3258\"/>\n<polygon fill=\"#000000\" stroke=\"#000000\" points=\"41.3706,-171.8523 37.0199,-162.192 34.3968,-172.4569 41.3706,-171.8523\"/>\n</g>\n<!-- 140476514593384&#45;&gt;0 -->\n<g id=\"edge4\" class=\"edge\">\n<title>140476514593384:p0&#45;&gt;0</title>\n<path fill=\"none\" stroke=\"#000000\" d=\"M38,-138.4264C38,-129.7987 37.0967,-120.5091 35.8971,-111.9765\"/>\n<polygon fill=\"#000000\" stroke=\"#000000\" points=\"39.345,-111.3712 34.3278,-102.0396 32.4307,-112.4632 39.345,-111.3712\"/>\n</g>\n<!-- 140476514593384&#45;&gt;1 -->\n<g id=\"edge5\" class=\"edge\">\n<title>140476514593384:p1&#45;&gt;1</title>\n<path fill=\"none\" stroke=\"#000000\" d=\"M58,-138.4264C58,-125.3844 64.9365,-113.043 72.8823,-103.1843\"/>\n<polygon fill=\"#000000\" stroke=\"#000000\" points=\"75.6547,-105.3329 79.664,-95.526 70.4141,-100.6921 75.6547,-105.3329\"/>\n</g>\n<!-- 3 -->\n<g id=\"node7\" class=\"node\">\n<title>3</title>\n<ellipse fill=\"none\" stroke=\"#000000\" cx=\"56\" cy=\"-358.066\" rx=\"21.4286\" ry=\"21.4286\"/>\n<text text-anchor=\"middle\" x=\"56\" y=\"-354.366\" font-family=\"Times,serif\" font-size=\"14.00\" fill=\"#000000\">e3</text>\n</g>\n<!-- 140476514593456 -->\n<g id=\"node8\" class=\"node\">\n<title>140476514593456</title>\n<polygon fill=\"none\" stroke=\"#000000\" points=\"26,-277.3528 26,-300.3528 86,-300.3528 86,-277.3528 26,-277.3528\"/>\n<text text-anchor=\"middle\" x=\"36\" y=\"-285.1528\" font-family=\"Times,serif\" font-size=\"14.00\" fill=\"#000000\">/</text>\n<polyline fill=\"none\" stroke=\"#000000\" points=\"46,-277.3528 46,-300.3528 \"/>\n<text text-anchor=\"middle\" x=\"56\" y=\"-285.1528\" font-family=\"Times,serif\" font-size=\"14.00\" fill=\"#000000\"> </text>\n<polyline fill=\"none\" stroke=\"#000000\" points=\"66,-277.3528 66,-300.3528 \"/>\n<text text-anchor=\"middle\" x=\"76\" y=\"-285.1528\" font-family=\"Times,serif\" font-size=\"14.00\" fill=\"#000000\"> </text>\n</g>\n<!-- 3&#45;&gt;140476514593456 -->\n<g id=\"edge6\" class=\"edge\">\n<title>3&#45;&gt;140476514593456</title>\n<path fill=\"none\" stroke=\"#000000\" d=\"M56,-336.5459C56,-328.2683 56,-318.8192 56,-310.5271\"/>\n<polygon fill=\"#000000\" stroke=\"#000000\" points=\"59.5001,-310.4887 56,-300.4888 52.5001,-310.4888 59.5001,-310.4887\"/>\n</g>\n<!-- 140476514593456&#45;&gt;1 -->\n<g id=\"edge8\" class=\"edge\">\n<title>140476514593456:p1&#45;&gt;1</title>\n<path fill=\"none\" stroke=\"#000000\" d=\"M76,-276.8528C76,-218.4936 84.9163,-150.8474 90.8422,-112.3335\"/>\n<polygon fill=\"#000000\" stroke=\"#000000\" points=\"94.3279,-112.6974 92.4244,-102.275 87.4129,-111.6096 94.3279,-112.6974\"/>\n</g>\n<!-- 140476514593456&#45;&gt;2 -->\n<g id=\"edge7\" class=\"edge\">\n<title>140476514593456:p0&#45;&gt;2</title>\n<path fill=\"none\" stroke=\"#000000\" d=\"M56,-276.8528C56,-267.8125 54.3304,-258.193 52.1443,-249.4724\"/>\n<polygon fill=\"#000000\" stroke=\"#000000\" points=\"55.4836,-248.4178 49.4099,-239.7368 48.7444,-250.3107 55.4836,-248.4178\"/>\n</g>\n</g>\n</svg>\n"
          },
          "metadata": {
            "tags": []
          },
          "execution_count": 345
        }
      ]
    },
    {
      "cell_type": "markdown",
      "metadata": {
        "id": "x2N8_IVZ7Td8"
      },
      "source": [
        "Now can we apply the rules and see how the rules get applied and the graph changes:"
      ]
    },
    {
      "cell_type": "code",
      "metadata": {
        "colab": {
          "base_uri": "https://localhost:8080/",
          "height": 588
        },
        "id": "CmtY4HDp50-H",
        "outputId": "505d79cf-ec55-48a3-9b06-fbd5a9a33e15"
      },
      "source": [
        "apply_rules(eg, rules)"
      ],
      "execution_count": null,
      "outputs": [
        {
          "output_type": "stream",
          "text": [
            "VERSION 4\n",
            "e2 MATCHED (* x 2) -> (<< x 1) with {'x': e0}\n",
            "e3 MATCHED (/ (* x y) z) -> (* x (/ y z)) with {'x': e0, 'y': e1, 'z': e1}\n"
          ],
          "name": "stdout"
        },
        {
          "output_type": "execute_result",
          "data": {
            "text/plain": [
              "<__main__.EGraph at 0x7fc33cbe70b8>"
            ],
            "image/svg+xml": "<?xml version=\"1.0\" encoding=\"UTF-8\" standalone=\"no\"?>\n<!DOCTYPE svg PUBLIC \"-//W3C//DTD SVG 1.1//EN\"\n \"http://www.w3.org/Graphics/SVG/1.1/DTD/svg11.dtd\">\n<!-- Generated by graphviz version 2.40.1 (20161225.0304)\n -->\n<!-- Title: %3 Pages: 1 -->\n<svg width=\"267pt\" height=\"387pt\"\n viewBox=\"0.00 0.00 267.09 387.28\" xmlns=\"http://www.w3.org/2000/svg\" xmlns:xlink=\"http://www.w3.org/1999/xlink\">\n<g id=\"graph0\" class=\"graph\" transform=\"scale(1 1) rotate(0) translate(4 383.2792)\">\n<title>%3</title>\n<polygon fill=\"#ffffff\" stroke=\"transparent\" points=\"-4,4 -4,-383.2792 263.0861,-383.2792 263.0861,4 -4,4\"/>\n<!-- 0 -->\n<g id=\"node1\" class=\"node\">\n<title>0</title>\n<ellipse fill=\"none\" stroke=\"#000000\" cx=\"34.0082\" cy=\"-81.2132\" rx=\"21.4286\" ry=\"21.4286\"/>\n<text text-anchor=\"middle\" x=\"34.0082\" y=\"-77.5132\" font-family=\"Times,serif\" font-size=\"14.00\" fill=\"#000000\">e0</text>\n</g>\n<!-- 140476514593240 -->\n<g id=\"node2\" class=\"node\">\n<title>140476514593240</title>\n<polygon fill=\"none\" stroke=\"#000000\" points=\"1.0082,-.5 1.0082,-23.5 55.0082,-23.5 55.0082,-.5 1.0082,-.5\"/>\n<text text-anchor=\"middle\" x=\"28.0082\" y=\"-8.3\" font-family=\"Times,serif\" font-size=\"14.00\" fill=\"#000000\">a</text>\n</g>\n<!-- 0&#45;&gt;140476514593240 -->\n<g id=\"edge1\" class=\"edge\">\n<title>0&#45;&gt;140476514593240</title>\n<path fill=\"none\" stroke=\"#000000\" d=\"M32.1754,-60.0709C31.4565,-51.7783 30.6317,-42.2638 29.9066,-33.8994\"/>\n<polygon fill=\"#000000\" stroke=\"#000000\" points=\"33.3788,-33.4259 29.0281,-23.7656 26.4049,-34.0305 33.3788,-33.4259\"/>\n</g>\n<!-- 1 -->\n<g id=\"node3\" class=\"node\">\n<title>1</title>\n<ellipse fill=\"none\" stroke=\"#000000\" cx=\"226.0082\" cy=\"-81.2132\" rx=\"21.4286\" ry=\"21.4286\"/>\n<text text-anchor=\"middle\" x=\"226.0082\" y=\"-77.5132\" font-family=\"Times,serif\" font-size=\"14.00\" fill=\"#000000\">e1</text>\n</g>\n<!-- 140476514593312 -->\n<g id=\"node4\" class=\"node\">\n<title>140476514593312</title>\n<polygon fill=\"none\" stroke=\"#000000\" points=\"199.0082,-.5 199.0082,-23.5 253.0082,-23.5 253.0082,-.5 199.0082,-.5\"/>\n<text text-anchor=\"middle\" x=\"226.0082\" y=\"-8.3\" font-family=\"Times,serif\" font-size=\"14.00\" fill=\"#000000\">2</text>\n</g>\n<!-- 1&#45;&gt;140476514593312 -->\n<g id=\"edge2\" class=\"edge\">\n<title>1&#45;&gt;140476514593312</title>\n<path fill=\"none\" stroke=\"#000000\" d=\"M226.0082,-59.6931C226.0082,-51.4155 226.0082,-41.9664 226.0082,-33.6743\"/>\n<polygon fill=\"#000000\" stroke=\"#000000\" points=\"229.5083,-33.6359 226.0082,-23.636 222.5083,-33.636 229.5083,-33.6359\"/>\n</g>\n<!-- 5 -->\n<g id=\"node5\" class=\"node\">\n<title>5</title>\n<ellipse fill=\"none\" stroke=\"#000000\" cx=\"136.0082\" cy=\"-219.6396\" rx=\"21.4286\" ry=\"21.4286\"/>\n<text text-anchor=\"middle\" x=\"136.0082\" y=\"-215.9396\" font-family=\"Times,serif\" font-size=\"14.00\" fill=\"#000000\">e5</text>\n</g>\n<!-- 140476514593384 -->\n<g id=\"node6\" class=\"node\">\n<title>140476514593384</title>\n<polygon fill=\"none\" stroke=\"#000000\" points=\"104.0082,-138.9264 104.0082,-161.9264 168.0082,-161.9264 168.0082,-138.9264 104.0082,-138.9264\"/>\n<text text-anchor=\"middle\" x=\"116.0082\" y=\"-146.7264\" font-family=\"Times,serif\" font-size=\"14.00\" fill=\"#000000\">*</text>\n<polyline fill=\"none\" stroke=\"#000000\" points=\"128.0082,-138.9264 128.0082,-161.9264 \"/>\n<text text-anchor=\"middle\" x=\"138.0082\" y=\"-146.7264\" font-family=\"Times,serif\" font-size=\"14.00\" fill=\"#000000\"> </text>\n<polyline fill=\"none\" stroke=\"#000000\" points=\"148.0082,-138.9264 148.0082,-161.9264 \"/>\n<text text-anchor=\"middle\" x=\"158.0082\" y=\"-146.7264\" font-family=\"Times,serif\" font-size=\"14.00\" fill=\"#000000\"> </text>\n</g>\n<!-- 5&#45;&gt;140476514593384 -->\n<g id=\"edge3\" class=\"edge\">\n<title>5&#45;&gt;140476514593384</title>\n<path fill=\"none\" stroke=\"#000000\" d=\"M136.0082,-198.1195C136.0082,-189.8419 136.0082,-180.3928 136.0082,-172.1007\"/>\n<polygon fill=\"#000000\" stroke=\"#000000\" points=\"139.5083,-172.0623 136.0082,-162.0624 132.5083,-172.0624 139.5083,-172.0623\"/>\n</g>\n<!-- 140476514039560 -->\n<g id=\"node7\" class=\"node\">\n<title>140476514039560</title>\n<polygon fill=\"none\" stroke=\"#000000\" points=\"12.5082,-138.9264 12.5082,-161.9264 85.5082,-161.9264 85.5082,-138.9264 12.5082,-138.9264\"/>\n<text text-anchor=\"middle\" x=\"29.0082\" y=\"-146.7264\" font-family=\"Times,serif\" font-size=\"14.00\" fill=\"#000000\">&lt;&lt;</text>\n<polyline fill=\"none\" stroke=\"#000000\" points=\"45.5082,-138.9264 45.5082,-161.9264 \"/>\n<text text-anchor=\"middle\" x=\"55.5082\" y=\"-146.7264\" font-family=\"Times,serif\" font-size=\"14.00\" fill=\"#000000\"> </text>\n<polyline fill=\"none\" stroke=\"#000000\" points=\"65.5082,-138.9264 65.5082,-161.9264 \"/>\n<text text-anchor=\"middle\" x=\"75.5082\" y=\"-146.7264\" font-family=\"Times,serif\" font-size=\"14.00\" fill=\"#000000\"> </text>\n</g>\n<!-- 5&#45;&gt;140476514039560 -->\n<g id=\"edge6\" class=\"edge\">\n<title>5&#45;&gt;140476514039560</title>\n<path fill=\"none\" stroke=\"#000000\" d=\"M119.2337,-206.2946C105.7776,-195.5896 86.751,-180.4529 71.8958,-168.6348\"/>\n<polygon fill=\"#000000\" stroke=\"#000000\" points=\"73.7097,-165.6053 63.705,-162.1185 69.3517,-171.0833 73.7097,-165.6053\"/>\n</g>\n<!-- 140476514593384&#45;&gt;0 -->\n<g id=\"edge4\" class=\"edge\">\n<title>140476514593384:p0&#45;&gt;0</title>\n<path fill=\"none\" stroke=\"#000000\" d=\"M138.0082,-138.4264C138.0082,-103.0463 97.7066,-120.015 67.0082,-102.4264 64.9915,-101.271 62.9262,-100.0467 60.8609,-98.7923\"/>\n<polygon fill=\"#000000\" stroke=\"#000000\" points=\"62.2922,-95.5592 51.9584,-93.2218 58.579,-101.4933 62.2922,-95.5592\"/>\n</g>\n<!-- 140476514593384&#45;&gt;1 -->\n<g id=\"edge5\" class=\"edge\">\n<title>140476514593384:p1&#45;&gt;1</title>\n<path fill=\"none\" stroke=\"#000000\" d=\"M158.0082,-138.4264C158.0082,-116.8798 178.2453,-101.815 196.6396,-92.5723\"/>\n<polygon fill=\"#000000\" stroke=\"#000000\" points=\"198.3596,-95.6334 205.9737,-88.2662 195.4272,-89.2771 198.3596,-95.6334\"/>\n</g>\n<!-- 140476514039560&#45;&gt;0 -->\n<g id=\"edge7\" class=\"edge\">\n<title>140476514039560:p0&#45;&gt;0</title>\n<path fill=\"none\" stroke=\"#000000\" d=\"M56.0082,-138.4264C56.0082,-128.423 53.042,-118.052 49.2879,-108.9321\"/>\n<polygon fill=\"#000000\" stroke=\"#000000\" points=\"52.3593,-107.2332 45.0082,-99.6036 45.997,-110.1522 52.3593,-107.2332\"/>\n</g>\n<!-- 4 -->\n<g id=\"node8\" class=\"node\">\n<title>4</title>\n<ellipse fill=\"none\" stroke=\"#000000\" cx=\"97.0082\" cy=\"-81.2132\" rx=\"21.4286\" ry=\"21.4286\"/>\n<text text-anchor=\"middle\" x=\"97.0082\" y=\"-77.5132\" font-family=\"Times,serif\" font-size=\"14.00\" fill=\"#000000\">e4</text>\n</g>\n<!-- 140476514039560&#45;&gt;4 -->\n<g id=\"edge8\" class=\"edge\">\n<title>140476514039560:p1&#45;&gt;4</title>\n<path fill=\"none\" stroke=\"#000000\" d=\"M76.0082,-138.4264C76.0082,-128.4804 78.8395,-118.1247 82.423,-109.001\"/>\n<polygon fill=\"#000000\" stroke=\"#000000\" points=\"85.707,-110.2267 86.5082,-99.6622 79.2937,-107.4213 85.707,-110.2267\"/>\n</g>\n<!-- 140476514039488 -->\n<g id=\"node9\" class=\"node\">\n<title>140476514039488</title>\n<polygon fill=\"none\" stroke=\"#000000\" points=\"73.0082,-.5 73.0082,-23.5 127.0082,-23.5 127.0082,-.5 73.0082,-.5\"/>\n<text text-anchor=\"middle\" x=\"100.0082\" y=\"-8.3\" font-family=\"Times,serif\" font-size=\"14.00\" fill=\"#000000\">1</text>\n</g>\n<!-- 4&#45;&gt;140476514039488 -->\n<g id=\"edge9\" class=\"edge\">\n<title>4&#45;&gt;140476514039488</title>\n<path fill=\"none\" stroke=\"#000000\" d=\"M97.9409,-59.6931C98.2997,-51.4155 98.7093,-41.9664 99.0687,-33.6743\"/>\n<polygon fill=\"#000000\" stroke=\"#000000\" points=\"102.5674,-33.7782 99.5038,-23.636 95.574,-33.475 102.5674,-33.7782\"/>\n</g>\n<!-- 6 -->\n<g id=\"node10\" class=\"node\">\n<title>6</title>\n<ellipse fill=\"none\" stroke=\"#000000\" cx=\"206.0082\" cy=\"-219.6396\" rx=\"21.4286\" ry=\"21.4286\"/>\n<text text-anchor=\"middle\" x=\"206.0082\" y=\"-215.9396\" font-family=\"Times,serif\" font-size=\"14.00\" fill=\"#000000\">e6</text>\n</g>\n<!-- 140476514039632 -->\n<g id=\"node11\" class=\"node\">\n<title>140476514039632</title>\n<polygon fill=\"none\" stroke=\"#000000\" points=\"186.0082,-138.9264 186.0082,-161.9264 246.0082,-161.9264 246.0082,-138.9264 186.0082,-138.9264\"/>\n<text text-anchor=\"middle\" x=\"196.0082\" y=\"-146.7264\" font-family=\"Times,serif\" font-size=\"14.00\" fill=\"#000000\">/</text>\n<polyline fill=\"none\" stroke=\"#000000\" points=\"206.0082,-138.9264 206.0082,-161.9264 \"/>\n<text text-anchor=\"middle\" x=\"216.0082\" y=\"-146.7264\" font-family=\"Times,serif\" font-size=\"14.00\" fill=\"#000000\"> </text>\n<polyline fill=\"none\" stroke=\"#000000\" points=\"226.0082,-138.9264 226.0082,-161.9264 \"/>\n<text text-anchor=\"middle\" x=\"236.0082\" y=\"-146.7264\" font-family=\"Times,serif\" font-size=\"14.00\" fill=\"#000000\"> </text>\n</g>\n<!-- 6&#45;&gt;140476514039632 -->\n<g id=\"edge10\" class=\"edge\">\n<title>6&#45;&gt;140476514039632</title>\n<path fill=\"none\" stroke=\"#000000\" d=\"M209.0628,-198.4973C210.261,-190.2047 211.6356,-180.6902 212.8441,-172.3258\"/>\n<polygon fill=\"#000000\" stroke=\"#000000\" points=\"216.3423,-172.5897 214.3083,-162.192 209.4142,-171.5887 216.3423,-172.5897\"/>\n</g>\n<!-- 140476514039632&#45;&gt;1 -->\n<g id=\"edge11\" class=\"edge\">\n<title>140476514039632:p0&#45;&gt;1</title>\n<path fill=\"none\" stroke=\"#000000\" d=\"M216.0082,-138.4264C216.0082,-129.7523 217.1373,-120.4474 218.6368,-111.9152\"/>\n<polygon fill=\"#000000\" stroke=\"#000000\" points=\"222.094,-112.4739 220.5984,-101.9852 215.2267,-111.1172 222.094,-112.4739\"/>\n</g>\n<!-- 140476514039632&#45;&gt;1 -->\n<g id=\"edge12\" class=\"edge\">\n<title>140476514039632:p1&#45;&gt;1</title>\n<path fill=\"none\" stroke=\"#000000\" d=\"M236.0082,-138.4264C236.0082,-129.7523 234.879,-120.4474 233.3796,-111.9152\"/>\n<polygon fill=\"#000000\" stroke=\"#000000\" points=\"236.7897,-111.1172 231.4179,-101.9852 229.9224,-112.4739 236.7897,-111.1172\"/>\n</g>\n<!-- 7 -->\n<g id=\"node12\" class=\"node\">\n<title>7</title>\n<ellipse fill=\"none\" stroke=\"#000000\" cx=\"155.0082\" cy=\"-358.066\" rx=\"21.4286\" ry=\"21.4286\"/>\n<text text-anchor=\"middle\" x=\"155.0082\" y=\"-354.366\" font-family=\"Times,serif\" font-size=\"14.00\" fill=\"#000000\">e7</text>\n</g>\n<!-- 140476514039704 -->\n<g id=\"node13\" class=\"node\">\n<title>140476514039704</title>\n<polygon fill=\"none\" stroke=\"#000000\" points=\"83.0082,-277.3528 83.0082,-300.3528 147.0082,-300.3528 147.0082,-277.3528 83.0082,-277.3528\"/>\n<text text-anchor=\"middle\" x=\"95.0082\" y=\"-285.1528\" font-family=\"Times,serif\" font-size=\"14.00\" fill=\"#000000\">*</text>\n<polyline fill=\"none\" stroke=\"#000000\" points=\"107.0082,-277.3528 107.0082,-300.3528 \"/>\n<text text-anchor=\"middle\" x=\"117.0082\" y=\"-285.1528\" font-family=\"Times,serif\" font-size=\"14.00\" fill=\"#000000\"> </text>\n<polyline fill=\"none\" stroke=\"#000000\" points=\"127.0082,-277.3528 127.0082,-300.3528 \"/>\n<text text-anchor=\"middle\" x=\"137.0082\" y=\"-285.1528\" font-family=\"Times,serif\" font-size=\"14.00\" fill=\"#000000\"> </text>\n</g>\n<!-- 7&#45;&gt;140476514039704 -->\n<g id=\"edge13\" class=\"edge\">\n<title>7&#45;&gt;140476514039704</title>\n<path fill=\"none\" stroke=\"#000000\" d=\"M144.2889,-339.5181C138.9432,-330.2683 132.4609,-319.0518 126.9557,-309.526\"/>\n<polygon fill=\"#000000\" stroke=\"#000000\" points=\"129.8887,-307.6061 121.8546,-300.6994 123.828,-311.1088 129.8887,-307.6061\"/>\n</g>\n<!-- 140476514039848 -->\n<g id=\"node14\" class=\"node\">\n<title>140476514039848</title>\n<polygon fill=\"none\" stroke=\"#000000\" points=\"165.0082,-277.3528 165.0082,-300.3528 225.0082,-300.3528 225.0082,-277.3528 165.0082,-277.3528\"/>\n<text text-anchor=\"middle\" x=\"175.0082\" y=\"-285.1528\" font-family=\"Times,serif\" font-size=\"14.00\" fill=\"#000000\">/</text>\n<polyline fill=\"none\" stroke=\"#000000\" points=\"185.0082,-277.3528 185.0082,-300.3528 \"/>\n<text text-anchor=\"middle\" x=\"195.0082\" y=\"-285.1528\" font-family=\"Times,serif\" font-size=\"14.00\" fill=\"#000000\"> </text>\n<polyline fill=\"none\" stroke=\"#000000\" points=\"205.0082,-277.3528 205.0082,-300.3528 \"/>\n<text text-anchor=\"middle\" x=\"215.0082\" y=\"-285.1528\" font-family=\"Times,serif\" font-size=\"14.00\" fill=\"#000000\"> </text>\n</g>\n<!-- 7&#45;&gt;140476514039848 -->\n<g id=\"edge16\" class=\"edge\">\n<title>7&#45;&gt;140476514039848</title>\n<path fill=\"none\" stroke=\"#000000\" d=\"M165.7274,-339.5181C171.0731,-330.2683 177.5555,-319.0518 183.0606,-309.526\"/>\n<polygon fill=\"#000000\" stroke=\"#000000\" points=\"186.1883,-311.1088 188.1618,-300.6994 180.1277,-307.6061 186.1883,-311.1088\"/>\n</g>\n<!-- 140476514039704&#45;&gt;0 -->\n<g id=\"edge14\" class=\"edge\">\n<title>140476514039704:p0&#45;&gt;0</title>\n<path fill=\"none\" stroke=\"#000000\" d=\"M117.0082,-276.8528C117.0082,-205.0652 30.4182,-228.7751 3.0082,-162.4264 -4.771,-143.5961 4.2753,-122.0412 14.5647,-105.8718\"/>\n<polygon fill=\"#000000\" stroke=\"#000000\" points=\"17.5406,-107.7209 20.31,-97.4944 11.7677,-103.7618 17.5406,-107.7209\"/>\n</g>\n<!-- 140476514039704&#45;&gt;6 -->\n<g id=\"edge15\" class=\"edge\">\n<title>140476514039704:p1&#45;&gt;6</title>\n<path fill=\"none\" stroke=\"#000000\" d=\"M137.0082,-276.8528C137.0082,-265.4497 159.6217,-248.3521 178.9572,-235.8171\"/>\n<polygon fill=\"#000000\" stroke=\"#000000\" points=\"180.928,-238.7121 187.5174,-230.4156 177.1925,-232.7921 180.928,-238.7121\"/>\n</g>\n<!-- 140476514039848&#45;&gt;1 -->\n<g id=\"edge18\" class=\"edge\">\n<title>140476514039848:p1&#45;&gt;1</title>\n<path fill=\"none\" stroke=\"#000000\" d=\"M215.0082,-276.8528C215.0082,-258.3296 229.088,-258.0348 236.0082,-240.8528 253.3054,-197.9058 265.7692,-183.4579 255.0082,-138.4264 252.4846,-127.8662 247.6768,-117.0509 242.6906,-107.7066\"/>\n<polygon fill=\"#000000\" stroke=\"#000000\" points=\"245.6902,-105.9005 237.7231,-98.9166 239.5961,-109.3446 245.6902,-105.9005\"/>\n</g>\n<!-- 140476514039848&#45;&gt;5 -->\n<g id=\"edge17\" class=\"edge\">\n<title>140476514039848:p0&#45;&gt;5</title>\n<path fill=\"none\" stroke=\"#000000\" d=\"M195.0082,-276.8528C195.0082,-258.0076 179.3033,-243.3788 164.0988,-233.6319\"/>\n<polygon fill=\"#000000\" stroke=\"#000000\" points=\"165.7192,-230.5243 155.327,-228.4623 162.1651,-236.555 165.7192,-230.5243\"/>\n</g>\n</g>\n</svg>\n"
          },
          "metadata": {
            "tags": []
          },
          "execution_count": 346
        }
      ]
    },
    {
      "cell_type": "code",
      "metadata": {
        "colab": {
          "base_uri": "https://localhost:8080/",
          "height": 756
        },
        "id": "FBBYtu9m575b",
        "outputId": "4f509f4a-ce0b-4ae4-a26e-1922b34f73a4"
      },
      "source": [
        "apply_rules(eg, rules)"
      ],
      "execution_count": null,
      "outputs": [
        {
          "output_type": "stream",
          "text": [
            "VERSION 10\n",
            "e6 MATCHED (/ x x) -> 1 with {'x': e1}\n"
          ],
          "name": "stdout"
        },
        {
          "output_type": "execute_result",
          "data": {
            "text/plain": [
              "<__main__.EGraph at 0x7fc33cbe70b8>"
            ],
            "image/svg+xml": "<?xml version=\"1.0\" encoding=\"UTF-8\" standalone=\"no\"?>\n<!DOCTYPE svg PUBLIC \"-//W3C//DTD SVG 1.1//EN\"\n \"http://www.w3.org/Graphics/SVG/1.1/DTD/svg11.dtd\">\n<!-- Generated by graphviz version 2.40.1 (20161225.0304)\n -->\n<!-- Title: %3 Pages: 1 -->\n<svg width=\"352pt\" height=\"526pt\"\n viewBox=\"0.00 0.00 352.00 525.71\" xmlns=\"http://www.w3.org/2000/svg\" xmlns:xlink=\"http://www.w3.org/1999/xlink\">\n<g id=\"graph0\" class=\"graph\" transform=\"scale(1 1) rotate(0) translate(4 521.7056)\">\n<title>%3</title>\n<polygon fill=\"#ffffff\" stroke=\"transparent\" points=\"-4,4 -4,-521.7056 348,-521.7056 348,4 -4,4\"/>\n<!-- 0 -->\n<g id=\"node1\" class=\"node\">\n<title>0</title>\n<ellipse fill=\"none\" stroke=\"#000000\" cx=\"126\" cy=\"-219.6396\" rx=\"21.4286\" ry=\"21.4286\"/>\n<text text-anchor=\"middle\" x=\"126\" y=\"-215.9396\" font-family=\"Times,serif\" font-size=\"14.00\" fill=\"#000000\">e0</text>\n</g>\n<!-- 140476514593240 -->\n<g id=\"node2\" class=\"node\">\n<title>140476514593240</title>\n<polygon fill=\"none\" stroke=\"#000000\" points=\"99,-138.9264 99,-161.9264 153,-161.9264 153,-138.9264 99,-138.9264\"/>\n<text text-anchor=\"middle\" x=\"126\" y=\"-146.7264\" font-family=\"Times,serif\" font-size=\"14.00\" fill=\"#000000\">a</text>\n</g>\n<!-- 0&#45;&gt;140476514593240 -->\n<g id=\"edge1\" class=\"edge\">\n<title>0&#45;&gt;140476514593240</title>\n<path fill=\"none\" stroke=\"#000000\" d=\"M126,-198.1195C126,-189.8419 126,-180.3928 126,-172.1007\"/>\n<polygon fill=\"#000000\" stroke=\"#000000\" points=\"129.5001,-172.0623 126,-162.0624 122.5001,-172.0624 129.5001,-172.0623\"/>\n</g>\n<!-- 1 -->\n<g id=\"node3\" class=\"node\">\n<title>1</title>\n<ellipse fill=\"none\" stroke=\"#000000\" cx=\"213\" cy=\"-81.2132\" rx=\"21.4286\" ry=\"21.4286\"/>\n<text text-anchor=\"middle\" x=\"213\" y=\"-77.5132\" font-family=\"Times,serif\" font-size=\"14.00\" fill=\"#000000\">e1</text>\n</g>\n<!-- 140476514593312 -->\n<g id=\"node4\" class=\"node\">\n<title>140476514593312</title>\n<polygon fill=\"none\" stroke=\"#000000\" points=\"186,-.5 186,-23.5 240,-23.5 240,-.5 186,-.5\"/>\n<text text-anchor=\"middle\" x=\"213\" y=\"-8.3\" font-family=\"Times,serif\" font-size=\"14.00\" fill=\"#000000\">2</text>\n</g>\n<!-- 1&#45;&gt;140476514593312 -->\n<g id=\"edge2\" class=\"edge\">\n<title>1&#45;&gt;140476514593312</title>\n<path fill=\"none\" stroke=\"#000000\" d=\"M213,-59.6931C213,-51.4155 213,-41.9664 213,-33.6743\"/>\n<polygon fill=\"#000000\" stroke=\"#000000\" points=\"216.5001,-33.6359 213,-23.636 209.5001,-33.636 216.5001,-33.6359\"/>\n</g>\n<!-- 5 -->\n<g id=\"node5\" class=\"node\">\n<title>5</title>\n<ellipse fill=\"none\" stroke=\"#000000\" cx=\"119\" cy=\"-358.066\" rx=\"21.4286\" ry=\"21.4286\"/>\n<text text-anchor=\"middle\" x=\"119\" y=\"-354.366\" font-family=\"Times,serif\" font-size=\"14.00\" fill=\"#000000\">e5</text>\n</g>\n<!-- 140476514593384 -->\n<g id=\"node6\" class=\"node\">\n<title>140476514593384</title>\n<polygon fill=\"none\" stroke=\"#000000\" points=\"0,-277.3528 0,-300.3528 64,-300.3528 64,-277.3528 0,-277.3528\"/>\n<text text-anchor=\"middle\" x=\"12\" y=\"-285.1528\" font-family=\"Times,serif\" font-size=\"14.00\" fill=\"#000000\">*</text>\n<polyline fill=\"none\" stroke=\"#000000\" points=\"24,-277.3528 24,-300.3528 \"/>\n<text text-anchor=\"middle\" x=\"34\" y=\"-285.1528\" font-family=\"Times,serif\" font-size=\"14.00\" fill=\"#000000\"> </text>\n<polyline fill=\"none\" stroke=\"#000000\" points=\"44,-277.3528 44,-300.3528 \"/>\n<text text-anchor=\"middle\" x=\"54\" y=\"-285.1528\" font-family=\"Times,serif\" font-size=\"14.00\" fill=\"#000000\"> </text>\n</g>\n<!-- 5&#45;&gt;140476514593384 -->\n<g id=\"edge3\" class=\"edge\">\n<title>5&#45;&gt;140476514593384</title>\n<path fill=\"none\" stroke=\"#000000\" d=\"M102.2255,-344.721C88.7694,-334.016 69.7428,-318.8793 54.8877,-307.0612\"/>\n<polygon fill=\"#000000\" stroke=\"#000000\" points=\"56.7015,-304.0317 46.6968,-300.545 52.3435,-309.5097 56.7015,-304.0317\"/>\n</g>\n<!-- 140476514041072 -->\n<g id=\"node7\" class=\"node\">\n<title>140476514041072</title>\n<polygon fill=\"none\" stroke=\"#000000\" points=\"82.5,-277.3528 82.5,-300.3528 155.5,-300.3528 155.5,-277.3528 82.5,-277.3528\"/>\n<text text-anchor=\"middle\" x=\"99\" y=\"-285.1528\" font-family=\"Times,serif\" font-size=\"14.00\" fill=\"#000000\">&lt;&lt;</text>\n<polyline fill=\"none\" stroke=\"#000000\" points=\"115.5,-277.3528 115.5,-300.3528 \"/>\n<text text-anchor=\"middle\" x=\"125.5\" y=\"-285.1528\" font-family=\"Times,serif\" font-size=\"14.00\" fill=\"#000000\"> </text>\n<polyline fill=\"none\" stroke=\"#000000\" points=\"135.5,-277.3528 135.5,-300.3528 \"/>\n<text text-anchor=\"middle\" x=\"145.5\" y=\"-285.1528\" font-family=\"Times,serif\" font-size=\"14.00\" fill=\"#000000\"> </text>\n</g>\n<!-- 5&#45;&gt;140476514041072 -->\n<g id=\"edge6\" class=\"edge\">\n<title>5&#45;&gt;140476514041072</title>\n<path fill=\"none\" stroke=\"#000000\" d=\"M119,-336.5459C119,-328.2683 119,-318.8192 119,-310.5271\"/>\n<polygon fill=\"#000000\" stroke=\"#000000\" points=\"122.5001,-310.4887 119,-300.4888 115.5001,-310.4888 122.5001,-310.4887\"/>\n</g>\n<!-- 140476514593384&#45;&gt;0 -->\n<g id=\"edge4\" class=\"edge\">\n<title>140476514593384:p0&#45;&gt;0</title>\n<path fill=\"none\" stroke=\"#000000\" d=\"M34,-276.8528C34,-269.2394 70.8007,-248.3707 97.852,-234.059\"/>\n<polygon fill=\"#000000\" stroke=\"#000000\" points=\"99.7014,-237.0415 106.9375,-229.3027 96.4548,-230.8399 99.7014,-237.0415\"/>\n</g>\n<!-- 140476514593384&#45;&gt;1 -->\n<g id=\"edge5\" class=\"edge\">\n<title>140476514593384:p1&#45;&gt;1</title>\n<path fill=\"none\" stroke=\"#000000\" d=\"M54,-276.8528C54,-213.2835 49.2949,-187.2542 90,-138.4264 113.5044,-110.2318 153.9809,-95.1612 182.051,-87.6851\"/>\n<polygon fill=\"#000000\" stroke=\"#000000\" points=\"182.9185,-91.076 191.7769,-85.2641 181.2276,-84.2833 182.9185,-91.076\"/>\n</g>\n<!-- 140476514041072&#45;&gt;0 -->\n<g id=\"edge7\" class=\"edge\">\n<title>140476514041072:p0&#45;&gt;0</title>\n<path fill=\"none\" stroke=\"#000000\" d=\"M126,-276.8528C126,-268.5418 126,-259.5517 126,-251.2143\"/>\n<polygon fill=\"#000000\" stroke=\"#000000\" points=\"129.5001,-251.1028 126,-241.1028 122.5001,-251.1028 129.5001,-251.1028\"/>\n</g>\n<!-- 4 -->\n<g id=\"node8\" class=\"node\">\n<title>4</title>\n<ellipse fill=\"none\" stroke=\"#000000\" cx=\"254\" cy=\"-219.6396\" rx=\"21.4286\" ry=\"21.4286\"/>\n<text text-anchor=\"middle\" x=\"254\" y=\"-215.9396\" font-family=\"Times,serif\" font-size=\"14.00\" fill=\"#000000\">e4</text>\n</g>\n<!-- 140476514041072&#45;&gt;4 -->\n<g id=\"edge8\" class=\"edge\">\n<title>140476514041072:p1&#45;&gt;4</title>\n<path fill=\"none\" stroke=\"#000000\" d=\"M156,-288.8528C187.8119,-288.8528 216.5465,-264.2186 234.5532,-244.3432\"/>\n<polygon fill=\"#000000\" stroke=\"#000000\" points=\"237.2318,-246.5966 241.139,-236.7485 231.9432,-242.0106 237.2318,-246.5966\"/>\n</g>\n<!-- 140476514039488 -->\n<g id=\"node9\" class=\"node\">\n<title>140476514039488</title>\n<polygon fill=\"none\" stroke=\"#000000\" points=\"290,-138.9264 290,-161.9264 344,-161.9264 344,-138.9264 290,-138.9264\"/>\n<text text-anchor=\"middle\" x=\"317\" y=\"-146.7264\" font-family=\"Times,serif\" font-size=\"14.00\" fill=\"#000000\">1</text>\n</g>\n<!-- 4&#45;&gt;140476514039488 -->\n<g id=\"edge9\" class=\"edge\">\n<title>4&#45;&gt;140476514039488</title>\n<path fill=\"none\" stroke=\"#000000\" d=\"M268.2957,-203.9341C277.5532,-193.7635 289.6705,-180.4512 299.5026,-169.6494\"/>\n<polygon fill=\"#000000\" stroke=\"#000000\" points=\"302.3476,-171.7234 306.4907,-161.9722 297.171,-167.0114 302.3476,-171.7234\"/>\n</g>\n<!-- 140476514039632 -->\n<g id=\"node10\" class=\"node\">\n<title>140476514039632</title>\n<polygon fill=\"none\" stroke=\"#000000\" points=\"212,-138.9264 212,-161.9264 272,-161.9264 272,-138.9264 212,-138.9264\"/>\n<text text-anchor=\"middle\" x=\"222\" y=\"-146.7264\" font-family=\"Times,serif\" font-size=\"14.00\" fill=\"#000000\">/</text>\n<polyline fill=\"none\" stroke=\"#000000\" points=\"232,-138.9264 232,-161.9264 \"/>\n<text text-anchor=\"middle\" x=\"242\" y=\"-146.7264\" font-family=\"Times,serif\" font-size=\"14.00\" fill=\"#000000\"> </text>\n<polyline fill=\"none\" stroke=\"#000000\" points=\"252,-138.9264 252,-161.9264 \"/>\n<text text-anchor=\"middle\" x=\"262\" y=\"-146.7264\" font-family=\"Times,serif\" font-size=\"14.00\" fill=\"#000000\"> </text>\n</g>\n<!-- 4&#45;&gt;140476514039632 -->\n<g id=\"edge10\" class=\"edge\">\n<title>4&#45;&gt;140476514039632</title>\n<path fill=\"none\" stroke=\"#000000\" d=\"M250.3344,-198.4973C248.8967,-190.2047 247.2471,-180.6902 245.7969,-172.3258\"/>\n<polygon fill=\"#000000\" stroke=\"#000000\" points=\"249.1968,-171.4471 244.0399,-162.192 242.2997,-172.6429 249.1968,-171.4471\"/>\n</g>\n<!-- 140476514039632&#45;&gt;1 -->\n<g id=\"edge11\" class=\"edge\">\n<title>140476514039632:p0&#45;&gt;1</title>\n<path fill=\"none\" stroke=\"#000000\" d=\"M242,-138.4264C242,-127.1182 237.437,-115.7789 231.931,-106.2126\"/>\n<polygon fill=\"#000000\" stroke=\"#000000\" points=\"234.8008,-104.203 226.4812,-97.6429 228.894,-107.9593 234.8008,-104.203\"/>\n</g>\n<!-- 140476514039632&#45;&gt;1 -->\n<g id=\"edge12\" class=\"edge\">\n<title>140476514039632:p1&#45;&gt;1</title>\n<path fill=\"none\" stroke=\"#000000\" d=\"M262,-138.4264C262,-122.4878 250.8943,-108.7579 239.2572,-98.7462\"/>\n<polygon fill=\"#000000\" stroke=\"#000000\" points=\"241.265,-95.8722 231.2458,-92.4276 236.9301,-101.3684 241.265,-95.8722\"/>\n</g>\n<!-- 7 -->\n<g id=\"node11\" class=\"node\">\n<title>7</title>\n<ellipse fill=\"none\" stroke=\"#000000\" cx=\"193\" cy=\"-496.4924\" rx=\"21.4286\" ry=\"21.4286\"/>\n<text text-anchor=\"middle\" x=\"193\" y=\"-492.7924\" font-family=\"Times,serif\" font-size=\"14.00\" fill=\"#000000\">e7</text>\n</g>\n<!-- 140476514039848 -->\n<g id=\"node12\" class=\"node\">\n<title>140476514039848</title>\n<polygon fill=\"none\" stroke=\"#000000\" points=\"134,-415.7792 134,-438.7792 194,-438.7792 194,-415.7792 134,-415.7792\"/>\n<text text-anchor=\"middle\" x=\"144\" y=\"-423.5792\" font-family=\"Times,serif\" font-size=\"14.00\" fill=\"#000000\">/</text>\n<polyline fill=\"none\" stroke=\"#000000\" points=\"154,-415.7792 154,-438.7792 \"/>\n<text text-anchor=\"middle\" x=\"164\" y=\"-423.5792\" font-family=\"Times,serif\" font-size=\"14.00\" fill=\"#000000\"> </text>\n<polyline fill=\"none\" stroke=\"#000000\" points=\"174,-415.7792 174,-438.7792 \"/>\n<text text-anchor=\"middle\" x=\"184\" y=\"-423.5792\" font-family=\"Times,serif\" font-size=\"14.00\" fill=\"#000000\"> </text>\n</g>\n<!-- 7&#45;&gt;140476514039848 -->\n<g id=\"edge13\" class=\"edge\">\n<title>7&#45;&gt;140476514039848</title>\n<path fill=\"none\" stroke=\"#000000\" d=\"M184.7673,-476.8438C181.0687,-468.0164 176.6963,-457.5811 172.9199,-448.568\"/>\n<polygon fill=\"#000000\" stroke=\"#000000\" points=\"176.0696,-447.0283 168.977,-439.1577 169.6134,-449.7334 176.0696,-447.0283\"/>\n</g>\n<!-- 140476514040928 -->\n<g id=\"node13\" class=\"node\">\n<title>140476514040928</title>\n<polygon fill=\"none\" stroke=\"#000000\" points=\"212,-277.3528 212,-300.3528 276,-300.3528 276,-277.3528 212,-277.3528\"/>\n<text text-anchor=\"middle\" x=\"224\" y=\"-285.1528\" font-family=\"Times,serif\" font-size=\"14.00\" fill=\"#000000\">*</text>\n<polyline fill=\"none\" stroke=\"#000000\" points=\"236,-277.3528 236,-300.3528 \"/>\n<text text-anchor=\"middle\" x=\"246\" y=\"-285.1528\" font-family=\"Times,serif\" font-size=\"14.00\" fill=\"#000000\"> </text>\n<polyline fill=\"none\" stroke=\"#000000\" points=\"256,-277.3528 256,-300.3528 \"/>\n<text text-anchor=\"middle\" x=\"266\" y=\"-285.1528\" font-family=\"Times,serif\" font-size=\"14.00\" fill=\"#000000\"> </text>\n</g>\n<!-- 7&#45;&gt;140476514040928 -->\n<g id=\"edge16\" class=\"edge\">\n<title>7&#45;&gt;140476514040928</title>\n<path fill=\"none\" stroke=\"#000000\" d=\"M198.0765,-475.824C207.7697,-436.3595 228.8254,-350.6341 238.6945,-310.4533\"/>\n<polygon fill=\"#000000\" stroke=\"#000000\" points=\"242.1232,-311.167 241.1096,-300.6208 235.3253,-309.4972 242.1232,-311.167\"/>\n</g>\n<!-- 140476514039848&#45;&gt;1 -->\n<g id=\"edge15\" class=\"edge\">\n<title>140476514039848:p1&#45;&gt;1</title>\n<path fill=\"none\" stroke=\"#000000\" d=\"M184,-415.2792C184,-359.0897 184,-345.0423 184,-288.8528 184,-288.8528 184,-288.8528 184,-219.6396 184,-181.7553 194.5339,-139.2545 202.9043,-111.4628\"/>\n<polygon fill=\"#000000\" stroke=\"#000000\" points=\"206.3527,-112.1602 205.9799,-101.5719 199.6684,-110.0816 206.3527,-112.1602\"/>\n</g>\n<!-- 140476514039848&#45;&gt;5 -->\n<g id=\"edge14\" class=\"edge\">\n<title>140476514039848:p0&#45;&gt;5</title>\n<path fill=\"none\" stroke=\"#000000\" d=\"M164,-415.2792C164,-400.3309 154.3922,-386.9815 144.0556,-376.9449\"/>\n<polygon fill=\"#000000\" stroke=\"#000000\" points=\"146.3246,-374.2789 136.527,-370.2467 141.6717,-379.5087 146.3246,-374.2789\"/>\n</g>\n<!-- 140476514040928&#45;&gt;0 -->\n<g id=\"edge17\" class=\"edge\">\n<title>140476514040928:p0&#45;&gt;0</title>\n<path fill=\"none\" stroke=\"#000000\" d=\"M246,-276.8528C246,-257.0542 192.1041,-238.0963 156.5515,-227.7445\"/>\n<polygon fill=\"#000000\" stroke=\"#000000\" points=\"157.2038,-224.2917 146.6287,-224.9379 155.2987,-231.0275 157.2038,-224.2917\"/>\n</g>\n<!-- 140476514040928&#45;&gt;4 -->\n<g id=\"edge18\" class=\"edge\">\n<title>140476514040928:p1&#45;&gt;4</title>\n<path fill=\"none\" stroke=\"#000000\" d=\"M266,-276.8528C266,-268.0502 264.6225,-258.6448 262.801,-250.0556\"/>\n<polygon fill=\"#000000\" stroke=\"#000000\" points=\"266.146,-248.994 260.4216,-240.0788 259.337,-250.618 266.146,-248.994\"/>\n</g>\n</g>\n</svg>\n"
          },
          "metadata": {
            "tags": []
          },
          "execution_count": 347
        }
      ]
    },
    {
      "cell_type": "code",
      "metadata": {
        "colab": {
          "base_uri": "https://localhost:8080/",
          "height": 756
        },
        "id": "7_eX_B266pA5",
        "outputId": "8f360085-6cd2-4442-ab71-578df5e117df"
      },
      "source": [
        "apply_rules(eg, rules)"
      ],
      "execution_count": null,
      "outputs": [
        {
          "output_type": "stream",
          "text": [
            "VERSION 11\n",
            "e7 MATCHED (* x 1) -> x with {'x': e0}\n"
          ],
          "name": "stdout"
        },
        {
          "output_type": "execute_result",
          "data": {
            "text/plain": [
              "<__main__.EGraph at 0x7fc33cbe70b8>"
            ],
            "image/svg+xml": "<?xml version=\"1.0\" encoding=\"UTF-8\" standalone=\"no\"?>\n<!DOCTYPE svg PUBLIC \"-//W3C//DTD SVG 1.1//EN\"\n \"http://www.w3.org/Graphics/SVG/1.1/DTD/svg11.dtd\">\n<!-- Generated by graphviz version 2.40.1 (20161225.0304)\n -->\n<!-- Title: %3 Pages: 1 -->\n<svg width=\"348pt\" height=\"526pt\"\n viewBox=\"0.00 0.00 348.00 525.71\" xmlns=\"http://www.w3.org/2000/svg\" xmlns:xlink=\"http://www.w3.org/1999/xlink\">\n<g id=\"graph0\" class=\"graph\" transform=\"scale(1 1) rotate(0) translate(4 521.7056)\">\n<title>%3</title>\n<polygon fill=\"#ffffff\" stroke=\"transparent\" points=\"-4,4 -4,-521.7056 344,-521.7056 344,4 -4,4\"/>\n<!-- 0 -->\n<g id=\"node1\" class=\"node\">\n<title>0</title>\n<ellipse fill=\"none\" stroke=\"#000000\" cx=\"189\" cy=\"-496.4924\" rx=\"21.4286\" ry=\"21.4286\"/>\n<text text-anchor=\"middle\" x=\"189\" y=\"-492.7924\" font-family=\"Times,serif\" font-size=\"14.00\" fill=\"#000000\">e0</text>\n</g>\n<!-- 140476514593240 -->\n<g id=\"node2\" class=\"node\">\n<title>140476514593240</title>\n<polygon fill=\"none\" stroke=\"#000000\" points=\"0,-415.7792 0,-438.7792 54,-438.7792 54,-415.7792 0,-415.7792\"/>\n<text text-anchor=\"middle\" x=\"27\" y=\"-423.5792\" font-family=\"Times,serif\" font-size=\"14.00\" fill=\"#000000\">a</text>\n</g>\n<!-- 0&#45;&gt;140476514593240 -->\n<g id=\"edge1\" class=\"edge\">\n<title>0&#45;&gt;140476514593240</title>\n<path fill=\"none\" stroke=\"#000000\" d=\"M169.459,-488.1437C143.264,-476.9521 96.2655,-456.8723 63.4406,-442.8482\"/>\n<polygon fill=\"#000000\" stroke=\"#000000\" points=\"64.7389,-439.5969 54.1679,-438.8865 61.9887,-446.034 64.7389,-439.5969\"/>\n</g>\n<!-- 140476514039848 -->\n<g id=\"node3\" class=\"node\">\n<title>140476514039848</title>\n<polygon fill=\"none\" stroke=\"#000000\" points=\"130,-415.7792 130,-438.7792 190,-438.7792 190,-415.7792 130,-415.7792\"/>\n<text text-anchor=\"middle\" x=\"140\" y=\"-423.5792\" font-family=\"Times,serif\" font-size=\"14.00\" fill=\"#000000\">/</text>\n<polyline fill=\"none\" stroke=\"#000000\" points=\"150,-415.7792 150,-438.7792 \"/>\n<text text-anchor=\"middle\" x=\"160\" y=\"-423.5792\" font-family=\"Times,serif\" font-size=\"14.00\" fill=\"#000000\"> </text>\n<polyline fill=\"none\" stroke=\"#000000\" points=\"170,-415.7792 170,-438.7792 \"/>\n<text text-anchor=\"middle\" x=\"180\" y=\"-423.5792\" font-family=\"Times,serif\" font-size=\"14.00\" fill=\"#000000\"> </text>\n</g>\n<!-- 0&#45;&gt;140476514039848 -->\n<g id=\"edge2\" class=\"edge\">\n<title>0&#45;&gt;140476514039848</title>\n<path fill=\"none\" stroke=\"#000000\" d=\"M180.7673,-476.8438C177.0687,-468.0164 172.6963,-457.5811 168.9199,-448.568\"/>\n<polygon fill=\"#000000\" stroke=\"#000000\" points=\"172.0696,-447.0283 164.977,-439.1577 165.6134,-449.7334 172.0696,-447.0283\"/>\n</g>\n<!-- 140476514040928 -->\n<g id=\"node6\" class=\"node\">\n<title>140476514040928</title>\n<polygon fill=\"none\" stroke=\"#000000\" points=\"246,-415.7792 246,-438.7792 310,-438.7792 310,-415.7792 246,-415.7792\"/>\n<text text-anchor=\"middle\" x=\"258\" y=\"-423.5792\" font-family=\"Times,serif\" font-size=\"14.00\" fill=\"#000000\">*</text>\n<polyline fill=\"none\" stroke=\"#000000\" points=\"270,-415.7792 270,-438.7792 \"/>\n<text text-anchor=\"middle\" x=\"280\" y=\"-423.5792\" font-family=\"Times,serif\" font-size=\"14.00\" fill=\"#000000\"> </text>\n<polyline fill=\"none\" stroke=\"#000000\" points=\"290,-415.7792 290,-438.7792 \"/>\n<text text-anchor=\"middle\" x=\"300\" y=\"-423.5792\" font-family=\"Times,serif\" font-size=\"14.00\" fill=\"#000000\"> </text>\n</g>\n<!-- 0&#45;&gt;140476514040928 -->\n<g id=\"edge5\" class=\"edge\">\n<title>0&#45;&gt;140476514040928</title>\n<path fill=\"none\" stroke=\"#000000\" d=\"M206.1601,-483.1474C220.0542,-472.3423 239.7538,-457.0224 255.0111,-445.1571\"/>\n<polygon fill=\"#000000\" stroke=\"#000000\" points=\"257.22,-447.8732 262.9653,-438.9714 252.9227,-442.3474 257.22,-447.8732\"/>\n</g>\n<!-- 5 -->\n<g id=\"node4\" class=\"node\">\n<title>5</title>\n<ellipse fill=\"none\" stroke=\"#000000\" cx=\"131\" cy=\"-358.066\" rx=\"21.4286\" ry=\"21.4286\"/>\n<text text-anchor=\"middle\" x=\"131\" y=\"-354.366\" font-family=\"Times,serif\" font-size=\"14.00\" fill=\"#000000\">e5</text>\n</g>\n<!-- 140476514039848&#45;&gt;5 -->\n<g id=\"edge3\" class=\"edge\">\n<title>140476514039848:p0&#45;&gt;5</title>\n<path fill=\"none\" stroke=\"#000000\" d=\"M160,-415.2792C160,-403.971 155.437,-392.6318 149.931,-383.0654\"/>\n<polygon fill=\"#000000\" stroke=\"#000000\" points=\"152.8008,-381.0558 144.4812,-374.4957 146.894,-384.8121 152.8008,-381.0558\"/>\n</g>\n<!-- 1 -->\n<g id=\"node5\" class=\"node\">\n<title>1</title>\n<ellipse fill=\"none\" stroke=\"#000000\" cx=\"245\" cy=\"-81.2132\" rx=\"21.4286\" ry=\"21.4286\"/>\n<text text-anchor=\"middle\" x=\"245\" y=\"-77.5132\" font-family=\"Times,serif\" font-size=\"14.00\" fill=\"#000000\">e1</text>\n</g>\n<!-- 140476514039848&#45;&gt;1 -->\n<g id=\"edge4\" class=\"edge\">\n<title>140476514039848:p1&#45;&gt;1</title>\n<path fill=\"none\" stroke=\"#000000\" d=\"M180,-415.2792C180,-359.0897 180,-345.0423 180,-288.8528 180,-288.8528 180,-288.8528 180,-219.6396 180,-182.5702 182.7594,-171.7488 199,-138.4264 205.0201,-126.0745 214.1281,-113.979 222.6555,-104.1147\"/>\n<polygon fill=\"#000000\" stroke=\"#000000\" points=\"225.5134,-106.1713 229.6014,-96.3968 220.3102,-101.4886 225.5134,-106.1713\"/>\n</g>\n<!-- 140476514040568 -->\n<g id=\"node11\" class=\"node\">\n<title>140476514040568</title>\n<polygon fill=\"none\" stroke=\"#000000\" points=\"88,-277.3528 88,-300.3528 152,-300.3528 152,-277.3528 88,-277.3528\"/>\n<text text-anchor=\"middle\" x=\"100\" y=\"-285.1528\" font-family=\"Times,serif\" font-size=\"14.00\" fill=\"#000000\">*</text>\n<polyline fill=\"none\" stroke=\"#000000\" points=\"112,-277.3528 112,-300.3528 \"/>\n<text text-anchor=\"middle\" x=\"122\" y=\"-285.1528\" font-family=\"Times,serif\" font-size=\"14.00\" fill=\"#000000\"> </text>\n<polyline fill=\"none\" stroke=\"#000000\" points=\"132,-277.3528 132,-300.3528 \"/>\n<text text-anchor=\"middle\" x=\"142\" y=\"-285.1528\" font-family=\"Times,serif\" font-size=\"14.00\" fill=\"#000000\"> </text>\n</g>\n<!-- 5&#45;&gt;140476514040568 -->\n<g id=\"edge13\" class=\"edge\">\n<title>5&#45;&gt;140476514040568</title>\n<path fill=\"none\" stroke=\"#000000\" d=\"M127.6399,-336.9237C126.3219,-328.6311 124.8098,-319.1166 123.4804,-310.7522\"/>\n<polygon fill=\"#000000\" stroke=\"#000000\" points=\"126.8962,-309.9451 121.8699,-300.6184 119.983,-311.0438 126.8962,-309.9451\"/>\n</g>\n<!-- 140476514041432 -->\n<g id=\"node12\" class=\"node\">\n<title>140476514041432</title>\n<polygon fill=\"none\" stroke=\"#000000\" points=\"208.5,-277.3528 208.5,-300.3528 281.5,-300.3528 281.5,-277.3528 208.5,-277.3528\"/>\n<text text-anchor=\"middle\" x=\"225\" y=\"-285.1528\" font-family=\"Times,serif\" font-size=\"14.00\" fill=\"#000000\">&lt;&lt;</text>\n<polyline fill=\"none\" stroke=\"#000000\" points=\"241.5,-277.3528 241.5,-300.3528 \"/>\n<text text-anchor=\"middle\" x=\"251.5\" y=\"-285.1528\" font-family=\"Times,serif\" font-size=\"14.00\" fill=\"#000000\"> </text>\n<polyline fill=\"none\" stroke=\"#000000\" points=\"261.5,-277.3528 261.5,-300.3528 \"/>\n<text text-anchor=\"middle\" x=\"271.5\" y=\"-285.1528\" font-family=\"Times,serif\" font-size=\"14.00\" fill=\"#000000\"> </text>\n</g>\n<!-- 5&#45;&gt;140476514041432 -->\n<g id=\"edge16\" class=\"edge\">\n<title>5&#45;&gt;140476514041432</title>\n<path fill=\"none\" stroke=\"#000000\" d=\"M149.3161,-346.9457C167.7102,-335.778 196.2807,-318.4319 217.4171,-305.5993\"/>\n<polygon fill=\"#000000\" stroke=\"#000000\" points=\"219.2376,-308.5886 225.9691,-300.4071 215.6048,-302.6051 219.2376,-308.5886\"/>\n</g>\n<!-- 140476514593312 -->\n<g id=\"node8\" class=\"node\">\n<title>140476514593312</title>\n<polygon fill=\"none\" stroke=\"#000000\" points=\"218,-.5 218,-23.5 272,-23.5 272,-.5 218,-.5\"/>\n<text text-anchor=\"middle\" x=\"245\" y=\"-8.3\" font-family=\"Times,serif\" font-size=\"14.00\" fill=\"#000000\">2</text>\n</g>\n<!-- 1&#45;&gt;140476514593312 -->\n<g id=\"edge8\" class=\"edge\">\n<title>1&#45;&gt;140476514593312</title>\n<path fill=\"none\" stroke=\"#000000\" d=\"M245,-59.6931C245,-51.4155 245,-41.9664 245,-33.6743\"/>\n<polygon fill=\"#000000\" stroke=\"#000000\" points=\"248.5001,-33.6359 245,-23.636 241.5001,-33.636 248.5001,-33.6359\"/>\n</g>\n<!-- 140476514040928&#45;&gt;0 -->\n<g id=\"edge6\" class=\"edge\">\n<title>140476514040928:p0&#45;&gt;0</title>\n<path fill=\"none\" stroke=\"#000000\" d=\"M280,-439.2792C280,-468.2748 246.4785,-483.1491 220.1261,-490.3625\"/>\n<polygon fill=\"#000000\" stroke=\"#000000\" points=\"218.9707,-487.0428 210.106,-492.8452 220.6542,-493.8374 218.9707,-487.0428\"/>\n</g>\n<!-- 4 -->\n<g id=\"node7\" class=\"node\">\n<title>4</title>\n<ellipse fill=\"none\" stroke=\"#000000\" cx=\"291\" cy=\"-219.6396\" rx=\"21.4286\" ry=\"21.4286\"/>\n<text text-anchor=\"middle\" x=\"291\" y=\"-215.9396\" font-family=\"Times,serif\" font-size=\"14.00\" fill=\"#000000\">e4</text>\n</g>\n<!-- 140476514040928&#45;&gt;4 -->\n<g id=\"edge7\" class=\"edge\">\n<title>140476514040928:p1&#45;&gt;4</title>\n<path fill=\"none\" stroke=\"#000000\" d=\"M300,-415.2792C300,-357.3166 296.0091,-289.7963 293.3424,-251.15\"/>\n<polygon fill=\"#000000\" stroke=\"#000000\" points=\"296.8249,-250.7763 292.6298,-241.0473 289.8422,-251.2688 296.8249,-250.7763\"/>\n</g>\n<!-- 140476514039488 -->\n<g id=\"node9\" class=\"node\">\n<title>140476514039488</title>\n<polygon fill=\"none\" stroke=\"#000000\" points=\"208,-138.9264 208,-161.9264 262,-161.9264 262,-138.9264 208,-138.9264\"/>\n<text text-anchor=\"middle\" x=\"235\" y=\"-146.7264\" font-family=\"Times,serif\" font-size=\"14.00\" fill=\"#000000\">1</text>\n</g>\n<!-- 4&#45;&gt;140476514039488 -->\n<g id=\"edge9\" class=\"edge\">\n<title>4&#45;&gt;140476514039488</title>\n<path fill=\"none\" stroke=\"#000000\" d=\"M277.444,-202.885C269.4527,-193.0082 259.2998,-180.4597 250.9278,-170.1124\"/>\n<polygon fill=\"#000000\" stroke=\"#000000\" points=\"253.4117,-167.6179 244.4008,-162.0453 247.9698,-172.0209 253.4117,-167.6179\"/>\n</g>\n<!-- 140476514039632 -->\n<g id=\"node10\" class=\"node\">\n<title>140476514039632</title>\n<polygon fill=\"none\" stroke=\"#000000\" points=\"280,-138.9264 280,-161.9264 340,-161.9264 340,-138.9264 280,-138.9264\"/>\n<text text-anchor=\"middle\" x=\"290\" y=\"-146.7264\" font-family=\"Times,serif\" font-size=\"14.00\" fill=\"#000000\">/</text>\n<polyline fill=\"none\" stroke=\"#000000\" points=\"300,-138.9264 300,-161.9264 \"/>\n<text text-anchor=\"middle\" x=\"310\" y=\"-146.7264\" font-family=\"Times,serif\" font-size=\"14.00\" fill=\"#000000\"> </text>\n<polyline fill=\"none\" stroke=\"#000000\" points=\"320,-138.9264 320,-161.9264 \"/>\n<text text-anchor=\"middle\" x=\"330\" y=\"-146.7264\" font-family=\"Times,serif\" font-size=\"14.00\" fill=\"#000000\"> </text>\n</g>\n<!-- 4&#45;&gt;140476514039632 -->\n<g id=\"edge10\" class=\"edge\">\n<title>4&#45;&gt;140476514039632</title>\n<path fill=\"none\" stroke=\"#000000\" d=\"M296.7006,-198.8734C299.032,-190.3808 301.7288,-180.5568 304.082,-171.9843\"/>\n<polygon fill=\"#000000\" stroke=\"#000000\" points=\"307.4623,-172.8919 306.7345,-162.3221 300.712,-171.0388 307.4623,-172.8919\"/>\n</g>\n<!-- 140476514039632&#45;&gt;1 -->\n<g id=\"edge11\" class=\"edge\">\n<title>140476514039632:p0&#45;&gt;1</title>\n<path fill=\"none\" stroke=\"#000000\" d=\"M310,-138.4264C310,-117.8775 291.4693,-102.9614 274.1964,-93.5213\"/>\n<polygon fill=\"#000000\" stroke=\"#000000\" points=\"275.3635,-90.1913 264.8553,-88.8391 272.2268,-96.4491 275.3635,-90.1913\"/>\n</g>\n<!-- 140476514039632&#45;&gt;1 -->\n<g id=\"edge12\" class=\"edge\">\n<title>140476514039632:p1&#45;&gt;1</title>\n<path fill=\"none\" stroke=\"#000000\" d=\"M330,-138.4264C330,-111.3789 300.0142,-96.2777 275.6626,-88.4735\"/>\n<polygon fill=\"#000000\" stroke=\"#000000\" points=\"276.5917,-85.0986 266.0112,-85.6511 274.6269,-91.8173 276.5917,-85.0986\"/>\n</g>\n<!-- 140476514040568&#45;&gt;0 -->\n<g id=\"edge14\" class=\"edge\">\n<title>140476514040568:p0&#45;&gt;0</title>\n<path fill=\"none\" stroke=\"#000000\" d=\"M122,-300.8528C122,-319.3761 105.8342,-318.9715 101,-336.8528 88.8951,-381.628 94.943,-400.9077 121,-439.2792 131.8383,-455.2397 148.313,-469.2588 162.3317,-479.4251\"/>\n<polygon fill=\"#000000\" stroke=\"#000000\" points=\"160.466,-482.391 170.6706,-485.24 164.47,-476.6491 160.466,-482.391\"/>\n</g>\n<!-- 140476514040568&#45;&gt;1 -->\n<g id=\"edge15\" class=\"edge\">\n<title>140476514040568:p1&#45;&gt;1</title>\n<path fill=\"none\" stroke=\"#000000\" d=\"M142,-276.8528C142,-214.4121 132.9469,-191.4012 166,-138.4264 177.9504,-119.2733 198.8778,-104.553 216.1919,-94.8427\"/>\n<polygon fill=\"#000000\" stroke=\"#000000\" points=\"218.1737,-97.753 225.3592,-89.9672 214.8867,-91.5727 218.1737,-97.753\"/>\n</g>\n<!-- 140476514041432&#45;&gt;0 -->\n<g id=\"edge17\" class=\"edge\">\n<title>140476514041432:p0&#45;&gt;0</title>\n<path fill=\"none\" stroke=\"#000000\" d=\"M252,-300.8528C252,-363.0887 222.7569,-431.3326 204.1176,-468.5096\"/>\n<polygon fill=\"#000000\" stroke=\"#000000\" points=\"200.8508,-467.21 199.4032,-477.7054 207.0799,-470.4035 200.8508,-467.21\"/>\n</g>\n<!-- 140476514041432&#45;&gt;4 -->\n<g id=\"edge18\" class=\"edge\">\n<title>140476514041432:p1&#45;&gt;4</title>\n<path fill=\"none\" stroke=\"#000000\" d=\"M272,-276.8528C272,-267.2713 274.4297,-257.2261 277.5515,-248.2741\"/>\n<polygon fill=\"#000000\" stroke=\"#000000\" points=\"280.9069,-249.3029 281.2774,-238.7145 274.3848,-246.7608 280.9069,-249.3029\"/>\n</g>\n</g>\n</svg>\n"
          },
          "metadata": {
            "tags": []
          },
          "execution_count": 348
        }
      ]
    },
    {
      "cell_type": "markdown",
      "metadata": {
        "id": "38iyfff37ch6"
      },
      "source": [
        "Notice how the version counter stops going up now because we have reached a saturated state:"
      ]
    },
    {
      "cell_type": "code",
      "metadata": {
        "colab": {
          "base_uri": "https://localhost:8080/",
          "height": 756
        },
        "id": "bK4bqh8v7c20",
        "outputId": "e0d48f6a-3c57-495a-8a9d-4c168f8c40f6"
      },
      "source": [
        "apply_rules(eg, rules)\n",
        "apply_rules(eg, rules)"
      ],
      "execution_count": null,
      "outputs": [
        {
          "output_type": "stream",
          "text": [
            "VERSION 12\n",
            "VERSION 12\n"
          ],
          "name": "stdout"
        },
        {
          "output_type": "execute_result",
          "data": {
            "text/plain": [
              "<__main__.EGraph at 0x7fc33cbe70b8>"
            ],
            "image/svg+xml": "<?xml version=\"1.0\" encoding=\"UTF-8\" standalone=\"no\"?>\n<!DOCTYPE svg PUBLIC \"-//W3C//DTD SVG 1.1//EN\"\n \"http://www.w3.org/Graphics/SVG/1.1/DTD/svg11.dtd\">\n<!-- Generated by graphviz version 2.40.1 (20161225.0304)\n -->\n<!-- Title: %3 Pages: 1 -->\n<svg width=\"348pt\" height=\"526pt\"\n viewBox=\"0.00 0.00 348.00 525.71\" xmlns=\"http://www.w3.org/2000/svg\" xmlns:xlink=\"http://www.w3.org/1999/xlink\">\n<g id=\"graph0\" class=\"graph\" transform=\"scale(1 1) rotate(0) translate(4 521.7056)\">\n<title>%3</title>\n<polygon fill=\"#ffffff\" stroke=\"transparent\" points=\"-4,4 -4,-521.7056 344,-521.7056 344,4 -4,4\"/>\n<!-- 0 -->\n<g id=\"node1\" class=\"node\">\n<title>0</title>\n<ellipse fill=\"none\" stroke=\"#000000\" cx=\"189\" cy=\"-496.4924\" rx=\"21.4286\" ry=\"21.4286\"/>\n<text text-anchor=\"middle\" x=\"189\" y=\"-492.7924\" font-family=\"Times,serif\" font-size=\"14.00\" fill=\"#000000\">e0</text>\n</g>\n<!-- 140476514593240 -->\n<g id=\"node2\" class=\"node\">\n<title>140476514593240</title>\n<polygon fill=\"none\" stroke=\"#000000\" points=\"0,-415.7792 0,-438.7792 54,-438.7792 54,-415.7792 0,-415.7792\"/>\n<text text-anchor=\"middle\" x=\"27\" y=\"-423.5792\" font-family=\"Times,serif\" font-size=\"14.00\" fill=\"#000000\">a</text>\n</g>\n<!-- 0&#45;&gt;140476514593240 -->\n<g id=\"edge1\" class=\"edge\">\n<title>0&#45;&gt;140476514593240</title>\n<path fill=\"none\" stroke=\"#000000\" d=\"M169.459,-488.1437C143.264,-476.9521 96.2655,-456.8723 63.4406,-442.8482\"/>\n<polygon fill=\"#000000\" stroke=\"#000000\" points=\"64.7389,-439.5969 54.1679,-438.8865 61.9887,-446.034 64.7389,-439.5969\"/>\n</g>\n<!-- 140476514039848 -->\n<g id=\"node3\" class=\"node\">\n<title>140476514039848</title>\n<polygon fill=\"none\" stroke=\"#000000\" points=\"130,-415.7792 130,-438.7792 190,-438.7792 190,-415.7792 130,-415.7792\"/>\n<text text-anchor=\"middle\" x=\"140\" y=\"-423.5792\" font-family=\"Times,serif\" font-size=\"14.00\" fill=\"#000000\">/</text>\n<polyline fill=\"none\" stroke=\"#000000\" points=\"150,-415.7792 150,-438.7792 \"/>\n<text text-anchor=\"middle\" x=\"160\" y=\"-423.5792\" font-family=\"Times,serif\" font-size=\"14.00\" fill=\"#000000\"> </text>\n<polyline fill=\"none\" stroke=\"#000000\" points=\"170,-415.7792 170,-438.7792 \"/>\n<text text-anchor=\"middle\" x=\"180\" y=\"-423.5792\" font-family=\"Times,serif\" font-size=\"14.00\" fill=\"#000000\"> </text>\n</g>\n<!-- 0&#45;&gt;140476514039848 -->\n<g id=\"edge2\" class=\"edge\">\n<title>0&#45;&gt;140476514039848</title>\n<path fill=\"none\" stroke=\"#000000\" d=\"M180.7673,-476.8438C177.0687,-468.0164 172.6963,-457.5811 168.9199,-448.568\"/>\n<polygon fill=\"#000000\" stroke=\"#000000\" points=\"172.0696,-447.0283 164.977,-439.1577 165.6134,-449.7334 172.0696,-447.0283\"/>\n</g>\n<!-- 140476514040928 -->\n<g id=\"node6\" class=\"node\">\n<title>140476514040928</title>\n<polygon fill=\"none\" stroke=\"#000000\" points=\"246,-415.7792 246,-438.7792 310,-438.7792 310,-415.7792 246,-415.7792\"/>\n<text text-anchor=\"middle\" x=\"258\" y=\"-423.5792\" font-family=\"Times,serif\" font-size=\"14.00\" fill=\"#000000\">*</text>\n<polyline fill=\"none\" stroke=\"#000000\" points=\"270,-415.7792 270,-438.7792 \"/>\n<text text-anchor=\"middle\" x=\"280\" y=\"-423.5792\" font-family=\"Times,serif\" font-size=\"14.00\" fill=\"#000000\"> </text>\n<polyline fill=\"none\" stroke=\"#000000\" points=\"290,-415.7792 290,-438.7792 \"/>\n<text text-anchor=\"middle\" x=\"300\" y=\"-423.5792\" font-family=\"Times,serif\" font-size=\"14.00\" fill=\"#000000\"> </text>\n</g>\n<!-- 0&#45;&gt;140476514040928 -->\n<g id=\"edge5\" class=\"edge\">\n<title>0&#45;&gt;140476514040928</title>\n<path fill=\"none\" stroke=\"#000000\" d=\"M206.1601,-483.1474C220.0542,-472.3423 239.7538,-457.0224 255.0111,-445.1571\"/>\n<polygon fill=\"#000000\" stroke=\"#000000\" points=\"257.22,-447.8732 262.9653,-438.9714 252.9227,-442.3474 257.22,-447.8732\"/>\n</g>\n<!-- 5 -->\n<g id=\"node4\" class=\"node\">\n<title>5</title>\n<ellipse fill=\"none\" stroke=\"#000000\" cx=\"131\" cy=\"-358.066\" rx=\"21.4286\" ry=\"21.4286\"/>\n<text text-anchor=\"middle\" x=\"131\" y=\"-354.366\" font-family=\"Times,serif\" font-size=\"14.00\" fill=\"#000000\">e5</text>\n</g>\n<!-- 140476514039848&#45;&gt;5 -->\n<g id=\"edge3\" class=\"edge\">\n<title>140476514039848:p0&#45;&gt;5</title>\n<path fill=\"none\" stroke=\"#000000\" d=\"M160,-415.2792C160,-403.971 155.437,-392.6318 149.931,-383.0654\"/>\n<polygon fill=\"#000000\" stroke=\"#000000\" points=\"152.8008,-381.0558 144.4812,-374.4957 146.894,-384.8121 152.8008,-381.0558\"/>\n</g>\n<!-- 1 -->\n<g id=\"node5\" class=\"node\">\n<title>1</title>\n<ellipse fill=\"none\" stroke=\"#000000\" cx=\"245\" cy=\"-81.2132\" rx=\"21.4286\" ry=\"21.4286\"/>\n<text text-anchor=\"middle\" x=\"245\" y=\"-77.5132\" font-family=\"Times,serif\" font-size=\"14.00\" fill=\"#000000\">e1</text>\n</g>\n<!-- 140476514039848&#45;&gt;1 -->\n<g id=\"edge4\" class=\"edge\">\n<title>140476514039848:p1&#45;&gt;1</title>\n<path fill=\"none\" stroke=\"#000000\" d=\"M180,-415.2792C180,-359.0897 180,-345.0423 180,-288.8528 180,-288.8528 180,-288.8528 180,-219.6396 180,-182.5702 182.7594,-171.7488 199,-138.4264 205.0201,-126.0745 214.1281,-113.979 222.6555,-104.1147\"/>\n<polygon fill=\"#000000\" stroke=\"#000000\" points=\"225.5134,-106.1713 229.6014,-96.3968 220.3102,-101.4886 225.5134,-106.1713\"/>\n</g>\n<!-- 140476514040568 -->\n<g id=\"node11\" class=\"node\">\n<title>140476514040568</title>\n<polygon fill=\"none\" stroke=\"#000000\" points=\"88,-277.3528 88,-300.3528 152,-300.3528 152,-277.3528 88,-277.3528\"/>\n<text text-anchor=\"middle\" x=\"100\" y=\"-285.1528\" font-family=\"Times,serif\" font-size=\"14.00\" fill=\"#000000\">*</text>\n<polyline fill=\"none\" stroke=\"#000000\" points=\"112,-277.3528 112,-300.3528 \"/>\n<text text-anchor=\"middle\" x=\"122\" y=\"-285.1528\" font-family=\"Times,serif\" font-size=\"14.00\" fill=\"#000000\"> </text>\n<polyline fill=\"none\" stroke=\"#000000\" points=\"132,-277.3528 132,-300.3528 \"/>\n<text text-anchor=\"middle\" x=\"142\" y=\"-285.1528\" font-family=\"Times,serif\" font-size=\"14.00\" fill=\"#000000\"> </text>\n</g>\n<!-- 5&#45;&gt;140476514040568 -->\n<g id=\"edge13\" class=\"edge\">\n<title>5&#45;&gt;140476514040568</title>\n<path fill=\"none\" stroke=\"#000000\" d=\"M127.6399,-336.9237C126.3219,-328.6311 124.8098,-319.1166 123.4804,-310.7522\"/>\n<polygon fill=\"#000000\" stroke=\"#000000\" points=\"126.8962,-309.9451 121.8699,-300.6184 119.983,-311.0438 126.8962,-309.9451\"/>\n</g>\n<!-- 140476514041432 -->\n<g id=\"node12\" class=\"node\">\n<title>140476514041432</title>\n<polygon fill=\"none\" stroke=\"#000000\" points=\"208.5,-277.3528 208.5,-300.3528 281.5,-300.3528 281.5,-277.3528 208.5,-277.3528\"/>\n<text text-anchor=\"middle\" x=\"225\" y=\"-285.1528\" font-family=\"Times,serif\" font-size=\"14.00\" fill=\"#000000\">&lt;&lt;</text>\n<polyline fill=\"none\" stroke=\"#000000\" points=\"241.5,-277.3528 241.5,-300.3528 \"/>\n<text text-anchor=\"middle\" x=\"251.5\" y=\"-285.1528\" font-family=\"Times,serif\" font-size=\"14.00\" fill=\"#000000\"> </text>\n<polyline fill=\"none\" stroke=\"#000000\" points=\"261.5,-277.3528 261.5,-300.3528 \"/>\n<text text-anchor=\"middle\" x=\"271.5\" y=\"-285.1528\" font-family=\"Times,serif\" font-size=\"14.00\" fill=\"#000000\"> </text>\n</g>\n<!-- 5&#45;&gt;140476514041432 -->\n<g id=\"edge16\" class=\"edge\">\n<title>5&#45;&gt;140476514041432</title>\n<path fill=\"none\" stroke=\"#000000\" d=\"M149.3161,-346.9457C167.7102,-335.778 196.2807,-318.4319 217.4171,-305.5993\"/>\n<polygon fill=\"#000000\" stroke=\"#000000\" points=\"219.2376,-308.5886 225.9691,-300.4071 215.6048,-302.6051 219.2376,-308.5886\"/>\n</g>\n<!-- 140476514593312 -->\n<g id=\"node8\" class=\"node\">\n<title>140476514593312</title>\n<polygon fill=\"none\" stroke=\"#000000\" points=\"218,-.5 218,-23.5 272,-23.5 272,-.5 218,-.5\"/>\n<text text-anchor=\"middle\" x=\"245\" y=\"-8.3\" font-family=\"Times,serif\" font-size=\"14.00\" fill=\"#000000\">2</text>\n</g>\n<!-- 1&#45;&gt;140476514593312 -->\n<g id=\"edge8\" class=\"edge\">\n<title>1&#45;&gt;140476514593312</title>\n<path fill=\"none\" stroke=\"#000000\" d=\"M245,-59.6931C245,-51.4155 245,-41.9664 245,-33.6743\"/>\n<polygon fill=\"#000000\" stroke=\"#000000\" points=\"248.5001,-33.6359 245,-23.636 241.5001,-33.636 248.5001,-33.6359\"/>\n</g>\n<!-- 140476514040928&#45;&gt;0 -->\n<g id=\"edge6\" class=\"edge\">\n<title>140476514040928:p0&#45;&gt;0</title>\n<path fill=\"none\" stroke=\"#000000\" d=\"M280,-439.2792C280,-468.2748 246.4785,-483.1491 220.1261,-490.3625\"/>\n<polygon fill=\"#000000\" stroke=\"#000000\" points=\"218.9707,-487.0428 210.106,-492.8452 220.6542,-493.8374 218.9707,-487.0428\"/>\n</g>\n<!-- 4 -->\n<g id=\"node7\" class=\"node\">\n<title>4</title>\n<ellipse fill=\"none\" stroke=\"#000000\" cx=\"291\" cy=\"-219.6396\" rx=\"21.4286\" ry=\"21.4286\"/>\n<text text-anchor=\"middle\" x=\"291\" y=\"-215.9396\" font-family=\"Times,serif\" font-size=\"14.00\" fill=\"#000000\">e4</text>\n</g>\n<!-- 140476514040928&#45;&gt;4 -->\n<g id=\"edge7\" class=\"edge\">\n<title>140476514040928:p1&#45;&gt;4</title>\n<path fill=\"none\" stroke=\"#000000\" d=\"M300,-415.2792C300,-357.3166 296.0091,-289.7963 293.3424,-251.15\"/>\n<polygon fill=\"#000000\" stroke=\"#000000\" points=\"296.8249,-250.7763 292.6298,-241.0473 289.8422,-251.2688 296.8249,-250.7763\"/>\n</g>\n<!-- 140476514039488 -->\n<g id=\"node9\" class=\"node\">\n<title>140476514039488</title>\n<polygon fill=\"none\" stroke=\"#000000\" points=\"208,-138.9264 208,-161.9264 262,-161.9264 262,-138.9264 208,-138.9264\"/>\n<text text-anchor=\"middle\" x=\"235\" y=\"-146.7264\" font-family=\"Times,serif\" font-size=\"14.00\" fill=\"#000000\">1</text>\n</g>\n<!-- 4&#45;&gt;140476514039488 -->\n<g id=\"edge9\" class=\"edge\">\n<title>4&#45;&gt;140476514039488</title>\n<path fill=\"none\" stroke=\"#000000\" d=\"M277.444,-202.885C269.4527,-193.0082 259.2998,-180.4597 250.9278,-170.1124\"/>\n<polygon fill=\"#000000\" stroke=\"#000000\" points=\"253.4117,-167.6179 244.4008,-162.0453 247.9698,-172.0209 253.4117,-167.6179\"/>\n</g>\n<!-- 140476514039632 -->\n<g id=\"node10\" class=\"node\">\n<title>140476514039632</title>\n<polygon fill=\"none\" stroke=\"#000000\" points=\"280,-138.9264 280,-161.9264 340,-161.9264 340,-138.9264 280,-138.9264\"/>\n<text text-anchor=\"middle\" x=\"290\" y=\"-146.7264\" font-family=\"Times,serif\" font-size=\"14.00\" fill=\"#000000\">/</text>\n<polyline fill=\"none\" stroke=\"#000000\" points=\"300,-138.9264 300,-161.9264 \"/>\n<text text-anchor=\"middle\" x=\"310\" y=\"-146.7264\" font-family=\"Times,serif\" font-size=\"14.00\" fill=\"#000000\"> </text>\n<polyline fill=\"none\" stroke=\"#000000\" points=\"320,-138.9264 320,-161.9264 \"/>\n<text text-anchor=\"middle\" x=\"330\" y=\"-146.7264\" font-family=\"Times,serif\" font-size=\"14.00\" fill=\"#000000\"> </text>\n</g>\n<!-- 4&#45;&gt;140476514039632 -->\n<g id=\"edge10\" class=\"edge\">\n<title>4&#45;&gt;140476514039632</title>\n<path fill=\"none\" stroke=\"#000000\" d=\"M296.7006,-198.8734C299.032,-190.3808 301.7288,-180.5568 304.082,-171.9843\"/>\n<polygon fill=\"#000000\" stroke=\"#000000\" points=\"307.4623,-172.8919 306.7345,-162.3221 300.712,-171.0388 307.4623,-172.8919\"/>\n</g>\n<!-- 140476514039632&#45;&gt;1 -->\n<g id=\"edge11\" class=\"edge\">\n<title>140476514039632:p0&#45;&gt;1</title>\n<path fill=\"none\" stroke=\"#000000\" d=\"M310,-138.4264C310,-117.8775 291.4693,-102.9614 274.1964,-93.5213\"/>\n<polygon fill=\"#000000\" stroke=\"#000000\" points=\"275.3635,-90.1913 264.8553,-88.8391 272.2268,-96.4491 275.3635,-90.1913\"/>\n</g>\n<!-- 140476514039632&#45;&gt;1 -->\n<g id=\"edge12\" class=\"edge\">\n<title>140476514039632:p1&#45;&gt;1</title>\n<path fill=\"none\" stroke=\"#000000\" d=\"M330,-138.4264C330,-111.3789 300.0142,-96.2777 275.6626,-88.4735\"/>\n<polygon fill=\"#000000\" stroke=\"#000000\" points=\"276.5917,-85.0986 266.0112,-85.6511 274.6269,-91.8173 276.5917,-85.0986\"/>\n</g>\n<!-- 140476514040568&#45;&gt;0 -->\n<g id=\"edge14\" class=\"edge\">\n<title>140476514040568:p0&#45;&gt;0</title>\n<path fill=\"none\" stroke=\"#000000\" d=\"M122,-300.8528C122,-319.3761 105.8342,-318.9715 101,-336.8528 88.8951,-381.628 94.943,-400.9077 121,-439.2792 131.8383,-455.2397 148.313,-469.2588 162.3317,-479.4251\"/>\n<polygon fill=\"#000000\" stroke=\"#000000\" points=\"160.466,-482.391 170.6706,-485.24 164.47,-476.6491 160.466,-482.391\"/>\n</g>\n<!-- 140476514040568&#45;&gt;1 -->\n<g id=\"edge15\" class=\"edge\">\n<title>140476514040568:p1&#45;&gt;1</title>\n<path fill=\"none\" stroke=\"#000000\" d=\"M142,-276.8528C142,-214.4121 132.9469,-191.4012 166,-138.4264 177.9504,-119.2733 198.8778,-104.553 216.1919,-94.8427\"/>\n<polygon fill=\"#000000\" stroke=\"#000000\" points=\"218.1737,-97.753 225.3592,-89.9672 214.8867,-91.5727 218.1737,-97.753\"/>\n</g>\n<!-- 140476514041432&#45;&gt;0 -->\n<g id=\"edge17\" class=\"edge\">\n<title>140476514041432:p0&#45;&gt;0</title>\n<path fill=\"none\" stroke=\"#000000\" d=\"M252,-300.8528C252,-363.0887 222.7569,-431.3326 204.1176,-468.5096\"/>\n<polygon fill=\"#000000\" stroke=\"#000000\" points=\"200.8508,-467.21 199.4032,-477.7054 207.0799,-470.4035 200.8508,-467.21\"/>\n</g>\n<!-- 140476514041432&#45;&gt;4 -->\n<g id=\"edge18\" class=\"edge\">\n<title>140476514041432:p1&#45;&gt;4</title>\n<path fill=\"none\" stroke=\"#000000\" d=\"M272,-276.8528C272,-267.2713 274.4297,-257.2261 277.5515,-248.2741\"/>\n<polygon fill=\"#000000\" stroke=\"#000000\" points=\"280.9069,-249.3029 281.2774,-238.7145 274.3848,-246.7608 280.9069,-249.3029\"/>\n</g>\n</g>\n</svg>\n"
          },
          "metadata": {
            "tags": []
          },
          "execution_count": 349
        }
      ]
    },
    {
      "cell_type": "markdown",
      "metadata": {
        "id": "nl77AAST9RnQ"
      },
      "source": [
        "Choosing the Best Options\n",
        "=========================\n",
        "\n",
        "Cool, but how do we get a node back out? We have to choose among all the options for each node. There are many ways to do this but here is a simple one that calculates the cost of each node as the cost of its children, plus a fixed amount depending operator. We have to iterate to convergence because there may be cycles in the egraph."
      ]
    },
    {
      "cell_type": "code",
      "metadata": {
        "id": "IBX3zMJG5tmP"
      },
      "source": [
        "import math\n",
        "e_cost = {\n",
        "    '+': 1,\n",
        "    '*': 2,\n",
        "    '/': 3,\n",
        "    '<<': 1,\n",
        "}\n",
        "def schedule(eg: 'EGraph', result: 'EGraphID') -> 'Node':\n",
        "    result = result.find()\n",
        "    eclasses = eg.eclasses()\n",
        "    # set each cost to infinity\n",
        "    cost = {eclass: (math.inf, None) for eclass in eclasses.keys()} # eclass -> (cost, enode)\n",
        "    changed = True\n",
        "    def enode_cost(enode):\n",
        "        return e_cost.get(enode.key, 0) + sum(cost[eid][0] for eid in enode.args)\n",
        "    # iterate until we settle, taking the lowest cost option\n",
        "    while changed:\n",
        "        changed = False\n",
        "        for eclass, enodes in eclasses.items():\n",
        "            new_cost = min((enode_cost(enode), enode) for enode in enodes)\n",
        "            if cost[eclass][0] != new_cost[0]:\n",
        "                changed = True\n",
        "            cost[eclass] = new_cost\n",
        "\n",
        "    def extract(eid):\n",
        "        enode = cost[eid][1]\n",
        "        return Node(enode.key, tuple(extract(a) for a in enode.args))\n",
        "\n",
        "    return extract(result)\n"
      ],
      "execution_count": null,
      "outputs": []
    },
    {
      "cell_type": "markdown",
      "metadata": {
        "id": "eGNLjx4a-aSh"
      },
      "source": [
        "Notice how at each iteration, we find better and better versions:"
      ]
    },
    {
      "cell_type": "code",
      "metadata": {
        "colab": {
          "base_uri": "https://localhost:8080/"
        },
        "id": "g-iZQ8Ce-eBn",
        "outputId": "13a007a6-3fa3-49fe-df37-10a7d9157b84"
      },
      "source": [
        "eg = EGraph()\n",
        "r = eg.add_node(exp(lambda a: (a * 2) / 2))\n",
        "\n",
        "while True:\n",
        "  version = eg.version\n",
        "  print('BEST ', schedule(eg, r))\n",
        "  apply_rules(eg, rules)\n",
        "  if version == eg.version:\n",
        "    break"
      ],
      "execution_count": null,
      "outputs": [
        {
          "output_type": "stream",
          "text": [
            "BEST  (/ (* a 2) 2)\n",
            "VERSION 4\n",
            "e2 MATCHED (* x 2) -> (<< x 1) with {'x': e0}\n",
            "e3 MATCHED (/ (* x y) z) -> (* x (/ y z)) with {'x': e0, 'y': e1, 'z': e1}\n",
            "BEST  (/ (<< a 1) 2)\n",
            "VERSION 10\n",
            "e6 MATCHED (/ x x) -> 1 with {'x': e1}\n",
            "BEST  (* a 1)\n",
            "VERSION 11\n",
            "e7 MATCHED (* x 1) -> x with {'x': e0}\n",
            "BEST  a\n",
            "VERSION 12\n"
          ],
          "name": "stdout"
        }
      ]
    },
    {
      "cell_type": "markdown",
      "metadata": {
        "id": "yCp3rBp9AVXR"
      },
      "source": [
        "More Info\n",
        "=========\n",
        "\n",
        "The paper (https://egraphs-good.github.io) is a pretty easy to follow resource for learning more, and it comes with an efficient Rust implementation."
      ]
    }
  ]
}